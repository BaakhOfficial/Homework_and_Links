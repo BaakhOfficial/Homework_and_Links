{
 "cells": [
  {
   "attachments": {},
   "cell_type": "markdown",
   "metadata": {},
   "source": [
    "Задание 1\n",
    "Даны 2 переменных, в которых хранятся строки произвольной длины: phrase_1 и phrase_2.\n",
    "Напишите код, который проверяет какая из этих строк длиннее."
   ]
  },
  {
   "cell_type": "code",
   "execution_count": 1,
   "metadata": {},
   "outputs": [
    {
     "name": "stdout",
     "output_type": "stream",
     "text": [
      "Фразы равной длины\n"
     ]
    }
   ],
   "source": [
    "# Input Values\n",
    "phrase_1 = input('Введите первую фразу')\n",
    "phrase_2 = input('Введите вторую фразу')\n",
    "\n",
    "#Calculate length once, so we should not make it more\n",
    "len1 = len(phrase_1)\n",
    "len2 = len(phrase_2)\n",
    "\n",
    "#Compare them and print a result\n",
    "if len1 > len2:\n",
    "    print (\"Фраза 2 длиннее фразы 1\")\n",
    "elif len1 < len2:\n",
    "    print (\"Фраза 2 длиннее фразы 1\")\n",
    "else:\n",
    "    print ('Фразы равной длины')"
   ]
  },
  {
   "attachments": {},
   "cell_type": "markdown",
   "metadata": {},
   "source": [
    "Задание 2\n",
    "Дана переменная, в которой хранится число (год). Необходимо написать программу, которая выведет, является ли данный год високосным или обычным."
   ]
  },
  {
   "cell_type": "code",
   "execution_count": 2,
   "metadata": {},
   "outputs": [
    {
     "name": "stdout",
     "output_type": "stream",
     "text": [
      "Обычный год\n"
     ]
    }
   ],
   "source": [
    "#Input a year\n",
    "year = int(input('Введите год'))\n",
    "\n",
    "#Creating boolean parameters based on number\n",
    "is_dividable_100 = year % 100 == 0\n",
    "is_dividable_4 = year % 4 == 0\n",
    "is_dividable_400 = year % 400 == 0\n",
    "\n",
    "#Print our result:\n",
    "if (is_dividable_4 and not is_dividable_100) or (is_dividable_100 and is_dividable_400):\n",
    "    print('Високосный год')\n",
    "elif is_dividable_100:\n",
    "    print('Обычный год')\n",
    "else:\n",
    "    print('Обычный год')"
   ]
  },
  {
   "attachments": {},
   "cell_type": "markdown",
   "metadata": {},
   "source": [
    "Задание 3\n",
    "Необходимо написать программу, которая будет запрашивать у пользователя месяц и дату рождения и выводить соответствующий знак зодиака."
   ]
  },
  {
   "cell_type": "code",
   "execution_count": 3,
   "metadata": {},
   "outputs": [
    {
     "name": "stdout",
     "output_type": "stream",
     "text": [
      "Знак зодиака - Лев, стихия - Огонь\n"
     ]
    }
   ],
   "source": [
    "# Yep, it is quite overengineered, but it was fun, so i decided to make this thing universal\n",
    "\n",
    "#Import for an exit() function\n",
    "import sys\n",
    "\n",
    "#Input of day\n",
    "day = input('Введите день вашего рождения:')\n",
    "\n",
    "#If input is not only a day, but a full date or day and month, we will split it\n",
    "#And will not ask for a month\n",
    "if len(day) > 2:\n",
    "    date = day.split(' ')\n",
    "    day = int(date[0])\n",
    "    month = date[1]\n",
    "else:\n",
    "    #If user wrote only DAY, then we will ask a month\n",
    "    month = input('Введите месяц вашего рождения:')\n",
    "\n",
    "#Check if a Day wrote correctly\n",
    "if day < 1 or day > 31:\n",
    "        sys.exit('Ошибка, введено некорректное значение дня')\n",
    "\n",
    "#Assigning variables\n",
    "lenm = len(month)\n",
    "nmonth = 0\n",
    "\n",
    "#Convertation to number and check if it's a correct value. First - checking if it is a number\n",
    "#Then searching exact month, understanding word case, based on unique detail in each month\n",
    "if lenm < 3:\n",
    "    nmonth = int(month)\n",
    "elif lenm < 9:\n",
    "    if month[1] == \"н\":\n",
    "        nmonth = 1\n",
    "    elif month[2] == \"в\":\n",
    "        nmonth = 2\n",
    "    elif month[1] == \"а\" and lenm > 3:\n",
    "        nmonth = 3\n",
    "    elif month[1] == \"п\":\n",
    "        nmonth = 4\n",
    "    elif lenm == 3:\n",
    "        nmonth = 5\n",
    "    elif month[-2] == \"н\":\n",
    "        nmonth = 6\n",
    "    elif month[-2] == \"л\":\n",
    "        nmonth = 7\n",
    "    elif month[1] == \"в\":\n",
    "        nmonth = 8\n",
    "    elif lenm == 8:\n",
    "        nmonth = 9\n",
    "    elif month[1] == \"к\":\n",
    "        nmonth = 10\n",
    "    elif lenm == 6:\n",
    "        nmonth = 11\n",
    "    elif lenm == 7:\n",
    "        nmonth = 12\n",
    "    else:\n",
    "        sys.exit('Ошибка, введено некорректное значение месяца')\n",
    "else:\n",
    "    sys.exit('Ошибка, введено некорректное значение месяца')\n",
    "\n",
    "# Understand and output exact sign\n",
    "if nmonth == 3 and day - 21 >= 0 or nmonth == 4 and day - 20 <= 0:\n",
    "    print(\"Знак зодиака - Овен, стихия - Огонь\")\n",
    "elif nmonth == 4 and day - 21 >= 0 or nmonth == 5 and day - 20 <= 0:\n",
    "    print(\"Знак зодиака - Телец, стихия - Земля\")\n",
    "elif nmonth == 5 and day - 21 >= 0 or nmonth == 6 and day - 21 <= 0:\n",
    "    print(\"Знак зодиака - Близнецы, стихия - Воздух\")\n",
    "elif nmonth == 6 and day - 22 >= 0 or nmonth == 7 and day - 22 <= 0:\n",
    "    print(\"Знак зодиака - Рак, стихия - Вода\")\n",
    "elif nmonth == 7 and day - 23 >= 0 or nmonth == 8 and day - 22 <= 0:\n",
    "    print(\"Знак зодиака - Лев, стихия - Огонь\")\n",
    "elif nmonth == 8 and day - 23 >= 0 or nmonth == 9 and day - 23 <= 0:\n",
    "    print(\"Знак зодиака - Дева, стихия - Земля\")\n",
    "elif nmonth == 9 and day - 24 >= 0 or nmonth == 10 and day - 23 <= 0:\n",
    "    print(\"Знак зодиака - Весы, стихия - Воздух\")\n",
    "elif nmonth == 10 and day - 24 >= 0 or nmonth == 11 and day - 22 <= 0:\n",
    "    print(\"Знак зодиака - Скорпион, стихия - Вода\")\n",
    "elif nmonth == 11 and day - 23 >= 0 or nmonth == 12 and day - 21 <= 0:\n",
    "    print(\"Знак зодиака - Стрелец, стихия - Огонь\")\n",
    "elif nmonth == 12 and day - 22 >= 0 or nmonth == 1 and day - 20 <= 0:\n",
    "    print(\"Знак зодиака - Козерог, стихия - Земля\")\n",
    "elif nmonth == 1 and day - 21 >= 0 or nmonth == 2 and day - 18 <= 0:\n",
    "    print(\"Знак зодиака - Водолей, стихия - Воздух\")\n",
    "elif nmonth == 1 and day - 19 >= 0 or nmonth == 2 and day - 20 <= 0:\n",
    "    print(\"Знак зодиака - Рыбы, стихия - Вода\")\n",
    "else:\n",
    "    sys.exit('Неизвестная ошибка при оценке знака зодиака')"
   ]
  },
  {
   "attachments": {},
   "cell_type": "markdown",
   "metadata": {},
   "source": [
    "Задание 4\n",
    "Вам нужно написать программу для подбора упаковок по размерам товара. Размеры (ширина, длина, высота) хранятся в переменных (в сантиметрах):\n",
    "\n",
    "Используйте следующие правила:\n",
    "\n",
    "если каждое из трех измерений менее или равно 15 сантиметрам, то выведите на экран \"Коробка №1\";\n",
    "если хотя бы одно из измерений больше 2 метров, то выводите \"Упаковка для лыж\";\n",
    "если хотя бы одно из измерений больше 15 сантиметров, но менее 50 сантиметров, то выводите \"Коробка №2\";\n",
    "во всех остальных случаях выводите \"Коробка №3\"."
   ]
  },
  {
   "cell_type": "code",
   "execution_count": 9,
   "metadata": {},
   "outputs": [
    {
     "name": "stdout",
     "output_type": "stream",
     "text": [
      "Упаковка для лыж\n"
     ]
    }
   ],
   "source": [
    "#Import for an exit() function\n",
    "import sys\n",
    "\n",
    "#Input values and check them\n",
    "try:\n",
    "    width = int(input('Введите ширину коробки в сантиметрах'))\n",
    "    length = int(input('Введите длину коробки в сантиметрах'))\n",
    "    height = int(input('Введите высоту коробки в сантиметрах'))\n",
    "    if width < 0 or length < 0 or height < 0:\n",
    "        print('Вы ввели некорректное значение, введите положительное значение больше 0')\n",
    "        sys.exit()\n",
    "except ValueError:\n",
    "    print('Вы ввели некорректное значение, введите числовое значение без иных символов')\n",
    "    sys.exit()\n",
    "\n",
    "# Checking which box are we need\n",
    "if width <= 15 and height  <= 15 and length <= 45:\n",
    "    print('Коробка 1')\n",
    "elif width > 200 or length > 200 or height > 200:\n",
    "    print('Упаковка для лыж')\n",
    "elif 50 > width > 15 or 50 > height > 15 or 50 > length > 15:\n",
    "    print('Коробка 2')\n",
    "else:\n",
    "    print('Коробка 3')"
   ]
  },
  {
   "attachments": {},
   "cell_type": "markdown",
   "metadata": {},
   "source": [
    "Задание 5 (необязательное)\n",
    "Дана переменная, в которой хранится шестизначное число (номер проездного билета). Напишите программу, которая будет определять, является ли данный билет \"счастливым\". Билет считается счастливым, если сумма первых трех цифр совпадает с суммой последних трех цифр номера."
   ]
  },
  {
   "cell_type": "code",
   "execution_count": 10,
   "metadata": {},
   "outputs": [
    {
     "name": "stdout",
     "output_type": "stream",
     "text": [
      "Несчастливый билет\n"
     ]
    }
   ],
   "source": [
    "#Import for an exit() function\n",
    "import sys\n",
    "\n",
    "# Input and check type of a data\n",
    "try:\n",
    "    ticket_number = int(input('Введите номер билета'))\n",
    "except:\n",
    "    print('Неверное значение. Используйте исключительно числа')\n",
    "    sys.exit()\n",
    "\n",
    "# Check length of a number\n",
    "if len(str(ticket_number)) != 6:\n",
    "    print('Неверный номер билета, введите число из 6 положительных чисел')\n",
    "    sys.exit()\n",
    "\n",
    "# Check if it is a happy ticket\n",
    "if ticket_number // 1000 == ticket_number % 1000:\n",
    "    print('Счастливый билет')\n",
    "else:\n",
    "    print('Несчастливый билет')"
   ]
  },
  {
   "attachments": {},
   "cell_type": "markdown",
   "metadata": {},
   "source": [
    "Задание 6 (необязательное)\n",
    "Напишите программу, которая сможет вычислять площади трех фигур (круг, треугольник и прямоугольник). Тип фигуры запрашиваем через пользовательский ввод, после чего делаем запрос характеристик фигуры:\n",
    "\n",
    "если пользователь выбрал круг, запрашиваем его радиус,\n",
    "если треугольник – длины трех его сторон;\n",
    "если прямоугольник – длины двух его сторон."
   ]
  },
  {
   "cell_type": "code",
   "execution_count": 11,
   "metadata": {},
   "outputs": [
    {
     "name": "stdout",
     "output_type": "stream",
     "text": [
      "Площадь прямоугольника: 600 м²\n"
     ]
    }
   ],
   "source": [
    "#Again. SLIIIIIIIGHTLY overengineered. But I wanted to make this as user-friendly as possible\n",
    "\n",
    "#Import functions and libraries\n",
    "from math import sqrt, pi\n",
    "import sys\n",
    "\n",
    "#Figure type\n",
    "figure_type = input('Введите тип фигуры')\n",
    "\n",
    "#Check if type of figure written correctly\n",
    "try:\n",
    "    len(int(figure_type))\n",
    "except TypeError:\n",
    "    print('Неверное значение, введите название фигуры')\n",
    "    sys.exit()\n",
    "except:\n",
    "    pass\n",
    "\n",
    "lenf = len(figure_type)\n",
    "\n",
    "# We are don't need that. It is an idiot protection\n",
    "# If user will decide to use cm for length and meters for height - it will be his mistake\n",
    "input_type = input('Какая мера будет использоваться для характеристик фигуры?')\n",
    "\n",
    "#Check just because\n",
    "try:\n",
    "    len(int(input_type))\n",
    "except TypeError:\n",
    "    print('Неверное значение, введите название меры измерения')\n",
    "    sys.exit()\n",
    "except:\n",
    "    pass\n",
    "\n",
    "# Checking type of a figure and calculating an area\n",
    "if lenf == 4:\n",
    "    #It is needed to check if it is correct insert\n",
    "    try:\n",
    "        radius = int(input('Введите радиус круга'))\n",
    "    except:\n",
    "        print('Неверное значение, показаьтель вводится числами без приставки', input_type)\n",
    "        sys.exit()\n",
    "    # Calculation\n",
    "    area = round(abs(pi * (radius ** 2)))\n",
    "    print('Площадь круга: ', area, ' ', input_type, '²', sep=\"\")\n",
    "\n",
    "#That technique repeats for a triangle\n",
    "elif lenf == 11:\n",
    "    try:\n",
    "        a_side = int(input('Введите длину стороны A:'))\n",
    "        b_side = int(input('Введите длину стороны B:'))\n",
    "        c_side = int(input('Введите длину стороны C:'))\n",
    "    except:\n",
    "        print('Неверное значение, показаьтели вводится числами без приставки', input_type)\n",
    "        sys.exit()\n",
    "    half_perimeter = (a_side * b_side * c_side) / 2\n",
    "    area = round(abs(sqrt(half_perimeter * (half_perimeter - a_side)*(half_perimeter - b_side)*(half_perimeter - c_side))), 2)\n",
    "    print('Площадь треугольника: ', area, ' ', input_type, '²', sep=\"\")\n",
    "\n",
    "#And for a rectangle\n",
    "elif lenf == 13:\n",
    "    try:\n",
    "        length = int(input('Введите длину прямоугольника:'))\n",
    "        width = int(input('Введите ширину прямоугольника:'))\n",
    "    except:\n",
    "        print('Неверное значение, показатели вводится числами без приставки', input_type)\n",
    "        sys.exit()\n",
    "    area = round(abs(length * width), 2)\n",
    "    print('Площадь прямоугольника: ', area, ' ', input_type, '²', sep=\"\")\n",
    "\n",
    "#If anything else was written in a figure_type\n",
    "else:\n",
    "    print('Вы ввели некорректный тип фигуры\\n')\n",
    "    print('На данный момент поддерживаются такие фигуры, как:')\n",
    "    print('- Прямоугольник')\n",
    "    print('- Треугольник')\n",
    "    print('- Круг')"
   ]
  },
  {
   "cell_type": "code",
   "execution_count": null,
   "metadata": {},
   "outputs": [],
   "source": []
  }
 ],
 "metadata": {
  "kernelspec": {
   "display_name": "Python 3",
   "language": "python",
   "name": "python3"
  },
  "language_info": {
   "codemirror_mode": {
    "name": "ipython",
    "version": 3
   },
   "file_extension": ".py",
   "mimetype": "text/x-python",
   "name": "python",
   "nbconvert_exporter": "python",
   "pygments_lexer": "ipython3",
   "version": "3.10.9 (tags/v3.10.9:1dd9be6, Dec  6 2022, 20:01:21) [MSC v.1934 64 bit (AMD64)]"
  },
  "orig_nbformat": 4,
  "vscode": {
   "interpreter": {
    "hash": "46d9769e4a03f9c8a0d013aecc28fbd7cd74358c3b1961e5530525279813198c"
   }
  }
 },
 "nbformat": 4,
 "nbformat_minor": 2
}
