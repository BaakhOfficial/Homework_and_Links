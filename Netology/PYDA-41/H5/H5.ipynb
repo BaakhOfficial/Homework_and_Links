{
 "cells": [
  {
   "attachments": {},
   "cell_type": "markdown",
   "metadata": {},
   "source": [
    "Let's find a name of our file"
   ]
  },
  {
   "cell_type": "code",
   "execution_count": 1,
   "metadata": {},
   "outputs": [
    {
     "data": {
      "text/plain": [
       "['funnel.csv',\n",
       " 'H5.ipynb',\n",
       " 'purchases.txt',\n",
       " 'purchase_log.txt',\n",
       " 'Read-write and pip.ipynb',\n",
       " 'visit_log.csv']"
      ]
     },
     "execution_count": 1,
     "metadata": {},
     "output_type": "execute_result"
    }
   ],
   "source": [
    "import os\n",
    "os.listdir()"
   ]
  },
  {
   "attachments": {},
   "cell_type": "markdown",
   "metadata": {},
   "source": [
    "Open it"
   ]
  },
  {
   "cell_type": "code",
   "execution_count": 2,
   "metadata": {},
   "outputs": [
    {
     "ename": "UnicodeDecodeError",
     "evalue": "'charmap' codec can't decode byte 0x8f in position 285: character maps to <undefined>",
     "output_type": "error",
     "traceback": [
      "\u001b[1;31m---------------------------------------------------------------------------\u001b[0m",
      "\u001b[1;31mUnicodeDecodeError\u001b[0m                        Traceback (most recent call last)",
      "Cell \u001b[1;32mIn[2], line 2\u001b[0m\n\u001b[0;32m      1\u001b[0m \u001b[39mwith\u001b[39;00m \u001b[39mopen\u001b[39m(\u001b[39m'\u001b[39m\u001b[39mpurchase_log.txt\u001b[39m\u001b[39m'\u001b[39m, \u001b[39m'\u001b[39m\u001b[39mr\u001b[39m\u001b[39m'\u001b[39m) \u001b[39mas\u001b[39;00m main_read_file:\n\u001b[1;32m----> 2\u001b[0m     \u001b[39mfor\u001b[39;00m i, line \u001b[39min\u001b[39;00m \u001b[39menumerate\u001b[39m(main_read_file):\n\u001b[0;32m      3\u001b[0m         line \u001b[39m=\u001b[39m line\u001b[39m.\u001b[39mstrip()\n\u001b[0;32m      4\u001b[0m         \u001b[39mprint\u001b[39m(i, line)\n",
      "File \u001b[1;32mC:\\Program Files\\WindowsApps\\PythonSoftwareFoundation.Python.3.10_3.10.2544.0_x64__qbz5n2kfra8p0\\lib\\encodings\\cp1252.py:23\u001b[0m, in \u001b[0;36mIncrementalDecoder.decode\u001b[1;34m(self, input, final)\u001b[0m\n\u001b[0;32m     22\u001b[0m \u001b[39mdef\u001b[39;00m \u001b[39mdecode\u001b[39m(\u001b[39mself\u001b[39m, \u001b[39minput\u001b[39m, final\u001b[39m=\u001b[39m\u001b[39mFalse\u001b[39;00m):\n\u001b[1;32m---> 23\u001b[0m     \u001b[39mreturn\u001b[39;00m codecs\u001b[39m.\u001b[39;49mcharmap_decode(\u001b[39minput\u001b[39;49m,\u001b[39mself\u001b[39;49m\u001b[39m.\u001b[39;49merrors,decoding_table)[\u001b[39m0\u001b[39m]\n",
      "\u001b[1;31mUnicodeDecodeError\u001b[0m: 'charmap' codec can't decode byte 0x8f in position 285: character maps to <undefined>"
     ]
    }
   ],
   "source": [
    "with open('purchase_log.txt', 'r') as main_read_file:\n",
    "    for i, line in enumerate(main_read_file):\n",
    "        line = line.strip()\n",
    "        print(i, line)\n",
    "        if i > 9: break"
   ]
  },
  {
   "attachments": {},
   "cell_type": "markdown",
   "metadata": {},
   "source": [
    "We must understand an encoding of a file"
   ]
  },
  {
   "cell_type": "code",
   "execution_count": 3,
   "metadata": {},
   "outputs": [
    {
     "name": "stdout",
     "output_type": "stream",
     "text": [
      "utf-8\n"
     ]
    }
   ],
   "source": [
    "import chardet\n",
    "\n",
    "with open('purchase_log.txt', 'rb') as main_read_file:\n",
    "    temp_container = bytes()\n",
    "    for i, line in enumerate(main_read_file):\n",
    "        temp_container += line\n",
    "        if i > 9: break\n",
    "    charmap = bytes(temp_container)\n",
    "    print(chardet.detect(charmap)['encoding'])"
   ]
  },
  {
   "attachments": {},
   "cell_type": "markdown",
   "metadata": {},
   "source": [
    "So it is a utf-8. Let's check that"
   ]
  },
  {
   "cell_type": "code",
   "execution_count": 4,
   "metadata": {},
   "outputs": [
    {
     "name": "stdout",
     "output_type": "stream",
     "text": [
      "0 {\"user_id\": \"user_id\", \"category\": \"category\"}\n",
      "1 {\"user_id\": \"1840e0b9d4\", \"category\": \"Продукты\"}\n",
      "2 {\"user_id\": \"4e4f90fcfb\", \"category\": \"Электроника\"}\n",
      "3 {\"user_id\": \"afea8d72fc\", \"category\": \"Электроника\"}\n",
      "4 {\"user_id\": \"373a6055fe\", \"category\": \"Бытовая техника\"}\n",
      "5 {\"user_id\": \"9b2ab046f3\", \"category\": \"Электроника\"}\n",
      "6 {\"user_id\": \"9f39d307c3\", \"category\": \"Электроника\"}\n",
      "7 {\"user_id\": \"44edeffc91\", \"category\": \"Продукты\"}\n",
      "8 {\"user_id\": \"704474fa2d\", \"category\": \"Продукты\"}\n",
      "9 {\"user_id\": \"1de31be403\", \"category\": \"Бытовая техника\"}\n",
      "10 {\"user_id\": \"b71f36a5e4\", \"category\": \"Продукты\"}\n"
     ]
    }
   ],
   "source": [
    "with open('purchase_log.txt', 'r', encoding = 'utf-8') as main_read_file:\n",
    "    for i, line in enumerate(main_read_file):\n",
    "        line = line.strip()\n",
    "        print(i, line)\n",
    "        if i > 9: break"
   ]
  },
  {
   "attachments": {},
   "cell_type": "markdown",
   "metadata": {},
   "source": [
    "Works just fine. Our task is:\n",
    "\n",
    "Переведите содержимое файла purchase_log.txt в словарь purchases вида:\n",
    "{‘1840e0b9d4’: ‘Продукты’, …}"
   ]
  },
  {
   "cell_type": "code",
   "execution_count": 5,
   "metadata": {},
   "outputs": [
    {
     "name": "stdout",
     "output_type": "stream",
     "text": [
      "{'1840e0b9d4': 'Продукты'}\n",
      "{'1840e0b9d4': 'Продукты', '4e4f90fcfb': 'Электроника'}\n",
      "{'1840e0b9d4': 'Продукты', '4e4f90fcfb': 'Электроника', 'afea8d72fc': 'Электроника'}\n",
      "{'1840e0b9d4': 'Продукты', '4e4f90fcfb': 'Электроника', 'afea8d72fc': 'Электроника', '373a6055fe': 'Бытовая техника'}\n",
      "{'1840e0b9d4': 'Продукты', '4e4f90fcfb': 'Электроника', 'afea8d72fc': 'Электроника', '373a6055fe': 'Бытовая техника', '9b2ab046f3': 'Электроника'}\n",
      "{'1840e0b9d4': 'Продукты', '4e4f90fcfb': 'Электроника', 'afea8d72fc': 'Электроника', '373a6055fe': 'Бытовая техника', '9b2ab046f3': 'Электроника', '9f39d307c3': 'Электроника'}\n"
     ]
    }
   ],
   "source": [
    "import json\n",
    "\n",
    "with open('purchase_log.txt', 'r', encoding = 'utf-8') as main_read_file:\n",
    "    purchases = {}\n",
    "    for i, line in enumerate(main_read_file):\n",
    "        if i == 0: continue\n",
    "        line = line.strip()\n",
    "        temp_container = json.loads(line)\n",
    "        purchases[temp_container['user_id']] = temp_container['category']\n",
    "        print(purchases)\n",
    "        if i>5: break"
   ]
  },
  {
   "attachments": {},
   "cell_type": "markdown",
   "metadata": {},
   "source": [
    "We can see that everything works. Let's write that into a file\n",
    "\n",
    "I did that with only 5 lines because my VSCode crashes if i am trying to print full content of a file. It is a one very big line so..."
   ]
  },
  {
   "cell_type": "code",
   "execution_count": 6,
   "metadata": {},
   "outputs": [
    {
     "name": "stdout",
     "output_type": "stream",
     "text": [
      "{'1840e0b9d4': 'Продукты', '4e4f90fcfb': 'Электроника', 'afea8d72fc': 'Электроника', '373a6055fe': 'Бытовая техника', '9b2ab046f3': 'Электроника', '9f39d307c3': 'Электроника'}\n"
     ]
    }
   ],
   "source": [
    "# Write\n",
    "with open('purchase_log.txt', 'r', encoding = 'utf-8') as main_read_file:\n",
    "    purchases = {}\n",
    "    for i, line in enumerate(main_read_file):\n",
    "        if i == 0: continue\n",
    "        line = line.strip()\n",
    "        temp_container = json.loads(line)\n",
    "        purchases[temp_container['user_id']] = temp_container['category']\n",
    "        if i>5: break\n",
    "    with open('purchases.txt', 'w', encoding = 'utf-8') as write_file:\n",
    "            write_file.write(json.dumps(purchases))\n",
    "\n",
    "# Read our new file\n",
    "with open('purchases.txt', 'r', encoding = 'utf-8') as purchases:\n",
    "            dict_ = json.loads(purchases.read())\n",
    "            print(dict_)"
   ]
  },
  {
   "attachments": {},
   "cell_type": "markdown",
   "metadata": {},
   "source": [
    "If we want to do it in batch, here's how:"
   ]
  },
  {
   "cell_type": "code",
   "execution_count": 7,
   "metadata": {},
   "outputs": [
    {
     "name": "stdout",
     "output_type": "stream",
     "text": [
      "{'1840e0b9d4': 'Продукты', '4e4f90fcfb': 'Электроника', 'afea8d72fc': 'Электроника', '373a6055fe': 'Бытовая техника', '9b2ab046f3': 'Электроника', '9f39d307c3': 'Электроника'}\n"
     ]
    }
   ],
   "source": [
    "# Write\n",
    "with open('purchase_log.txt', 'r', encoding = 'utf-8') as main_read_file:\n",
    "    purchases = {}\n",
    "    temp_container = main_read_file.read().split('\\n')\n",
    "    for i, line in enumerate(temp_container):\n",
    "        if i == 0: continue\n",
    "        line = json.loads(line)\n",
    "        purchases[line['user_id']] = line['category']\n",
    "        if i>5: break\n",
    "    with open('purchases.txt', 'w', encoding = 'utf-8') as write_file:\n",
    "            write_file.write(json.dumps(purchases))\n",
    "\n",
    "# Read our new file\n",
    "with open('purchases.txt', 'r', encoding = 'utf-8') as purchases:\n",
    "            dict_ = json.loads(purchases.read())\n",
    "            print(dict_)"
   ]
  },
  {
   "attachments": {},
   "cell_type": "markdown",
   "metadata": {},
   "source": [
    "So, everything is fine. Writing it all in a file"
   ]
  },
  {
   "cell_type": "code",
   "execution_count": 8,
   "metadata": {},
   "outputs": [],
   "source": [
    "with open('purchase_log.txt', 'r', encoding = 'utf-8') as main_read_file:\n",
    "    purchases = {}\n",
    "    for i, line in enumerate(main_read_file):\n",
    "        if i == 0: continue\n",
    "        line = line.strip()\n",
    "        temp_container = json.loads(line)\n",
    "        purchases[temp_container['user_id']] = temp_container['category']\n",
    "    with open('purchases.txt', 'w', encoding = 'utf-8') as write_file:\n",
    "            write_file.write(json.dumps(purchases))"
   ]
  },
  {
   "attachments": {},
   "cell_type": "markdown",
   "metadata": {},
   "source": [
    "Second task:\n",
    "\n",
    "Для каждого user_id в файле visit_log.csv определите третий столбец с категорией покупки, если покупка была, сам файл visit_log.csv изменять не надо. Запишите в файл funnel.csv визиты из файла visit_log.csv, в которых были покупки с указанием категории."
   ]
  },
  {
   "cell_type": "code",
   "execution_count": 9,
   "metadata": {},
   "outputs": [
    {
     "data": {
      "text/plain": [
       "['funnel.csv',\n",
       " 'H5.ipynb',\n",
       " 'purchases.txt',\n",
       " 'purchase_log.txt',\n",
       " 'Read-write and pip.ipynb',\n",
       " 'visit_log.csv']"
      ]
     },
     "execution_count": 9,
     "metadata": {},
     "output_type": "execute_result"
    }
   ],
   "source": [
    "os.listdir()"
   ]
  },
  {
   "cell_type": "code",
   "execution_count": 10,
   "metadata": {},
   "outputs": [
    {
     "name": "stdout",
     "output_type": "stream",
     "text": [
      "0 user_id,source\n",
      "\n",
      "1 6450655ae8,other\n",
      "\n",
      "2 b4ea53e670,other\n",
      "\n",
      "3 0e37347152,other\n",
      "\n"
     ]
    }
   ],
   "source": [
    "with open('visit_log.csv', 'r') as csv_table:\n",
    "    for i, line in enumerate(csv_table):\n",
    "        print(i, line)\n",
    "        if i>2: break"
   ]
  },
  {
   "cell_type": "code",
   "execution_count": 11,
   "metadata": {},
   "outputs": [
    {
     "name": "stdout",
     "output_type": "stream",
     "text": [
      "0 user_id,source,category\n",
      "\n",
      "1 1840e0b9d4,other,Продукты\n",
      "\n",
      "2 4e4f90fcfb,context,Электроника\n",
      "\n",
      "3 afea8d72fc,other,Электроника\n",
      "\n"
     ]
    }
   ],
   "source": [
    "with open('purchases.txt', 'r', encoding = 'utf-8') as user_sales_file:\n",
    "    user_sales = json.loads(user_sales_file.read())\n",
    "    with open('visit_log.csv', 'r') as csv_table:\n",
    "        with open('funnel.csv', 'w', encoding='utf-8') as write_csv_table:\n",
    "            for i, line in enumerate(csv_table):\n",
    "                line = line.strip('\\n')\n",
    "                user_id, *_ = line.split(',')\n",
    "                if i == 0:\n",
    "                    write_line = line + ',category\\n'\n",
    "                    write_csv_table.write(write_line)\n",
    "                elif user_id in user_sales:\n",
    "                    write_line = line + ',' + user_sales[user_id] + '\\n'\n",
    "                    write_csv_table.write(write_line)\n",
    "\n",
    "with open('funnel.csv', 'r', encoding='utf-8') as test_file:\n",
    "    for i, line in enumerate(test_file):\n",
    "        print(i, line)\n",
    "        if i>2: break"
   ]
  }
 ],
 "metadata": {
  "kernelspec": {
   "display_name": "Python 3",
   "language": "python",
   "name": "python3"
  },
  "language_info": {
   "codemirror_mode": {
    "name": "ipython",
    "version": 3
   },
   "file_extension": ".py",
   "mimetype": "text/x-python",
   "name": "python",
   "nbconvert_exporter": "python",
   "pygments_lexer": "ipython3",
   "version": "3.10.9"
  },
  "orig_nbformat": 4,
  "vscode": {
   "interpreter": {
    "hash": "46d9769e4a03f9c8a0d013aecc28fbd7cd74358c3b1961e5530525279813198c"
   }
  }
 },
 "nbformat": 4,
 "nbformat_minor": 2
}
