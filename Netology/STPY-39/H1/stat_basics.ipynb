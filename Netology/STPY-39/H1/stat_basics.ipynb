{
 "cells": [
  {
   "cell_type": "markdown",
   "metadata": {},
   "source": [
    "# Домашнее задание к лекции \"Базовые понятия статистики\""
   ]
  },
  {
   "attachments": {},
   "cell_type": "markdown",
   "metadata": {},
   "source": [
    "Будем осуществлять работу с непростым [набором данных](https://raw.githubusercontent.com/obulygin/pyda_homeworks/master/statistics_basics/horse_data.csv) о состоянии здоровья лошадей, испытывающих кишечные колики. Цель – максимально корректно заполнить пропуски."
   ]
  },
  {
   "attachments": {},
   "cell_type": "markdown",
   "metadata": {},
   "source": [
    "### Задание 1. Загрузка данных\n",
    "\n",
    "Изучить представленный набор данных на основе [описания его столбцов](https://raw.githubusercontent.com/obulygin/pyda_homeworks/master/statistics_basics/horse_data.names), загрузить его и оставить 8 столбцов для дальнейшего изучения: `surgery?`, `Age`, `rectal temperature`, `pulse`, `respiratory rate`, `temperature of extremities`, `pain`, `outcome`. "
   ]
  },
  {
   "cell_type": "code",
   "execution_count": 1,
   "metadata": {},
   "outputs": [
    {
     "name": "stdout",
     "output_type": "stream",
     "text": [
      "['surgery', 'age', 'rectal temperature', 'pulse', 'respiratory rate', 'temperature of extremities', 'pain', 'outcome']\n"
     ]
    }
   ],
   "source": [
    "import pandas as pd\n",
    "import numpy as np\n",
    "#Мне было лениво менять символ в каждом слове с двух сторон, так что я сделал функцию, которая это сделала. Требуется это для того, чтобы заголовки вставить дальше\n",
    "a = str('`surgery?`, `age`, `rectal temperature`, `pulse`, `respiratory rate`, `temperature of extremities`, `pain`, `outcome`').strip('`').lower().replace('?','').split('`, `')\n",
    "print(a)"
   ]
  },
  {
   "attachments": {},
   "cell_type": "markdown",
   "metadata": {},
   "source": [
    "Отсутствующие значения в данных отражаются вопросительными знаками, оттого используем na_values"
   ]
  },
  {
   "cell_type": "code",
   "execution_count": 2,
   "metadata": {},
   "outputs": [
    {
     "data": {
      "text/html": [
       "<div>\n",
       "<style scoped>\n",
       "    .dataframe tbody tr th:only-of-type {\n",
       "        vertical-align: middle;\n",
       "    }\n",
       "\n",
       "    .dataframe tbody tr th {\n",
       "        vertical-align: top;\n",
       "    }\n",
       "\n",
       "    .dataframe thead th {\n",
       "        text-align: right;\n",
       "    }\n",
       "</style>\n",
       "<table border=\"1\" class=\"dataframe\">\n",
       "  <thead>\n",
       "    <tr style=\"text-align: right;\">\n",
       "      <th></th>\n",
       "      <th>2</th>\n",
       "      <th>1</th>\n",
       "      <th>530101</th>\n",
       "      <th>38.50</th>\n",
       "      <th>66</th>\n",
       "      <th>28</th>\n",
       "      <th>3</th>\n",
       "      <th>3.1</th>\n",
       "      <th>?</th>\n",
       "      <th>2.1</th>\n",
       "      <th>...</th>\n",
       "      <th>45.00</th>\n",
       "      <th>8.40</th>\n",
       "      <th>?.4</th>\n",
       "      <th>?.5</th>\n",
       "      <th>2.2</th>\n",
       "      <th>2.3</th>\n",
       "      <th>11300</th>\n",
       "      <th>00000</th>\n",
       "      <th>00000.1</th>\n",
       "      <th>2.4</th>\n",
       "    </tr>\n",
       "  </thead>\n",
       "  <tbody>\n",
       "    <tr>\n",
       "      <th>0</th>\n",
       "      <td>1.0</td>\n",
       "      <td>1</td>\n",
       "      <td>534817</td>\n",
       "      <td>39.2</td>\n",
       "      <td>88.0</td>\n",
       "      <td>20.0</td>\n",
       "      <td>NaN</td>\n",
       "      <td>NaN</td>\n",
       "      <td>4.0</td>\n",
       "      <td>1.0</td>\n",
       "      <td>...</td>\n",
       "      <td>50.0</td>\n",
       "      <td>85.0</td>\n",
       "      <td>2.0</td>\n",
       "      <td>2.0</td>\n",
       "      <td>3.0</td>\n",
       "      <td>2</td>\n",
       "      <td>2208</td>\n",
       "      <td>0</td>\n",
       "      <td>0</td>\n",
       "      <td>2</td>\n",
       "    </tr>\n",
       "    <tr>\n",
       "      <th>1</th>\n",
       "      <td>2.0</td>\n",
       "      <td>1</td>\n",
       "      <td>530334</td>\n",
       "      <td>38.3</td>\n",
       "      <td>40.0</td>\n",
       "      <td>24.0</td>\n",
       "      <td>1.0</td>\n",
       "      <td>1.0</td>\n",
       "      <td>3.0</td>\n",
       "      <td>1.0</td>\n",
       "      <td>...</td>\n",
       "      <td>33.0</td>\n",
       "      <td>6.7</td>\n",
       "      <td>NaN</td>\n",
       "      <td>NaN</td>\n",
       "      <td>1.0</td>\n",
       "      <td>2</td>\n",
       "      <td>0</td>\n",
       "      <td>0</td>\n",
       "      <td>0</td>\n",
       "      <td>1</td>\n",
       "    </tr>\n",
       "    <tr>\n",
       "      <th>2</th>\n",
       "      <td>1.0</td>\n",
       "      <td>9</td>\n",
       "      <td>5290409</td>\n",
       "      <td>39.1</td>\n",
       "      <td>164.0</td>\n",
       "      <td>84.0</td>\n",
       "      <td>4.0</td>\n",
       "      <td>1.0</td>\n",
       "      <td>6.0</td>\n",
       "      <td>2.0</td>\n",
       "      <td>...</td>\n",
       "      <td>48.0</td>\n",
       "      <td>7.2</td>\n",
       "      <td>3.0</td>\n",
       "      <td>5.3</td>\n",
       "      <td>2.0</td>\n",
       "      <td>1</td>\n",
       "      <td>2208</td>\n",
       "      <td>0</td>\n",
       "      <td>0</td>\n",
       "      <td>1</td>\n",
       "    </tr>\n",
       "    <tr>\n",
       "      <th>3</th>\n",
       "      <td>2.0</td>\n",
       "      <td>1</td>\n",
       "      <td>530255</td>\n",
       "      <td>37.3</td>\n",
       "      <td>104.0</td>\n",
       "      <td>35.0</td>\n",
       "      <td>NaN</td>\n",
       "      <td>NaN</td>\n",
       "      <td>6.0</td>\n",
       "      <td>2.0</td>\n",
       "      <td>...</td>\n",
       "      <td>74.0</td>\n",
       "      <td>7.4</td>\n",
       "      <td>NaN</td>\n",
       "      <td>NaN</td>\n",
       "      <td>2.0</td>\n",
       "      <td>2</td>\n",
       "      <td>4300</td>\n",
       "      <td>0</td>\n",
       "      <td>0</td>\n",
       "      <td>2</td>\n",
       "    </tr>\n",
       "    <tr>\n",
       "      <th>4</th>\n",
       "      <td>2.0</td>\n",
       "      <td>1</td>\n",
       "      <td>528355</td>\n",
       "      <td>NaN</td>\n",
       "      <td>NaN</td>\n",
       "      <td>NaN</td>\n",
       "      <td>2.0</td>\n",
       "      <td>1.0</td>\n",
       "      <td>3.0</td>\n",
       "      <td>1.0</td>\n",
       "      <td>...</td>\n",
       "      <td>NaN</td>\n",
       "      <td>NaN</td>\n",
       "      <td>NaN</td>\n",
       "      <td>NaN</td>\n",
       "      <td>1.0</td>\n",
       "      <td>2</td>\n",
       "      <td>0</td>\n",
       "      <td>0</td>\n",
       "      <td>0</td>\n",
       "      <td>2</td>\n",
       "    </tr>\n",
       "  </tbody>\n",
       "</table>\n",
       "<p>5 rows × 28 columns</p>\n",
       "</div>"
      ],
      "text/plain": [
       "     2  1   530101  38.50     66    28    3  3.1    ?  2.1  ...  45.00  8.40  \\\n",
       "0  1.0  1   534817   39.2   88.0  20.0  NaN  NaN  4.0  1.0  ...   50.0  85.0   \n",
       "1  2.0  1   530334   38.3   40.0  24.0  1.0  1.0  3.0  1.0  ...   33.0   6.7   \n",
       "2  1.0  9  5290409   39.1  164.0  84.0  4.0  1.0  6.0  2.0  ...   48.0   7.2   \n",
       "3  2.0  1   530255   37.3  104.0  35.0  NaN  NaN  6.0  2.0  ...   74.0   7.4   \n",
       "4  2.0  1   528355    NaN    NaN   NaN  2.0  1.0  3.0  1.0  ...    NaN   NaN   \n",
       "\n",
       "   ?.4  ?.5  2.2  2.3  11300  00000  00000.1  2.4  \n",
       "0  2.0  2.0  3.0    2   2208      0        0    2  \n",
       "1  NaN  NaN  1.0    2      0      0        0    1  \n",
       "2  3.0  5.3  2.0    1   2208      0        0    1  \n",
       "3  NaN  NaN  2.0    2   4300      0        0    2  \n",
       "4  NaN  NaN  1.0    2      0      0        0    2  \n",
       "\n",
       "[5 rows x 28 columns]"
      ]
     },
     "execution_count": 2,
     "metadata": {},
     "output_type": "execute_result"
    }
   ],
   "source": [
    "df = pd.read_csv('horse_data.txt', na_values='?')\n",
    "df.head()"
   ]
  },
  {
   "attachments": {},
   "cell_type": "markdown",
   "metadata": {},
   "source": [
    "Заголовки отсутствуют, так что вырежем столбцы по индексам и вставим названия вручную"
   ]
  },
  {
   "cell_type": "code",
   "execution_count": 3,
   "metadata": {},
   "outputs": [],
   "source": [
    "df = df.iloc[:,[0,1,3,4,5,6,10,22]]\n",
    "df.columns = a"
   ]
  },
  {
   "attachments": {},
   "cell_type": "markdown",
   "metadata": {},
   "source": [
    "Проверим верность наших действий"
   ]
  },
  {
   "cell_type": "code",
   "execution_count": 4,
   "metadata": {},
   "outputs": [
    {
     "data": {
      "text/html": [
       "<div>\n",
       "<style scoped>\n",
       "    .dataframe tbody tr th:only-of-type {\n",
       "        vertical-align: middle;\n",
       "    }\n",
       "\n",
       "    .dataframe tbody tr th {\n",
       "        vertical-align: top;\n",
       "    }\n",
       "\n",
       "    .dataframe thead th {\n",
       "        text-align: right;\n",
       "    }\n",
       "</style>\n",
       "<table border=\"1\" class=\"dataframe\">\n",
       "  <thead>\n",
       "    <tr style=\"text-align: right;\">\n",
       "      <th></th>\n",
       "      <th>surgery</th>\n",
       "      <th>age</th>\n",
       "      <th>rectal temperature</th>\n",
       "      <th>pulse</th>\n",
       "      <th>respiratory rate</th>\n",
       "      <th>temperature of extremities</th>\n",
       "      <th>pain</th>\n",
       "      <th>outcome</th>\n",
       "    </tr>\n",
       "  </thead>\n",
       "  <tbody>\n",
       "    <tr>\n",
       "      <th>0</th>\n",
       "      <td>1.0</td>\n",
       "      <td>1</td>\n",
       "      <td>39.2</td>\n",
       "      <td>88.0</td>\n",
       "      <td>20.0</td>\n",
       "      <td>NaN</td>\n",
       "      <td>3.0</td>\n",
       "      <td>3.0</td>\n",
       "    </tr>\n",
       "    <tr>\n",
       "      <th>1</th>\n",
       "      <td>2.0</td>\n",
       "      <td>1</td>\n",
       "      <td>38.3</td>\n",
       "      <td>40.0</td>\n",
       "      <td>24.0</td>\n",
       "      <td>1.0</td>\n",
       "      <td>3.0</td>\n",
       "      <td>1.0</td>\n",
       "    </tr>\n",
       "    <tr>\n",
       "      <th>2</th>\n",
       "      <td>1.0</td>\n",
       "      <td>9</td>\n",
       "      <td>39.1</td>\n",
       "      <td>164.0</td>\n",
       "      <td>84.0</td>\n",
       "      <td>4.0</td>\n",
       "      <td>2.0</td>\n",
       "      <td>2.0</td>\n",
       "    </tr>\n",
       "    <tr>\n",
       "      <th>3</th>\n",
       "      <td>2.0</td>\n",
       "      <td>1</td>\n",
       "      <td>37.3</td>\n",
       "      <td>104.0</td>\n",
       "      <td>35.0</td>\n",
       "      <td>NaN</td>\n",
       "      <td>NaN</td>\n",
       "      <td>2.0</td>\n",
       "    </tr>\n",
       "    <tr>\n",
       "      <th>4</th>\n",
       "      <td>2.0</td>\n",
       "      <td>1</td>\n",
       "      <td>NaN</td>\n",
       "      <td>NaN</td>\n",
       "      <td>NaN</td>\n",
       "      <td>2.0</td>\n",
       "      <td>2.0</td>\n",
       "      <td>1.0</td>\n",
       "    </tr>\n",
       "  </tbody>\n",
       "</table>\n",
       "</div>"
      ],
      "text/plain": [
       "   surgery  age  rectal temperature  pulse  respiratory rate  \\\n",
       "0      1.0    1                39.2   88.0              20.0   \n",
       "1      2.0    1                38.3   40.0              24.0   \n",
       "2      1.0    9                39.1  164.0              84.0   \n",
       "3      2.0    1                37.3  104.0              35.0   \n",
       "4      2.0    1                 NaN    NaN               NaN   \n",
       "\n",
       "   temperature of extremities  pain  outcome  \n",
       "0                         NaN   3.0      3.0  \n",
       "1                         1.0   3.0      1.0  \n",
       "2                         4.0   2.0      2.0  \n",
       "3                         NaN   NaN      2.0  \n",
       "4                         2.0   2.0      1.0  "
      ]
     },
     "execution_count": 4,
     "metadata": {},
     "output_type": "execute_result"
    }
   ],
   "source": [
    "df.head()"
   ]
  },
  {
   "attachments": {},
   "cell_type": "markdown",
   "metadata": {},
   "source": [
    "### Задание 2. Первичное изучение данных\n",
    "\n",
    "Проанализировать значения по столбцам, рассчитать базовые статистики, найти выбросы."
   ]
  },
  {
   "attachments": {},
   "cell_type": "markdown",
   "metadata": {},
   "source": [
    "Посмотрим на общие показатели датафрейма"
   ]
  },
  {
   "cell_type": "code",
   "execution_count": 5,
   "metadata": {},
   "outputs": [
    {
     "name": "stdout",
     "output_type": "stream",
     "text": [
      "<class 'pandas.core.frame.DataFrame'>\n",
      "RangeIndex: 299 entries, 0 to 298\n",
      "Data columns (total 8 columns):\n",
      " #   Column                      Non-Null Count  Dtype  \n",
      "---  ------                      --------------  -----  \n",
      " 0   surgery                     298 non-null    float64\n",
      " 1   age                         299 non-null    int64  \n",
      " 2   rectal temperature          239 non-null    float64\n",
      " 3   pulse                       275 non-null    float64\n",
      " 4   respiratory rate            241 non-null    float64\n",
      " 5   temperature of extremities  243 non-null    float64\n",
      " 6   pain                        244 non-null    float64\n",
      " 7   outcome                     298 non-null    float64\n",
      "dtypes: float64(7), int64(1)\n",
      "memory usage: 18.8 KB\n"
     ]
    }
   ],
   "source": [
    "df.info()"
   ]
  },
  {
   "attachments": {},
   "cell_type": "markdown",
   "metadata": {},
   "source": [
    "Всего у нас 299 строк, все столбцы числовые, присутствуют отсутствующие, пока проведем расчеты не изменяя данные. получим все требуемые значения"
   ]
  },
  {
   "cell_type": "code",
   "execution_count": 6,
   "metadata": {},
   "outputs": [
    {
     "data": {
      "text/html": [
       "<div>\n",
       "<style scoped>\n",
       "    .dataframe tbody tr th:only-of-type {\n",
       "        vertical-align: middle;\n",
       "    }\n",
       "\n",
       "    .dataframe tbody tr th {\n",
       "        vertical-align: top;\n",
       "    }\n",
       "\n",
       "    .dataframe thead th {\n",
       "        text-align: right;\n",
       "    }\n",
       "</style>\n",
       "<table border=\"1\" class=\"dataframe\">\n",
       "  <thead>\n",
       "    <tr style=\"text-align: right;\">\n",
       "      <th></th>\n",
       "      <th>surgery</th>\n",
       "      <th>age</th>\n",
       "      <th>rectal temperature</th>\n",
       "      <th>pulse</th>\n",
       "      <th>respiratory rate</th>\n",
       "      <th>temperature of extremities</th>\n",
       "      <th>pain</th>\n",
       "      <th>outcome</th>\n",
       "    </tr>\n",
       "  </thead>\n",
       "  <tbody>\n",
       "    <tr>\n",
       "      <th>count</th>\n",
       "      <td>298.000000</td>\n",
       "      <td>299.00000</td>\n",
       "      <td>239.000000</td>\n",
       "      <td>275.000000</td>\n",
       "      <td>241.000000</td>\n",
       "      <td>243.000000</td>\n",
       "      <td>244.000000</td>\n",
       "      <td>298.000000</td>\n",
       "    </tr>\n",
       "    <tr>\n",
       "      <th>mean</th>\n",
       "      <td>1.395973</td>\n",
       "      <td>1.64214</td>\n",
       "      <td>38.166527</td>\n",
       "      <td>71.934545</td>\n",
       "      <td>30.427386</td>\n",
       "      <td>2.345679</td>\n",
       "      <td>2.942623</td>\n",
       "      <td>1.550336</td>\n",
       "    </tr>\n",
       "    <tr>\n",
       "      <th>std</th>\n",
       "      <td>0.489881</td>\n",
       "      <td>2.17730</td>\n",
       "      <td>0.733508</td>\n",
       "      <td>28.680522</td>\n",
       "      <td>17.678256</td>\n",
       "      <td>1.046369</td>\n",
       "      <td>1.303993</td>\n",
       "      <td>0.737967</td>\n",
       "    </tr>\n",
       "    <tr>\n",
       "      <th>min</th>\n",
       "      <td>1.000000</td>\n",
       "      <td>1.00000</td>\n",
       "      <td>35.400000</td>\n",
       "      <td>30.000000</td>\n",
       "      <td>8.000000</td>\n",
       "      <td>1.000000</td>\n",
       "      <td>1.000000</td>\n",
       "      <td>1.000000</td>\n",
       "    </tr>\n",
       "    <tr>\n",
       "      <th>25%</th>\n",
       "      <td>1.000000</td>\n",
       "      <td>1.00000</td>\n",
       "      <td>37.800000</td>\n",
       "      <td>48.000000</td>\n",
       "      <td>18.000000</td>\n",
       "      <td>1.000000</td>\n",
       "      <td>2.000000</td>\n",
       "      <td>1.000000</td>\n",
       "    </tr>\n",
       "    <tr>\n",
       "      <th>50%</th>\n",
       "      <td>1.000000</td>\n",
       "      <td>1.00000</td>\n",
       "      <td>38.200000</td>\n",
       "      <td>64.000000</td>\n",
       "      <td>24.000000</td>\n",
       "      <td>3.000000</td>\n",
       "      <td>3.000000</td>\n",
       "      <td>1.000000</td>\n",
       "    </tr>\n",
       "    <tr>\n",
       "      <th>75%</th>\n",
       "      <td>2.000000</td>\n",
       "      <td>1.00000</td>\n",
       "      <td>38.500000</td>\n",
       "      <td>88.000000</td>\n",
       "      <td>36.000000</td>\n",
       "      <td>3.000000</td>\n",
       "      <td>4.000000</td>\n",
       "      <td>2.000000</td>\n",
       "    </tr>\n",
       "    <tr>\n",
       "      <th>max</th>\n",
       "      <td>2.000000</td>\n",
       "      <td>9.00000</td>\n",
       "      <td>40.800000</td>\n",
       "      <td>184.000000</td>\n",
       "      <td>96.000000</td>\n",
       "      <td>4.000000</td>\n",
       "      <td>5.000000</td>\n",
       "      <td>3.000000</td>\n",
       "    </tr>\n",
       "  </tbody>\n",
       "</table>\n",
       "</div>"
      ],
      "text/plain": [
       "          surgery        age  rectal temperature       pulse  \\\n",
       "count  298.000000  299.00000          239.000000  275.000000   \n",
       "mean     1.395973    1.64214           38.166527   71.934545   \n",
       "std      0.489881    2.17730            0.733508   28.680522   \n",
       "min      1.000000    1.00000           35.400000   30.000000   \n",
       "25%      1.000000    1.00000           37.800000   48.000000   \n",
       "50%      1.000000    1.00000           38.200000   64.000000   \n",
       "75%      2.000000    1.00000           38.500000   88.000000   \n",
       "max      2.000000    9.00000           40.800000  184.000000   \n",
       "\n",
       "       respiratory rate  temperature of extremities        pain     outcome  \n",
       "count        241.000000                  243.000000  244.000000  298.000000  \n",
       "mean          30.427386                    2.345679    2.942623    1.550336  \n",
       "std           17.678256                    1.046369    1.303993    0.737967  \n",
       "min            8.000000                    1.000000    1.000000    1.000000  \n",
       "25%           18.000000                    1.000000    2.000000    1.000000  \n",
       "50%           24.000000                    3.000000    3.000000    1.000000  \n",
       "75%           36.000000                    3.000000    4.000000    2.000000  \n",
       "max           96.000000                    4.000000    5.000000    3.000000  "
      ]
     },
     "execution_count": 6,
     "metadata": {},
     "output_type": "execute_result"
    }
   ],
   "source": [
    "df.describe()"
   ]
  },
  {
   "attachments": {},
   "cell_type": "markdown",
   "metadata": {},
   "source": [
    "Согласно информации представленной выше можно сделать следующие выводы:\n",
    "- Столбец Surgery заполнен корректно\n",
    "- В солбце Age есть ошибки, этот показатель не может согласно документации принимать значения выше 2. Скорее всего в иных значениях вводилос количество лет или месяцев. К сожалению однозначно ответить невозможно, поскольку средний срок жизни лошади 20-40 лет, а сколько они находились под наблюдением ответить невозможно без анализа бизнеса\n",
    "- Rectal temperature так же в пределах допустимых значений\n",
    "- Средний пульс у жеребят нормой являются показатели 70-120 ударов в минуту, у годовиков - 45-50. Так что вроде все в допустимых значениях. Конечно тут лучше посмотреть как далеки отклонения по boxplot, что мы и сделаем дальше\n",
    "- respiratory rate так же выглядит в пределах нормы что будет проверено дальше\n",
    "- temperature of extremities так же в норме\n",
    "- pain то же в норме\n",
    "- outcome в норме"
   ]
  },
  {
   "cell_type": "code",
   "execution_count": 7,
   "metadata": {},
   "outputs": [
    {
     "data": {
      "text/plain": [
       "9    24\n",
       "Name: age, dtype: int64"
      ]
     },
     "execution_count": 7,
     "metadata": {},
     "output_type": "execute_result"
    }
   ],
   "source": [
    "df.loc[df['age'] > 2]['age'].value_counts()"
   ]
  },
  {
   "attachments": {},
   "cell_type": "markdown",
   "metadata": {},
   "source": [
    "Это довольно странно. Все значения равны девяти. Скорее всего это ошибка не внесения, а самой системы. Предпочту удалить на основании этого"
   ]
  },
  {
   "cell_type": "code",
   "execution_count": 8,
   "metadata": {},
   "outputs": [
    {
     "data": {
      "text/html": [
       "<div>\n",
       "<style scoped>\n",
       "    .dataframe tbody tr th:only-of-type {\n",
       "        vertical-align: middle;\n",
       "    }\n",
       "\n",
       "    .dataframe tbody tr th {\n",
       "        vertical-align: top;\n",
       "    }\n",
       "\n",
       "    .dataframe thead th {\n",
       "        text-align: right;\n",
       "    }\n",
       "</style>\n",
       "<table border=\"1\" class=\"dataframe\">\n",
       "  <thead>\n",
       "    <tr style=\"text-align: right;\">\n",
       "      <th></th>\n",
       "      <th>surgery</th>\n",
       "      <th>age</th>\n",
       "      <th>rectal temperature</th>\n",
       "      <th>pulse</th>\n",
       "      <th>respiratory rate</th>\n",
       "      <th>temperature of extremities</th>\n",
       "      <th>pain</th>\n",
       "      <th>outcome</th>\n",
       "    </tr>\n",
       "  </thead>\n",
       "  <tbody>\n",
       "    <tr>\n",
       "      <th>0</th>\n",
       "      <td>1.0</td>\n",
       "      <td>1</td>\n",
       "      <td>39.2</td>\n",
       "      <td>88.0</td>\n",
       "      <td>20.0</td>\n",
       "      <td>NaN</td>\n",
       "      <td>3.0</td>\n",
       "      <td>3.0</td>\n",
       "    </tr>\n",
       "    <tr>\n",
       "      <th>1</th>\n",
       "      <td>2.0</td>\n",
       "      <td>1</td>\n",
       "      <td>38.3</td>\n",
       "      <td>40.0</td>\n",
       "      <td>24.0</td>\n",
       "      <td>1.0</td>\n",
       "      <td>3.0</td>\n",
       "      <td>1.0</td>\n",
       "    </tr>\n",
       "    <tr>\n",
       "      <th>3</th>\n",
       "      <td>2.0</td>\n",
       "      <td>1</td>\n",
       "      <td>37.3</td>\n",
       "      <td>104.0</td>\n",
       "      <td>35.0</td>\n",
       "      <td>NaN</td>\n",
       "      <td>NaN</td>\n",
       "      <td>2.0</td>\n",
       "    </tr>\n",
       "    <tr>\n",
       "      <th>4</th>\n",
       "      <td>2.0</td>\n",
       "      <td>1</td>\n",
       "      <td>NaN</td>\n",
       "      <td>NaN</td>\n",
       "      <td>NaN</td>\n",
       "      <td>2.0</td>\n",
       "      <td>2.0</td>\n",
       "      <td>1.0</td>\n",
       "    </tr>\n",
       "    <tr>\n",
       "      <th>5</th>\n",
       "      <td>1.0</td>\n",
       "      <td>1</td>\n",
       "      <td>37.9</td>\n",
       "      <td>48.0</td>\n",
       "      <td>16.0</td>\n",
       "      <td>1.0</td>\n",
       "      <td>3.0</td>\n",
       "      <td>1.0</td>\n",
       "    </tr>\n",
       "    <tr>\n",
       "      <th>...</th>\n",
       "      <td>...</td>\n",
       "      <td>...</td>\n",
       "      <td>...</td>\n",
       "      <td>...</td>\n",
       "      <td>...</td>\n",
       "      <td>...</td>\n",
       "      <td>...</td>\n",
       "      <td>...</td>\n",
       "    </tr>\n",
       "    <tr>\n",
       "      <th>294</th>\n",
       "      <td>1.0</td>\n",
       "      <td>1</td>\n",
       "      <td>NaN</td>\n",
       "      <td>120.0</td>\n",
       "      <td>70.0</td>\n",
       "      <td>4.0</td>\n",
       "      <td>2.0</td>\n",
       "      <td>3.0</td>\n",
       "    </tr>\n",
       "    <tr>\n",
       "      <th>295</th>\n",
       "      <td>2.0</td>\n",
       "      <td>1</td>\n",
       "      <td>37.2</td>\n",
       "      <td>72.0</td>\n",
       "      <td>24.0</td>\n",
       "      <td>3.0</td>\n",
       "      <td>4.0</td>\n",
       "      <td>3.0</td>\n",
       "    </tr>\n",
       "    <tr>\n",
       "      <th>296</th>\n",
       "      <td>1.0</td>\n",
       "      <td>1</td>\n",
       "      <td>37.5</td>\n",
       "      <td>72.0</td>\n",
       "      <td>30.0</td>\n",
       "      <td>4.0</td>\n",
       "      <td>4.0</td>\n",
       "      <td>2.0</td>\n",
       "    </tr>\n",
       "    <tr>\n",
       "      <th>297</th>\n",
       "      <td>1.0</td>\n",
       "      <td>1</td>\n",
       "      <td>36.5</td>\n",
       "      <td>100.0</td>\n",
       "      <td>24.0</td>\n",
       "      <td>3.0</td>\n",
       "      <td>3.0</td>\n",
       "      <td>1.0</td>\n",
       "    </tr>\n",
       "    <tr>\n",
       "      <th>298</th>\n",
       "      <td>1.0</td>\n",
       "      <td>1</td>\n",
       "      <td>37.2</td>\n",
       "      <td>40.0</td>\n",
       "      <td>20.0</td>\n",
       "      <td>NaN</td>\n",
       "      <td>NaN</td>\n",
       "      <td>3.0</td>\n",
       "    </tr>\n",
       "  </tbody>\n",
       "</table>\n",
       "<p>275 rows × 8 columns</p>\n",
       "</div>"
      ],
      "text/plain": [
       "     surgery  age  rectal temperature  pulse  respiratory rate  \\\n",
       "0        1.0    1                39.2   88.0              20.0   \n",
       "1        2.0    1                38.3   40.0              24.0   \n",
       "3        2.0    1                37.3  104.0              35.0   \n",
       "4        2.0    1                 NaN    NaN               NaN   \n",
       "5        1.0    1                37.9   48.0              16.0   \n",
       "..       ...  ...                 ...    ...               ...   \n",
       "294      1.0    1                 NaN  120.0              70.0   \n",
       "295      2.0    1                37.2   72.0              24.0   \n",
       "296      1.0    1                37.5   72.0              30.0   \n",
       "297      1.0    1                36.5  100.0              24.0   \n",
       "298      1.0    1                37.2   40.0              20.0   \n",
       "\n",
       "     temperature of extremities  pain  outcome  \n",
       "0                           NaN   3.0      3.0  \n",
       "1                           1.0   3.0      1.0  \n",
       "3                           NaN   NaN      2.0  \n",
       "4                           2.0   2.0      1.0  \n",
       "5                           1.0   3.0      1.0  \n",
       "..                          ...   ...      ...  \n",
       "294                         4.0   2.0      3.0  \n",
       "295                         3.0   4.0      3.0  \n",
       "296                         4.0   4.0      2.0  \n",
       "297                         3.0   3.0      1.0  \n",
       "298                         NaN   NaN      3.0  \n",
       "\n",
       "[275 rows x 8 columns]"
      ]
     },
     "execution_count": 8,
     "metadata": {},
     "output_type": "execute_result"
    }
   ],
   "source": [
    "df = df.loc[df['age'] <= 2]\n",
    "df"
   ]
  },
  {
   "attachments": {},
   "cell_type": "markdown",
   "metadata": {},
   "source": [
    "Теперь посмотрим на боксплоты"
   ]
  },
  {
   "cell_type": "code",
   "execution_count": 9,
   "metadata": {},
   "outputs": [
    {
     "data": {
      "image/png": "[encoded data removed]",
      "image/svg+xml": "<?xml version=\"1.0\" encoding=\"utf-8\" standalone=\"no\"?>\n<!DOCTYPE svg PUBLIC \"-//W3C//DTD SVG 1.1//EN\"\n  \"http://www.w3.org/Graphics/SVG/1.1/DTD/svg11.dtd\">\n<svg xmlns:xlink=\"http://www.w3.org/1999/xlink\" width=\"397.6075pt\" height=\"312.30825pt\" viewBox=\"0 0 397.6075 312.30825\" xmlns=\"http://www.w3.org/2000/svg\" version=\"1.1\">\n <metadata>\n  <rdf:RDF xmlns:dc=\"http://purl.org/dc/elements/1.1/\" xmlns:cc=\"http://creativecommons.org/ns#\" xmlns:rdf=\"http://www.w3.org/1999/02/22-rdf-syntax-ns#\">\n   <cc:Work>\n    <dc:type rdf:resource=\"http://purl.org/dc/dcmitype/StillImage\"/>\n    <dc:date>2023-01-14T23:43:41.737839</dc:date>\n    <dc:format>image/svg+xml</dc:format>\n    <dc:creator>\n     <cc:Agent>\n      <dc:title>Matplotlib v3.6.2, https://matplotlib.org/</dc:title>\n     </cc:Agent>\n    </dc:creator>\n   </cc:Work>\n  </rdf:RDF>\n </metadata>\n <defs>\n  <style type=\"text/css\">*{stroke-linejoin: round; stroke-linecap: butt}</style>\n </defs>\n <g id=\"figure_1\">\n  <g id=\"patch_1\">\n   <path d=\"M 0 312.30825 \nL 397.6075 312.30825 \nL 397.6075 0 \nL 0 0 \nz\n\" style=\"fill: #ffffff\"/>\n  </g>\n  <g id=\"axes_1\">\n   <g id=\"patch_2\">\n    <path d=\"M 33.2875 288.430125 \nL 195.614773 288.430125 \nL 195.614773 22.318125 \nL 33.2875 22.318125 \nz\n\" style=\"fill: #ffffff\"/>\n   </g>\n   <g id=\"matplotlib.axis_1\">\n    <g id=\"xtick_1\">\n     <g id=\"line2d_1\">\n      <defs>\n       <path id=\"m5c4283fafc\" d=\"M 0 0 \nL 0 3.5 \n\" style=\"stroke: #000000; stroke-width: 0.8\"/>\n      </defs>\n      <g>\n       <use xlink:href=\"#m5c4283fafc\" x=\"114.451136\" y=\"288.430125\" style=\"stroke: #000000; stroke-width: 0.8\"/>\n      </g>\n     </g>\n     <g id=\"text_1\">\n      <!-- 1 -->\n      <g transform=\"translate(111.269886 303.028562) scale(0.1 -0.1)\">\n       <defs>\n        <path id=\"DejaVuSans-31\" d=\"M 794 531 \nL 1825 531 \nL 1825 4091 \nL 703 3866 \nL 703 4441 \nL 1819 4666 \nL 2450 4666 \nL 2450 531 \nL 3481 531 \nL 3481 0 \nL 794 0 \nL 794 531 \nz\n\" transform=\"scale(0.015625)\"/>\n       </defs>\n       <use xlink:href=\"#DejaVuSans-31\"/>\n      </g>\n     </g>\n    </g>\n   </g>\n   <g id=\"matplotlib.axis_2\">\n    <g id=\"ytick_1\">\n     <g id=\"line2d_2\">\n      <defs>\n       <path id=\"mab8e12b1e1\" d=\"M 0 0 \nL -3.5 0 \n\" style=\"stroke: #000000; stroke-width: 0.8\"/>\n      </defs>\n      <g>\n       <use xlink:href=\"#mab8e12b1e1\" x=\"33.2875\" y=\"254.341398\" style=\"stroke: #000000; stroke-width: 0.8\"/>\n      </g>\n     </g>\n     <g id=\"text_2\">\n      <!-- 40 -->\n      <g transform=\"translate(13.5625 258.140616) scale(0.1 -0.1)\">\n       <defs>\n        <path id=\"DejaVuSans-34\" d=\"M 2419 4116 \nL 825 1625 \nL 2419 1625 \nL 2419 4116 \nz\nM 2253 4666 \nL 3047 4666 \nL 3047 1625 \nL 3713 1625 \nL 3713 1100 \nL 3047 1100 \nL 3047 0 \nL 2419 0 \nL 2419 1100 \nL 313 1100 \nL 313 1709 \nL 2253 4666 \nz\n\" transform=\"scale(0.015625)\"/>\n        <path id=\"DejaVuSans-30\" d=\"M 2034 4250 \nQ 1547 4250 1301 3770 \nQ 1056 3291 1056 2328 \nQ 1056 1369 1301 889 \nQ 1547 409 2034 409 \nQ 2525 409 2770 889 \nQ 3016 1369 3016 2328 \nQ 3016 3291 2770 3770 \nQ 2525 4250 2034 4250 \nz\nM 2034 4750 \nQ 2819 4750 3233 4129 \nQ 3647 3509 3647 2328 \nQ 3647 1150 3233 529 \nQ 2819 -91 2034 -91 \nQ 1250 -91 836 529 \nQ 422 1150 422 2328 \nQ 422 3509 836 4129 \nQ 1250 4750 2034 4750 \nz\n\" transform=\"scale(0.015625)\"/>\n       </defs>\n       <use xlink:href=\"#DejaVuSans-34\"/>\n       <use xlink:href=\"#DejaVuSans-30\" x=\"63.623047\"/>\n      </g>\n     </g>\n    </g>\n    <g id=\"ytick_2\">\n     <g id=\"line2d_3\">\n      <g>\n       <use xlink:href=\"#mab8e12b1e1\" x=\"33.2875\" y=\"210.355943\" style=\"stroke: #000000; stroke-width: 0.8\"/>\n      </g>\n     </g>\n     <g id=\"text_3\">\n      <!-- 60 -->\n      <g transform=\"translate(13.5625 214.155162) scale(0.1 -0.1)\">\n       <defs>\n        <path id=\"DejaVuSans-36\" d=\"M 2113 2584 \nQ 1688 2584 1439 2293 \nQ 1191 2003 1191 1497 \nQ 1191 994 1439 701 \nQ 1688 409 2113 409 \nQ 2538 409 2786 701 \nQ 3034 994 3034 1497 \nQ 3034 2003 2786 2293 \nQ 2538 2584 2113 2584 \nz\nM 3366 4563 \nL 3366 3988 \nQ 3128 4100 2886 4159 \nQ 2644 4219 2406 4219 \nQ 1781 4219 1451 3797 \nQ 1122 3375 1075 2522 \nQ 1259 2794 1537 2939 \nQ 1816 3084 2150 3084 \nQ 2853 3084 3261 2657 \nQ 3669 2231 3669 1497 \nQ 3669 778 3244 343 \nQ 2819 -91 2113 -91 \nQ 1303 -91 875 529 \nQ 447 1150 447 2328 \nQ 447 3434 972 4092 \nQ 1497 4750 2381 4750 \nQ 2619 4750 2861 4703 \nQ 3103 4656 3366 4563 \nz\n\" transform=\"scale(0.015625)\"/>\n       </defs>\n       <use xlink:href=\"#DejaVuSans-36\"/>\n       <use xlink:href=\"#DejaVuSans-30\" x=\"63.623047\"/>\n      </g>\n     </g>\n    </g>\n    <g id=\"ytick_3\">\n     <g id=\"line2d_4\">\n      <g>\n       <use xlink:href=\"#mab8e12b1e1\" x=\"33.2875\" y=\"166.370489\" style=\"stroke: #000000; stroke-width: 0.8\"/>\n      </g>\n     </g>\n     <g id=\"text_4\">\n      <!-- 80 -->\n      <g transform=\"translate(13.5625 170.169707) scale(0.1 -0.1)\">\n       <defs>\n        <path id=\"DejaVuSans-38\" d=\"M 2034 2216 \nQ 1584 2216 1326 1975 \nQ 1069 1734 1069 1313 \nQ 1069 891 1326 650 \nQ 1584 409 2034 409 \nQ 2484 409 2743 651 \nQ 3003 894 3003 1313 \nQ 3003 1734 2745 1975 \nQ 2488 2216 2034 2216 \nz\nM 1403 2484 \nQ 997 2584 770 2862 \nQ 544 3141 544 3541 \nQ 544 4100 942 4425 \nQ 1341 4750 2034 4750 \nQ 2731 4750 3128 4425 \nQ 3525 4100 3525 3541 \nQ 3525 3141 3298 2862 \nQ 3072 2584 2669 2484 \nQ 3125 2378 3379 2068 \nQ 3634 1759 3634 1313 \nQ 3634 634 3220 271 \nQ 2806 -91 2034 -91 \nQ 1263 -91 848 271 \nQ 434 634 434 1313 \nQ 434 1759 690 2068 \nQ 947 2378 1403 2484 \nz\nM 1172 3481 \nQ 1172 3119 1398 2916 \nQ 1625 2713 2034 2713 \nQ 2441 2713 2670 2916 \nQ 2900 3119 2900 3481 \nQ 2900 3844 2670 4047 \nQ 2441 4250 2034 4250 \nQ 1625 4250 1398 4047 \nQ 1172 3844 1172 3481 \nz\n\" transform=\"scale(0.015625)\"/>\n       </defs>\n       <use xlink:href=\"#DejaVuSans-38\"/>\n       <use xlink:href=\"#DejaVuSans-30\" x=\"63.623047\"/>\n      </g>\n     </g>\n    </g>\n    <g id=\"ytick_4\">\n     <g id=\"line2d_5\">\n      <g>\n       <use xlink:href=\"#mab8e12b1e1\" x=\"33.2875\" y=\"122.385034\" style=\"stroke: #000000; stroke-width: 0.8\"/>\n      </g>\n     </g>\n     <g id=\"text_5\">\n      <!-- 100 -->\n      <g transform=\"translate(7.2 126.184253) scale(0.1 -0.1)\">\n       <use xlink:href=\"#DejaVuSans-31\"/>\n       <use xlink:href=\"#DejaVuSans-30\" x=\"63.623047\"/>\n       <use xlink:href=\"#DejaVuSans-30\" x=\"127.246094\"/>\n      </g>\n     </g>\n    </g>\n    <g id=\"ytick_5\">\n     <g id=\"line2d_6\">\n      <g>\n       <use xlink:href=\"#mab8e12b1e1\" x=\"33.2875\" y=\"78.39958\" style=\"stroke: #000000; stroke-width: 0.8\"/>\n      </g>\n     </g>\n     <g id=\"text_6\">\n      <!-- 120 -->\n      <g transform=\"translate(7.2 82.198798) scale(0.1 -0.1)\">\n       <defs>\n        <path id=\"DejaVuSans-32\" d=\"M 1228 531 \nL 3431 531 \nL 3431 0 \nL 469 0 \nL 469 531 \nQ 828 903 1448 1529 \nQ 2069 2156 2228 2338 \nQ 2531 2678 2651 2914 \nQ 2772 3150 2772 3378 \nQ 2772 3750 2511 3984 \nQ 2250 4219 1831 4219 \nQ 1534 4219 1204 4116 \nQ 875 4013 500 3803 \nL 500 4441 \nQ 881 4594 1212 4672 \nQ 1544 4750 1819 4750 \nQ 2544 4750 2975 4387 \nQ 3406 4025 3406 3419 \nQ 3406 3131 3298 2873 \nQ 3191 2616 2906 2266 \nQ 2828 2175 2409 1742 \nQ 1991 1309 1228 531 \nz\n\" transform=\"scale(0.015625)\"/>\n       </defs>\n       <use xlink:href=\"#DejaVuSans-31\"/>\n       <use xlink:href=\"#DejaVuSans-32\" x=\"63.623047\"/>\n       <use xlink:href=\"#DejaVuSans-30\" x=\"127.246094\"/>\n      </g>\n     </g>\n    </g>\n    <g id=\"ytick_6\">\n     <g id=\"line2d_7\">\n      <g>\n       <use xlink:href=\"#mab8e12b1e1\" x=\"33.2875\" y=\"34.414125\" style=\"stroke: #000000; stroke-width: 0.8\"/>\n      </g>\n     </g>\n     <g id=\"text_7\">\n      <!-- 140 -->\n      <g transform=\"translate(7.2 38.213344) scale(0.1 -0.1)\">\n       <use xlink:href=\"#DejaVuSans-31\"/>\n       <use xlink:href=\"#DejaVuSans-34\" x=\"63.623047\"/>\n       <use xlink:href=\"#DejaVuSans-30\" x=\"127.246094\"/>\n      </g>\n     </g>\n    </g>\n   </g>\n   <g id=\"line2d_8\">\n    <path d=\"M 102.276591 236.747216 \nL 126.625682 236.747216 \nL 126.625682 159.77267 \nL 102.276591 159.77267 \nL 102.276591 236.747216 \n\" clip-path=\"url(#p95db657bc5)\" style=\"fill: none; stroke: #000000; stroke-linecap: square\"/>\n   </g>\n   <g id=\"line2d_9\">\n    <path d=\"M 114.451136 236.747216 \nL 114.451136 276.334125 \n\" clip-path=\"url(#p95db657bc5)\" style=\"fill: none; stroke: #000000; stroke-linecap: square\"/>\n   </g>\n   <g id=\"line2d_10\">\n    <path d=\"M 114.451136 159.77267 \nL 114.451136 56.406852 \n\" clip-path=\"url(#p95db657bc5)\" style=\"fill: none; stroke: #000000; stroke-linecap: square\"/>\n   </g>\n   <g id=\"line2d_11\">\n    <path d=\"M 108.363864 276.334125 \nL 120.538409 276.334125 \n\" clip-path=\"url(#p95db657bc5)\" style=\"fill: none; stroke: #000000; stroke-linecap: square\"/>\n   </g>\n   <g id=\"line2d_12\">\n    <path d=\"M 108.363864 56.406852 \nL 120.538409 56.406852 \n\" clip-path=\"url(#p95db657bc5)\" style=\"fill: none; stroke: #000000; stroke-linecap: square\"/>\n   </g>\n   <g id=\"line2d_13\">\n    <defs>\n     <path id=\"m3a6e70cbee\" d=\"M 0 3 \nC 0.795609 3 1.55874 2.683901 2.12132 2.12132 \nC 2.683901 1.55874 3 0.795609 3 0 \nC 3 -0.795609 2.683901 -1.55874 2.12132 -2.12132 \nC 1.55874 -2.683901 0.795609 -3 0 -3 \nC -0.795609 -3 -1.55874 -2.683901 -2.12132 -2.12132 \nC -2.683901 -1.55874 -3 -0.795609 -3 0 \nC -3 0.795609 -2.683901 1.55874 -2.12132 2.12132 \nC -1.55874 2.683901 -0.795609 3 0 3 \nz\n\" style=\"stroke: #000000\"/>\n    </defs>\n    <g clip-path=\"url(#p95db657bc5)\">\n     <use xlink:href=\"#m3a6e70cbee\" x=\"114.451136\" y=\"34.414125\" style=\"fill-opacity: 0; stroke: #000000\"/>\n    </g>\n   </g>\n   <g id=\"line2d_14\">\n    <path d=\"M 102.276591 210.355943 \nL 126.625682 210.355943 \n\" clip-path=\"url(#p95db657bc5)\" style=\"fill: none; stroke: #ff7f0e; stroke-linecap: square\"/>\n   </g>\n   <g id=\"patch_3\">\n    <path d=\"M 33.2875 288.430125 \nL 33.2875 22.318125 \n\" style=\"fill: none; stroke: #000000; stroke-width: 0.8; stroke-linejoin: miter; stroke-linecap: square\"/>\n   </g>\n   <g id=\"patch_4\">\n    <path d=\"M 195.614773 288.430125 \nL 195.614773 22.318125 \n\" style=\"fill: none; stroke: #000000; stroke-width: 0.8; stroke-linejoin: miter; stroke-linecap: square\"/>\n   </g>\n   <g id=\"patch_5\">\n    <path d=\"M 33.2875 288.430125 \nL 195.614773 288.430125 \n\" style=\"fill: none; stroke: #000000; stroke-width: 0.8; stroke-linejoin: miter; stroke-linecap: square\"/>\n   </g>\n   <g id=\"patch_6\">\n    <path d=\"M 33.2875 22.318125 \nL 195.614773 22.318125 \n\" style=\"fill: none; stroke: #000000; stroke-width: 0.8; stroke-linejoin: miter; stroke-linecap: square\"/>\n   </g>\n   <g id=\"text_8\">\n    <!-- pulse -->\n    <g transform=\"translate(98.355199 16.318125) scale(0.12 -0.12)\">\n     <defs>\n      <path id=\"DejaVuSans-70\" d=\"M 1159 525 \nL 1159 -1331 \nL 581 -1331 \nL 581 3500 \nL 1159 3500 \nL 1159 2969 \nQ 1341 3281 1617 3432 \nQ 1894 3584 2278 3584 \nQ 2916 3584 3314 3078 \nQ 3713 2572 3713 1747 \nQ 3713 922 3314 415 \nQ 2916 -91 2278 -91 \nQ 1894 -91 1617 61 \nQ 1341 213 1159 525 \nz\nM 3116 1747 \nQ 3116 2381 2855 2742 \nQ 2594 3103 2138 3103 \nQ 1681 3103 1420 2742 \nQ 1159 2381 1159 1747 \nQ 1159 1113 1420 752 \nQ 1681 391 2138 391 \nQ 2594 391 2855 752 \nQ 3116 1113 3116 1747 \nz\n\" transform=\"scale(0.015625)\"/>\n      <path id=\"DejaVuSans-75\" d=\"M 544 1381 \nL 544 3500 \nL 1119 3500 \nL 1119 1403 \nQ 1119 906 1312 657 \nQ 1506 409 1894 409 \nQ 2359 409 2629 706 \nQ 2900 1003 2900 1516 \nL 2900 3500 \nL 3475 3500 \nL 3475 0 \nL 2900 0 \nL 2900 538 \nQ 2691 219 2414 64 \nQ 2138 -91 1772 -91 \nQ 1169 -91 856 284 \nQ 544 659 544 1381 \nz\nM 1991 3584 \nL 1991 3584 \nz\n\" transform=\"scale(0.015625)\"/>\n      <path id=\"DejaVuSans-6c\" d=\"M 603 4863 \nL 1178 4863 \nL 1178 0 \nL 603 0 \nL 603 4863 \nz\n\" transform=\"scale(0.015625)\"/>\n      <path id=\"DejaVuSans-73\" d=\"M 2834 3397 \nL 2834 2853 \nQ 2591 2978 2328 3040 \nQ 2066 3103 1784 3103 \nQ 1356 3103 1142 2972 \nQ 928 2841 928 2578 \nQ 928 2378 1081 2264 \nQ 1234 2150 1697 2047 \nL 1894 2003 \nQ 2506 1872 2764 1633 \nQ 3022 1394 3022 966 \nQ 3022 478 2636 193 \nQ 2250 -91 1575 -91 \nQ 1294 -91 989 -36 \nQ 684 19 347 128 \nL 347 722 \nQ 666 556 975 473 \nQ 1284 391 1588 391 \nQ 1994 391 2212 530 \nQ 2431 669 2431 922 \nQ 2431 1156 2273 1281 \nQ 2116 1406 1581 1522 \nL 1381 1569 \nQ 847 1681 609 1914 \nQ 372 2147 372 2553 \nQ 372 3047 722 3315 \nQ 1072 3584 1716 3584 \nQ 2034 3584 2315 3537 \nQ 2597 3491 2834 3397 \nz\n\" transform=\"scale(0.015625)\"/>\n      <path id=\"DejaVuSans-65\" d=\"M 3597 1894 \nL 3597 1613 \nL 953 1613 \nQ 991 1019 1311 708 \nQ 1631 397 2203 397 \nQ 2534 397 2845 478 \nQ 3156 559 3463 722 \nL 3463 178 \nQ 3153 47 2828 -22 \nQ 2503 -91 2169 -91 \nQ 1331 -91 842 396 \nQ 353 884 353 1716 \nQ 353 2575 817 3079 \nQ 1281 3584 2069 3584 \nQ 2775 3584 3186 3129 \nQ 3597 2675 3597 1894 \nz\nM 3022 2063 \nQ 3016 2534 2758 2815 \nQ 2500 3097 2075 3097 \nQ 1594 3097 1305 2825 \nQ 1016 2553 972 2059 \nL 3022 2063 \nz\n\" transform=\"scale(0.015625)\"/>\n     </defs>\n     <use xlink:href=\"#DejaVuSans-70\"/>\n     <use xlink:href=\"#DejaVuSans-75\" x=\"63.476562\"/>\n     <use xlink:href=\"#DejaVuSans-6c\" x=\"126.855469\"/>\n     <use xlink:href=\"#DejaVuSans-73\" x=\"154.638672\"/>\n     <use xlink:href=\"#DejaVuSans-65\" x=\"206.738281\"/>\n    </g>\n   </g>\n  </g>\n  <g id=\"axes_2\">\n   <g id=\"patch_7\">\n    <path d=\"M 228.080227 288.430125 \nL 390.4075 288.430125 \nL 390.4075 22.318125 \nL 228.080227 22.318125 \nz\n\" style=\"fill: #ffffff\"/>\n   </g>\n   <g id=\"matplotlib.axis_3\">\n    <g id=\"xtick_2\">\n     <g id=\"line2d_15\">\n      <g>\n       <use xlink:href=\"#m5c4283fafc\" x=\"309.243864\" y=\"288.430125\" style=\"stroke: #000000; stroke-width: 0.8\"/>\n      </g>\n     </g>\n     <g id=\"text_9\">\n      <!-- 1 -->\n      <g transform=\"translate(306.062614 303.028562) scale(0.1 -0.1)\">\n       <use xlink:href=\"#DejaVuSans-31\"/>\n      </g>\n     </g>\n    </g>\n   </g>\n   <g id=\"matplotlib.axis_4\">\n    <g id=\"ytick_7\">\n     <g id=\"line2d_16\">\n      <g>\n       <use xlink:href=\"#mab8e12b1e1\" x=\"228.080227\" y=\"243.345034\" style=\"stroke: #000000; stroke-width: 0.8\"/>\n      </g>\n     </g>\n     <g id=\"text_10\">\n      <!-- 20 -->\n      <g transform=\"translate(208.355227 247.144253) scale(0.1 -0.1)\">\n       <use xlink:href=\"#DejaVuSans-32\"/>\n       <use xlink:href=\"#DejaVuSans-30\" x=\"63.623047\"/>\n      </g>\n     </g>\n    </g>\n    <g id=\"ytick_8\">\n     <g id=\"line2d_17\">\n      <g>\n       <use xlink:href=\"#mab8e12b1e1\" x=\"228.080227\" y=\"188.363216\" style=\"stroke: #000000; stroke-width: 0.8\"/>\n      </g>\n     </g>\n     <g id=\"text_11\">\n      <!-- 40 -->\n      <g transform=\"translate(208.355227 192.162435) scale(0.1 -0.1)\">\n       <use xlink:href=\"#DejaVuSans-34\"/>\n       <use xlink:href=\"#DejaVuSans-30\" x=\"63.623047\"/>\n      </g>\n     </g>\n    </g>\n    <g id=\"ytick_9\">\n     <g id=\"line2d_18\">\n      <g>\n       <use xlink:href=\"#mab8e12b1e1\" x=\"228.080227\" y=\"133.381398\" style=\"stroke: #000000; stroke-width: 0.8\"/>\n      </g>\n     </g>\n     <g id=\"text_12\">\n      <!-- 60 -->\n      <g transform=\"translate(208.355227 137.180616) scale(0.1 -0.1)\">\n       <use xlink:href=\"#DejaVuSans-36\"/>\n       <use xlink:href=\"#DejaVuSans-30\" x=\"63.623047\"/>\n      </g>\n     </g>\n    </g>\n    <g id=\"ytick_10\">\n     <g id=\"line2d_19\">\n      <g>\n       <use xlink:href=\"#mab8e12b1e1\" x=\"228.080227\" y=\"78.39958\" style=\"stroke: #000000; stroke-width: 0.8\"/>\n      </g>\n     </g>\n     <g id=\"text_13\">\n      <!-- 80 -->\n      <g transform=\"translate(208.355227 82.198798) scale(0.1 -0.1)\">\n       <use xlink:href=\"#DejaVuSans-38\"/>\n       <use xlink:href=\"#DejaVuSans-30\" x=\"63.623047\"/>\n      </g>\n     </g>\n    </g>\n    <g id=\"ytick_11\">\n     <g id=\"line2d_20\">\n      <g>\n       <use xlink:href=\"#mab8e12b1e1\" x=\"228.080227\" y=\"23.417761\" style=\"stroke: #000000; stroke-width: 0.8\"/>\n      </g>\n     </g>\n     <g id=\"text_14\">\n      <!-- 100 -->\n      <g transform=\"translate(201.992727 27.21698) scale(0.1 -0.1)\">\n       <use xlink:href=\"#DejaVuSans-31\"/>\n       <use xlink:href=\"#DejaVuSans-30\" x=\"63.623047\"/>\n       <use xlink:href=\"#DejaVuSans-30\" x=\"127.246094\"/>\n      </g>\n     </g>\n    </g>\n   </g>\n   <g id=\"line2d_21\">\n    <path d=\"M 297.069318 248.843216 \nL 321.418409 248.843216 \nL 321.418409 199.35958 \nL 297.069318 199.35958 \nL 297.069318 248.843216 \n\" clip-path=\"url(#p9a6488d71c)\" style=\"fill: none; stroke: #000000; stroke-linecap: square\"/>\n   </g>\n   <g id=\"line2d_22\">\n    <path d=\"M 309.243864 248.843216 \nL 309.243864 276.334125 \n\" clip-path=\"url(#p9a6488d71c)\" style=\"fill: none; stroke: #000000; stroke-linecap: square\"/>\n   </g>\n   <g id=\"line2d_23\">\n    <path d=\"M 309.243864 199.35958 \nL 309.243864 133.381398 \n\" clip-path=\"url(#p9a6488d71c)\" style=\"fill: none; stroke: #000000; stroke-linecap: square\"/>\n   </g>\n   <g id=\"line2d_24\">\n    <path d=\"M 303.156591 276.334125 \nL 315.331136 276.334125 \n\" clip-path=\"url(#p9a6488d71c)\" style=\"fill: none; stroke: #000000; stroke-linecap: square\"/>\n   </g>\n   <g id=\"line2d_25\">\n    <path d=\"M 303.156591 133.381398 \nL 315.331136 133.381398 \n\" clip-path=\"url(#p9a6488d71c)\" style=\"fill: none; stroke: #000000; stroke-linecap: square\"/>\n   </g>\n   <g id=\"line2d_26\">\n    <g clip-path=\"url(#p9a6488d71c)\">\n     <use xlink:href=\"#m3a6e70cbee\" x=\"309.243864\" y=\"78.39958\" style=\"fill-opacity: 0; stroke: #000000\"/>\n     <use xlink:href=\"#m3a6e70cbee\" x=\"309.243864\" y=\"34.414125\" style=\"fill-opacity: 0; stroke: #000000\"/>\n     <use xlink:href=\"#m3a6e70cbee\" x=\"309.243864\" y=\"116.886852\" style=\"fill-opacity: 0; stroke: #000000\"/>\n     <use xlink:href=\"#m3a6e70cbee\" x=\"309.243864\" y=\"111.38867\" style=\"fill-opacity: 0; stroke: #000000\"/>\n     <use xlink:href=\"#m3a6e70cbee\" x=\"309.243864\" y=\"50.90867\" style=\"fill-opacity: 0; stroke: #000000\"/>\n     <use xlink:href=\"#m3a6e70cbee\" x=\"309.243864\" y=\"78.39958\" style=\"fill-opacity: 0; stroke: #000000\"/>\n     <use xlink:href=\"#m3a6e70cbee\" x=\"309.243864\" y=\"111.38867\" style=\"fill-opacity: 0; stroke: #000000\"/>\n     <use xlink:href=\"#m3a6e70cbee\" x=\"309.243864\" y=\"50.90867\" style=\"fill-opacity: 0; stroke: #000000\"/>\n     <use xlink:href=\"#m3a6e70cbee\" x=\"309.243864\" y=\"105.890489\" style=\"fill-opacity: 0; stroke: #000000\"/>\n    </g>\n   </g>\n   <g id=\"line2d_27\">\n    <path d=\"M 297.069318 232.34867 \nL 321.418409 232.34867 \n\" clip-path=\"url(#p9a6488d71c)\" style=\"fill: none; stroke: #ff7f0e; stroke-linecap: square\"/>\n   </g>\n   <g id=\"patch_8\">\n    <path d=\"M 228.080227 288.430125 \nL 228.080227 22.318125 \n\" style=\"fill: none; stroke: #000000; stroke-width: 0.8; stroke-linejoin: miter; stroke-linecap: square\"/>\n   </g>\n   <g id=\"patch_9\">\n    <path d=\"M 390.4075 288.430125 \nL 390.4075 22.318125 \n\" style=\"fill: none; stroke: #000000; stroke-width: 0.8; stroke-linejoin: miter; stroke-linecap: square\"/>\n   </g>\n   <g id=\"patch_10\">\n    <path d=\"M 228.080227 288.430125 \nL 390.4075 288.430125 \n\" style=\"fill: none; stroke: #000000; stroke-width: 0.8; stroke-linejoin: miter; stroke-linecap: square\"/>\n   </g>\n   <g id=\"patch_11\">\n    <path d=\"M 228.080227 22.318125 \nL 390.4075 22.318125 \n\" style=\"fill: none; stroke: #000000; stroke-width: 0.8; stroke-linejoin: miter; stroke-linecap: square\"/>\n   </g>\n   <g id=\"text_15\">\n    <!-- resprate -->\n    <g transform=\"translate(284.098239 16.318125) scale(0.12 -0.12)\">\n     <defs>\n      <path id=\"DejaVuSans-72\" d=\"M 2631 2963 \nQ 2534 3019 2420 3045 \nQ 2306 3072 2169 3072 \nQ 1681 3072 1420 2755 \nQ 1159 2438 1159 1844 \nL 1159 0 \nL 581 0 \nL 581 3500 \nL 1159 3500 \nL 1159 2956 \nQ 1341 3275 1631 3429 \nQ 1922 3584 2338 3584 \nQ 2397 3584 2469 3576 \nQ 2541 3569 2628 3553 \nL 2631 2963 \nz\n\" transform=\"scale(0.015625)\"/>\n      <path id=\"DejaVuSans-61\" d=\"M 2194 1759 \nQ 1497 1759 1228 1600 \nQ 959 1441 959 1056 \nQ 959 750 1161 570 \nQ 1363 391 1709 391 \nQ 2188 391 2477 730 \nQ 2766 1069 2766 1631 \nL 2766 1759 \nL 2194 1759 \nz\nM 3341 1997 \nL 3341 0 \nL 2766 0 \nL 2766 531 \nQ 2569 213 2275 61 \nQ 1981 -91 1556 -91 \nQ 1019 -91 701 211 \nQ 384 513 384 1019 \nQ 384 1609 779 1909 \nQ 1175 2209 1959 2209 \nL 2766 2209 \nL 2766 2266 \nQ 2766 2663 2505 2880 \nQ 2244 3097 1772 3097 \nQ 1472 3097 1187 3025 \nQ 903 2953 641 2809 \nL 641 3341 \nQ 956 3463 1253 3523 \nQ 1550 3584 1831 3584 \nQ 2591 3584 2966 3190 \nQ 3341 2797 3341 1997 \nz\n\" transform=\"scale(0.015625)\"/>\n      <path id=\"DejaVuSans-74\" d=\"M 1172 4494 \nL 1172 3500 \nL 2356 3500 \nL 2356 3053 \nL 1172 3053 \nL 1172 1153 \nQ 1172 725 1289 603 \nQ 1406 481 1766 481 \nL 2356 481 \nL 2356 0 \nL 1766 0 \nQ 1100 0 847 248 \nQ 594 497 594 1153 \nL 594 3053 \nL 172 3053 \nL 172 3500 \nL 594 3500 \nL 594 4494 \nL 1172 4494 \nz\n\" transform=\"scale(0.015625)\"/>\n     </defs>\n     <use xlink:href=\"#DejaVuSans-72\"/>\n     <use xlink:href=\"#DejaVuSans-65\" x=\"38.863281\"/>\n     <use xlink:href=\"#DejaVuSans-73\" x=\"100.386719\"/>\n     <use xlink:href=\"#DejaVuSans-70\" x=\"152.486328\"/>\n     <use xlink:href=\"#DejaVuSans-72\" x=\"215.962891\"/>\n     <use xlink:href=\"#DejaVuSans-61\" x=\"257.076172\"/>\n     <use xlink:href=\"#DejaVuSans-74\" x=\"318.355469\"/>\n     <use xlink:href=\"#DejaVuSans-65\" x=\"357.564453\"/>\n    </g>\n   </g>\n  </g>\n </g>\n <defs>\n  <clipPath id=\"p95db657bc5\">\n   <rect x=\"33.2875\" y=\"22.318125\" width=\"162.327273\" height=\"266.112\"/>\n  </clipPath>\n  <clipPath id=\"p9a6488d71c\">\n   <rect x=\"228.080227\" y=\"22.318125\" width=\"162.327273\" height=\"266.112\"/>\n  </clipPath>\n </defs>\n</svg>\n",
      "text/plain": [
       "<Figure size 640x480 with 2 Axes>"
      ]
     },
     "metadata": {},
     "output_type": "display_data"
    }
   ],
   "source": [
    "import matplotlib.pyplot as plt\n",
    "\n",
    "df_nonan = df[['pulse', 'respiratory rate']].dropna()\n",
    "\n",
    "fig, (bp1,bp2) = plt.subplots(1,2)\n",
    "\n",
    "bp1.boxplot(list(df_nonan['pulse']))\n",
    "bp2.boxplot(df_nonan['respiratory rate'])\n",
    "\n",
    "bp1.set_title('pulse')\n",
    "bp2.set_title('resprate')\n",
    "\n",
    "plt.show()"
   ]
  },
  {
   "attachments": {},
   "cell_type": "markdown",
   "metadata": {},
   "source": [
    "В целом каких-то сумасшедших выбросов тут не видно. Опять же это требуется уточнять у докторов и специалистов в данной области"
   ]
  },
  {
   "attachments": {},
   "cell_type": "markdown",
   "metadata": {},
   "source": [
    "### Задание 3. Работа с пропусками\n",
    "\n",
    "Рассчитать количество пропусков для всех выбранных столбцов. Принять и обосновать решение о методе заполнения пропусков по каждому столбцу на основе рассчитанных статистик и возможной взаимосвязи значений в них. Сформировать датафрейм, в котором пропуски будут отсутствовать."
   ]
  },
  {
   "cell_type": "code",
   "execution_count": 10,
   "metadata": {},
   "outputs": [
    {
     "name": "stdout",
     "output_type": "stream",
     "text": [
      "В колонке surgery 1 NaN\n",
      "В колонке age 0 NaN\n",
      "В колонке rectal temperature 56 NaN\n",
      "В колонке pulse 22 NaN\n",
      "В колонке respiratory rate 54 NaN\n",
      "В колонке temperature of extremities 48 NaN\n",
      "В колонке pain 48 NaN\n",
      "В колонке outcome 1 NaN\n"
     ]
    }
   ],
   "source": [
    "for column, number in dict(df.count()).items():\n",
    "    print('В колонке {} {} NaN'.format(column, 275-number))"
   ]
  },
  {
   "attachments": {},
   "cell_type": "markdown",
   "metadata": {},
   "source": [
    "На самом деле очень сложно сделать выводы о заполнении некоторых значений, поскольку мы не знаем что для нас важнее. Исходя из стат. значений выше:\n",
    "\n",
    "- surgery можем рассмотреть индивидуально и принять решение на основании показателя боли. Цитата: `In general, the more painful, the more likely it is to require surgery`\n",
    "- age заполнен полностью\n",
    "- rectal temperature надо посмотреть. Cогласно документу - `normal temp is 37.8`, а также `hot extremities should correlate with an elevated rectal temp.`, а еще `this parameter will usually change as the problem progresses` и `temperature may be reduced when the animal is in late shock`, следовательно ищем зависимости между этим значением, temperature of extremites, а также уровнем боли. Всем остльным дадим нормальную температуру.\n",
    "- pulse проанализируем на основании: `rare to have a lower than normal rate although athletic horses may have a rate of 20-25` и `animals with painful lesions or suffering from circulatory shock may have an elevated heart rate`. Учтем что `30-40 is normal for adult`\n",
    "- respiratory rate заполним медианой, поскольку `usefulness is doubtful due to the great fluctuations`\n",
    "- temperature of extremities тут надо посмотреть, поскольку цитата: `hot extremities should correlate with an elevated rectal temp.` а также `cool to cold extremities indicate possible shock`\n",
    "- pain отражает силу боли напрямую, но документ отмечает что `should NOT be treated as a ordered or discrete variable!` а также `In general, the more painful, the more likely it is to require surgery`, что позволяет определить заполнение 1 столбца, `cool to cold extremities indicate possible shock`\n",
    "- outcome так же рассмотрим индивидуально, поскольку значения вообще не сравниваемые. 1 - выжил, 2 - умер, 3 - эвтаназия."
   ]
  },
  {
   "attachments": {},
   "cell_type": "markdown",
   "metadata": {},
   "source": [
    "**Сразу перед стартом подчеркну что решения в функциях не самые изящные. что я понял под конец, но переписывать всё займет слишком много вреиени**"
   ]
  },
  {
   "attachments": {},
   "cell_type": "markdown",
   "metadata": {},
   "source": [
    "Surgery"
   ]
  },
  {
   "cell_type": "code",
   "execution_count": 11,
   "metadata": {},
   "outputs": [
    {
     "data": {
      "text/html": [
       "<div>\n",
       "<style scoped>\n",
       "    .dataframe tbody tr th:only-of-type {\n",
       "        vertical-align: middle;\n",
       "    }\n",
       "\n",
       "    .dataframe tbody tr th {\n",
       "        vertical-align: top;\n",
       "    }\n",
       "\n",
       "    .dataframe thead th {\n",
       "        text-align: right;\n",
       "    }\n",
       "</style>\n",
       "<table border=\"1\" class=\"dataframe\">\n",
       "  <thead>\n",
       "    <tr style=\"text-align: right;\">\n",
       "      <th></th>\n",
       "      <th>surgery</th>\n",
       "      <th>age</th>\n",
       "      <th>rectal temperature</th>\n",
       "      <th>pulse</th>\n",
       "      <th>respiratory rate</th>\n",
       "      <th>temperature of extremities</th>\n",
       "      <th>pain</th>\n",
       "      <th>outcome</th>\n",
       "    </tr>\n",
       "  </thead>\n",
       "  <tbody>\n",
       "    <tr>\n",
       "      <th>131</th>\n",
       "      <td>NaN</td>\n",
       "      <td>1</td>\n",
       "      <td>38.0</td>\n",
       "      <td>48.0</td>\n",
       "      <td>20.0</td>\n",
       "      <td>3.0</td>\n",
       "      <td>4.0</td>\n",
       "      <td>NaN</td>\n",
       "    </tr>\n",
       "  </tbody>\n",
       "</table>\n",
       "</div>"
      ],
      "text/plain": [
       "     surgery  age  rectal temperature  pulse  respiratory rate  \\\n",
       "131      NaN    1                38.0   48.0              20.0   \n",
       "\n",
       "     temperature of extremities  pain  outcome  \n",
       "131                         3.0   4.0      NaN  "
      ]
     },
     "execution_count": 11,
     "metadata": {},
     "output_type": "execute_result"
    }
   ],
   "source": [
    "df.loc[df['surgery'].isna()]"
   ]
  },
  {
   "attachments": {},
   "cell_type": "markdown",
   "metadata": {},
   "source": [
    "Как мы можем заметить - пропуск в surgery там же где и в outcome. Pain описывается как `intermittent severe pain`, что подразумевает высокую вероятность операции. Зависят ли как то операция и outcome? Проведем анализ исходя из моды, поскольку медиану и среднее будет некорректно использовать в качественных номинальных значениях"
   ]
  },
  {
   "cell_type": "code",
   "execution_count": 12,
   "metadata": {},
   "outputs": [
    {
     "data": {
      "text/plain": [
       "surgery\n",
       "1.0    1.0\n",
       "2.0    1.0\n",
       "Name: outcome, dtype: float64"
      ]
     },
     "execution_count": 12,
     "metadata": {},
     "output_type": "execute_result"
    }
   ],
   "source": [
    "df[['surgery', 'outcome']].groupby('surgery')['outcome'].agg(pd.Series.mode)"
   ]
  },
  {
   "attachments": {},
   "cell_type": "markdown",
   "metadata": {},
   "source": [
    "Вывод - заполняем outcome единицей в любом из случаев, поскольку это самый часто встречающийся вариант"
   ]
  },
  {
   "attachments": {},
   "cell_type": "markdown",
   "metadata": {},
   "source": [
    "Теперь rectal temperature. Согласно вышеописанному мы можем заполнить на основании следующих столбцов по убыванию важности:\n",
    "- temperature of extremites\n",
    "- pain\n",
    "\n",
    "То есть есть 4 категории. Где влияет всё, влияет по одному из 2 параметров и ничего. Всем остальным можем присвоить нормальное значение."
   ]
  },
  {
   "cell_type": "code",
   "execution_count": 13,
   "metadata": {},
   "outputs": [],
   "source": [
    "df_rect_on_ext_pain = df.loc[df['rectal temperature'].isna() &  ~(df['temperature of extremities'].isna() & df['rectal temperature'].isna())&  ~(df['pain'].isna() & df['rectal temperature'].isna())]\n",
    "temp_index_set = set(df_rect_on_ext_pain.index)\n",
    "df_rect_on_ext = df.loc[df['rectal temperature'].isna() &  ~(df['temperature of extremities'].isna() & df['rectal temperature'].isna())].drop(index=temp_index_set, errors='ignore')\n",
    "temp_index_set = set(list(df_rect_on_ext.index) + list(df_rect_on_ext_pain.index))\n",
    "df_rect_on_pain = df.loc[df['rectal temperature'].isna() &  ~(df['pain'].isna() & df['rectal temperature'].isna())].drop(index=temp_index_set, errors='ignore')\n",
    "temp_index_set = set(list(df_rect_on_ext.index) + list(df_rect_on_pain.index) + list(df_rect_on_ext_pain.index))\n",
    "df_rect_norm = df.loc[df['rectal temperature'].isna()].drop(index=temp_index_set, errors='ignore')\n"
   ]
  },
  {
   "cell_type": "code",
   "execution_count": 14,
   "metadata": {},
   "outputs": [
    {
     "data": {
      "text/plain": [
       "temperature of extremities  pain\n",
       "1.0                         1.0     38.037500\n",
       "                            2.0     38.030769\n",
       "                            3.0     38.208696\n",
       "                            4.0     37.950000\n",
       "                            5.0     38.133333\n",
       "2.0                         1.0     38.140000\n",
       "                            2.0     38.400000\n",
       "                            3.0     37.955556\n",
       "                            4.0     38.250000\n",
       "                            5.0           NaN\n",
       "3.0                         1.0     38.014286\n",
       "                            2.0     38.811111\n",
       "                            3.0     37.962500\n",
       "                            4.0     37.721429\n",
       "                            5.0     38.050000\n",
       "4.0                         2.0     38.566667\n",
       "                            3.0     38.250000\n",
       "                            4.0     38.500000\n",
       "                            5.0     38.600000\n",
       "Name: rectal temperature, dtype: float64"
      ]
     },
     "execution_count": 14,
     "metadata": {},
     "output_type": "execute_result"
    }
   ],
   "source": [
    "df_reference = df.groupby(['temperature of extremities', 'pain'])['rectal temperature'].mean()\n",
    "df_reference"
   ]
  },
  {
   "cell_type": "code",
   "execution_count": 15,
   "metadata": {},
   "outputs": [
    {
     "data": {
      "text/plain": [
       "temperature of extremities\n",
       "1.0    38.093846\n",
       "2.0    38.203846\n",
       "3.0    38.147945\n",
       "4.0    38.421053\n",
       "Name: rectal temperature, dtype: float64"
      ]
     },
     "execution_count": 15,
     "metadata": {},
     "output_type": "execute_result"
    }
   ],
   "source": [
    "df_reference_temp_ext = df.groupby('temperature of extremities')['rectal temperature'].mean()\n",
    "df_reference_temp_ext"
   ]
  },
  {
   "cell_type": "code",
   "execution_count": 16,
   "metadata": {},
   "outputs": [
    {
     "data": {
      "text/plain": [
       "pain\n",
       "1.0    38.097143\n",
       "2.0    38.411111\n",
       "3.0    38.073684\n",
       "4.0    37.900000\n",
       "5.0    38.110526\n",
       "Name: rectal temperature, dtype: float64"
      ]
     },
     "execution_count": 16,
     "metadata": {},
     "output_type": "execute_result"
    }
   ],
   "source": [
    "df_reference_pain = df.groupby('pain')['rectal temperature'].mean()\n",
    "df_reference_pain"
   ]
  },
  {
   "cell_type": "code",
   "execution_count": 17,
   "metadata": {},
   "outputs": [
    {
     "data": {
      "text/plain": [
       "37.8"
      ]
     },
     "execution_count": 17,
     "metadata": {},
     "output_type": "execute_result"
    }
   ],
   "source": [
    "normal_temp = 37.8\n",
    "normal_temp"
   ]
  },
  {
   "attachments": {},
   "cell_type": "markdown",
   "metadata": {},
   "source": [
    "Так и присвоим, раз есть корреляция согласно документам. Создадим функцию применив которую мы сможем это организовать"
   ]
  },
  {
   "cell_type": "code",
   "execution_count": 18,
   "metadata": {},
   "outputs": [],
   "source": [
    "def rect_temp_value_fill(row):\n",
    "\n",
    "    if pd.isnull(row['temperature of extremities']) and pd.isnull(row['pain']) and pd.isnull(row['rectal temperature']):\n",
    "        return normal_temp\n",
    "        \n",
    "    elif pd.isnull(row['pain']) and pd.isnull(row['rectal temperature']):\n",
    "        for temp_of_ext in range(1,5):\n",
    "            if row['temperature of extremities'] == temp_of_ext:\n",
    "                return df_reference_temp_ext[temp_of_ext]\n",
    "                \n",
    "\n",
    "    elif pd.isnull(row['temperature of extremities']) and pd.isnull(row['rectal temperature']):\n",
    "        for pain_lvl in range(1,6):\n",
    "            if row['pain'] == pain_lvl:\n",
    "                return df_reference_pain[pain_lvl]\n",
    "\n",
    "    elif pd.isnull(row['rectal temperature']):\n",
    "        for temp_of_ext in range(1,5):\n",
    "            if row['temperature of extremities'] == temp_of_ext:\n",
    "                for pain_lvl in range(1,6):\n",
    "                    if temp_of_ext == 2 and pain_lvl == 5:\n",
    "                        return normal_temp\n",
    "                    elif int(row['pain']) == pain_lvl:\n",
    "                        if temp_of_ext in [1,2]:\n",
    "                            return df_reference[temp_of_ext][pain_lvl]\n",
    "                        else:\n",
    "                            return df_reference_pain[pain_lvl]\n",
    "                    \n",
    "        \n",
    "        \n",
    "    else:\n",
    "        return row['rectal temperature']"
   ]
  },
  {
   "attachments": {},
   "cell_type": "markdown",
   "metadata": {},
   "source": [
    "Теперь заполняем pulse. На основании `animals with painful lesions or suffering from circulatory shock may have an elevated heart rate` берем зависимость от боли. Это не температура и дробной быть не может так что будем брать медиану\n",
    "\n",
    "У нас есть 2 варианта. Либо оба значения отсуствтуют, либо есть pain. Заполним 2 методами\n",
    "\n",
    "В случаях когда боль неизвестна будем брать обычный пульс"
   ]
  },
  {
   "cell_type": "code",
   "execution_count": 19,
   "metadata": {},
   "outputs": [
    {
     "data": {
      "text/plain": [
       "pain\n",
       "1.0    48.0\n",
       "2.0    72.0\n",
       "3.0    55.0\n",
       "4.0    77.5\n",
       "5.0    88.0\n",
       "Name: pulse, dtype: float64"
      ]
     },
     "execution_count": 19,
     "metadata": {},
     "output_type": "execute_result"
    }
   ],
   "source": [
    "normal_pulse = 35\n",
    "df_ref_pulse_pain = df.groupby('pain')['pulse'].median()\n",
    "df_ref_pulse_pain"
   ]
  },
  {
   "cell_type": "code",
   "execution_count": 20,
   "metadata": {},
   "outputs": [],
   "source": [
    "def pulse_fill(row):\n",
    "\n",
    "    if pd.isnull(row['pulse']) and pd.isnull(row['pain']):\n",
    "        return normal_pulse\n",
    "        \n",
    "    elif pd.isnull(row['pulse']):\n",
    "        for pain_lvl in range(1,6):\n",
    "            if row['pain'] == pain_lvl:\n",
    "                return df_ref_pulse_pain[pain_lvl]\n",
    "    \n",
    "    else:\n",
    "        return row['pulse']"
   ]
  },
  {
   "attachments": {},
   "cell_type": "markdown",
   "metadata": {},
   "source": [
    "respiratory rate заполним медианой, поскольку `usefulness is doubtful due to the great fluctuations`"
   ]
  },
  {
   "attachments": {},
   "cell_type": "markdown",
   "metadata": {},
   "source": [
    "`hot extremities should correlate with an elevated rectal temp.` а также `cool to cold extremities indicate possible shock`. Помним что `normal_temp = 37.8`\n",
    "\n",
    "Это качественное номинальное значение, что означает, что мы будем брать моду\n",
    "При отсутствии зависимостей будем давать нормальное значение"
   ]
  },
  {
   "cell_type": "code",
   "execution_count": 21,
   "metadata": {},
   "outputs": [
    {
     "data": {
      "text/plain": [
       "pain\n",
       "1.0    1.0\n",
       "2.0    3.0\n",
       "3.0    1.0\n",
       "4.0    3.0\n",
       "5.0    3.0\n",
       "Name: temperature of extremities, dtype: float64"
      ]
     },
     "execution_count": 21,
     "metadata": {},
     "output_type": "execute_result"
    }
   ],
   "source": [
    "df.groupby('pain')['temperature of extremities'].agg(pd.Series.mode)"
   ]
  },
  {
   "cell_type": "code",
   "execution_count": 22,
   "metadata": {},
   "outputs": [],
   "source": [
    "def extremities_fill(row):\n",
    "    if pd.isnull(row['temperature of extremities']) and row['rectal temperature'] > normal_temp:\n",
    "        return 2.0\n",
    "    \n",
    "    elif pd.isnull(row['temperature of extremities']) and row['pain'] > 3:\n",
    "        return 3.0\n",
    "    \n",
    "    elif pd.isnull(row['temperature of extremities']):\n",
    "        return 1\n",
    "    \n",
    "    else:\n",
    "        return row['temperature of extremities']"
   ]
  },
  {
   "attachments": {},
   "cell_type": "markdown",
   "metadata": {},
   "source": [
    "По pain документ отмечает следующие зависимости:\n",
    "- `In general, the more painful, the more likely it is to require surgery`\n",
    "- `cool to cold extremities indicate possible shock`\n",
    "- `rectal temperature may be reduced when the animal is in late shock`"
   ]
  },
  {
   "attachments": {},
   "cell_type": "markdown",
   "metadata": {},
   "source": [
    "Поскольку на данный момент заполнены все значения кроме одного мы можем обойтись 1 if со сложным циклом"
   ]
  },
  {
   "cell_type": "code",
   "execution_count": 23,
   "metadata": {},
   "outputs": [
    {
     "data": {
      "text/plain": [
       "0    3.0\n",
       "Name: pain, dtype: float64"
      ]
     },
     "execution_count": 23,
     "metadata": {},
     "output_type": "execute_result"
    }
   ],
   "source": [
    "pain_mode = df['pain'].mode()\n",
    "pain_mode"
   ]
  },
  {
   "cell_type": "code",
   "execution_count": 24,
   "metadata": {},
   "outputs": [
    {
     "data": {
      "text/plain": [
       "surgery\n",
       "1.0    3.0\n",
       "2.0    1.0\n",
       "Name: pain, dtype: object"
      ]
     },
     "execution_count": 24,
     "metadata": {},
     "output_type": "execute_result"
    }
   ],
   "source": [
    "df_ref_pain_surg = df.groupby('surgery')['pain'].agg(pd.Series.mode)\n",
    "df_ref_pain_surg[2] = 1.0\n",
    "df_ref_pain_surg"
   ]
  },
  {
   "cell_type": "code",
   "execution_count": 25,
   "metadata": {},
   "outputs": [
    {
     "data": {
      "text/plain": [
       "0    3.0\n",
       "Name: pain, dtype: float64"
      ]
     },
     "execution_count": 25,
     "metadata": {},
     "output_type": "execute_result"
    }
   ],
   "source": [
    "df_ref_pain_temp = df.loc[df['rectal temperature'] < normal_temp]['pain'].mode()\n",
    "df_ref_pain_temp"
   ]
  },
  {
   "cell_type": "code",
   "execution_count": 26,
   "metadata": {},
   "outputs": [
    {
     "data": {
      "text/plain": [
       "temperature of extremities\n",
       "1.0    3.0\n",
       "2.0    1.0\n",
       "3.0    5.0\n",
       "4.0    2.0\n",
       "Name: pain, dtype: float64"
      ]
     },
     "execution_count": 26,
     "metadata": {},
     "output_type": "execute_result"
    }
   ],
   "source": [
    "df_ref_pain_ext = df.groupby('temperature of extremities')['pain'].agg(pd.Series.mode)\n",
    "df_ref_pain_ext"
   ]
  },
  {
   "cell_type": "code",
   "execution_count": 27,
   "metadata": {},
   "outputs": [
    {
     "data": {
      "text/plain": [
       "surgery  temperature of extremities\n",
       "1.0      1.0                           3.0\n",
       "         2.0                           3.0\n",
       "         3.0                           5.0\n",
       "         4.0                           2.0\n",
       "2.0      1.0                           1.0\n",
       "         2.0                           1.0\n",
       "         3.0                           3.0\n",
       "         4.0                           2.0\n",
       "Name: pain, dtype: object"
      ]
     },
     "execution_count": 27,
     "metadata": {},
     "output_type": "execute_result"
    }
   ],
   "source": [
    "df_ref_pain_surg_ext = df.groupby(['surgery', 'temperature of extremities'])['pain'].agg(pd.Series.mode)\n",
    "df_ref_pain_surg_ext[2][3] = 3.0\n",
    "df_ref_pain_surg_ext"
   ]
  },
  {
   "attachments": {},
   "cell_type": "markdown",
   "metadata": {},
   "source": [
    "Спорные вопросы возникают в секции 2-3"
   ]
  },
  {
   "cell_type": "code",
   "execution_count": 28,
   "metadata": {},
   "outputs": [],
   "source": [
    "def pain_fill(row):\n",
    "    if pd.isnull(row['pain']) and pd.isnull(row['temperature of extremities']) and pd.isnull(row['rectal temperature']) and pd.isnull(row['surgery']):\n",
    "        return int(pain_mode)\n",
    "\n",
    "    elif pd.isnull(row['pain']) and pd.isnull(row['temperature of extremities']) and pd.isnull(row['rectal temperature']):\n",
    "        if row['surgery'] == 1:\n",
    "            return 3.0\n",
    "        else: \n",
    "            return 1.0\n",
    "            \n",
    "    elif pd.isnull(row['pain']) and pd.isnull(row['temperature of extremities']) and pd.isnull(row['surgery']):\n",
    "        if row['rectal temperature'] < normal_temp:\n",
    "            return 4.0\n",
    "        else:\n",
    "            return int(pain_mode)\n",
    "    \n",
    "    elif pd.isnull(row['pain']) and pd.isnull(row['rectal temperature']) and pd.isnull(row['surgery']):\n",
    "        for temp_ext in range(1,5):\n",
    "            if row['temperature of extremities'] == temp_ext:\n",
    "                if temp_ext in [3,4]:\n",
    "                    return df_ref_pain_ext[temp_ext]\n",
    "                else:\n",
    "                    return int(pain_mode)\n",
    "        \n",
    "    elif pd.isnull(row['pain']) and pd.isnull(row['surgery']):\n",
    "        for temp_ext in range(1,5):\n",
    "            if row['temperature of extremities'] == temp_ext:\n",
    "                if temp_ext in [3,4]:\n",
    "                    return df_ref_pain_ext[temp_ext]\n",
    "                elif row['rectal temperature'] < normal_temp:\n",
    "                    return 4.0\n",
    "                else:\n",
    "                    return int(pain_mode)\n",
    "\n",
    "    elif pd.isnull(row['pain']) and pd.isnull(row['rectal temperature']):\n",
    "         for temp_ext in range(1,5):\n",
    "            if row['temperature of extremities'] == temp_ext:\n",
    "                for surgery_is in [1,2]:\n",
    "                    if surgery_is == row['surgery']:\n",
    "                        if surgery_is == 1 or temp_ext in [3,4]:\n",
    "                            return df_ref_pain_surg_ext[surgery_is][temp_ext]\n",
    "                        else:\n",
    "                            return int(pain_mode)\n",
    "\n",
    "    elif pd.isnull(row['pain']) and pd.isnull(row['temperature of extremities']):\n",
    "        for surgery_is in [1,2]:\n",
    "            if surgery_is == row['surgery']:\n",
    "                if surgery_is == 1 and row['rectal temperature'] < normal_temp or row['rectal temperature'] < normal_temp:\n",
    "                    return 4.0\n",
    "                elif surgery_is == 1:\n",
    "                    return 3.0\n",
    "                else:\n",
    "                    return 2.0\n",
    "\n",
    "    elif pd.isnull(row['pain']):\n",
    "        for temp_ext in range(1,5):\n",
    "            if row['temperature of extremities'] == temp_ext:\n",
    "                for surgery_is in [1,2]:\n",
    "                    if surgery_is == row['surgery']:\n",
    "                        if surgery_is == 1 and row['rectal temperature'] < normal_temp or row['rectal temperature'] < normal_temp:\n",
    "                            return 4.0\n",
    "                        elif surgery_is == 1 or temp_ext in [3,4]:\n",
    "                            return df_ref_pain_surg_ext[surgery_is][temp_ext]\n",
    "                        else:\n",
    "                            return int(pain_mode)\n",
    "    else:\n",
    "        return row['pain']"
   ]
  },
  {
   "attachments": {},
   "cell_type": "markdown",
   "metadata": {},
   "source": [
    "Применяем все функции и изменения"
   ]
  },
  {
   "cell_type": "code",
   "execution_count": 29,
   "metadata": {},
   "outputs": [],
   "source": [
    "df_temp = pd.DataFrame()"
   ]
  },
  {
   "cell_type": "code",
   "execution_count": 30,
   "metadata": {},
   "outputs": [],
   "source": [
    "df_temp['surgery'] = df['surgery'].fillna(1)\n",
    "df_temp['age'] = df['age']\n",
    "df_temp['rectal temperature'] = df.apply(rect_temp_value_fill, axis=1)\n",
    "df_temp['pulse'] = df.apply(pulse_fill, axis=1)\n",
    "df_temp['respiratory rate'] = df['respiratory rate'].fillna(df['respiratory rate'].median())\n",
    "df_temp['temperature of extremities'] = df.apply(extremities_fill, axis=1)\n",
    "df_temp['pain'] = df.apply(pain_fill, axis=1)\n",
    "df_temp['outcome'] = df['outcome'].fillna(1)"
   ]
  },
  {
   "cell_type": "code",
   "execution_count": 32,
   "metadata": {},
   "outputs": [
    {
     "data": {
      "text/html": [
       "<div>\n",
       "<style scoped>\n",
       "    .dataframe tbody tr th:only-of-type {\n",
       "        vertical-align: middle;\n",
       "    }\n",
       "\n",
       "    .dataframe tbody tr th {\n",
       "        vertical-align: top;\n",
       "    }\n",
       "\n",
       "    .dataframe thead th {\n",
       "        text-align: right;\n",
       "    }\n",
       "</style>\n",
       "<table border=\"1\" class=\"dataframe\">\n",
       "  <thead>\n",
       "    <tr style=\"text-align: right;\">\n",
       "      <th></th>\n",
       "      <th>surgery</th>\n",
       "      <th>age</th>\n",
       "      <th>rectal temperature</th>\n",
       "      <th>pulse</th>\n",
       "      <th>respiratory rate</th>\n",
       "      <th>temperature of extremities</th>\n",
       "      <th>pain</th>\n",
       "      <th>outcome</th>\n",
       "    </tr>\n",
       "  </thead>\n",
       "  <tbody>\n",
       "    <tr>\n",
       "      <th>count</th>\n",
       "      <td>275.000000</td>\n",
       "      <td>275.0</td>\n",
       "      <td>275.000000</td>\n",
       "      <td>275.000000</td>\n",
       "      <td>275.000000</td>\n",
       "      <td>275.000000</td>\n",
       "      <td>275.000000</td>\n",
       "      <td>275.000000</td>\n",
       "    </tr>\n",
       "    <tr>\n",
       "      <th>mean</th>\n",
       "      <td>1.407273</td>\n",
       "      <td>1.0</td>\n",
       "      <td>38.110033</td>\n",
       "      <td>67.294545</td>\n",
       "      <td>27.407273</td>\n",
       "      <td>2.232727</td>\n",
       "      <td>2.992727</td>\n",
       "      <td>1.549091</td>\n",
       "    </tr>\n",
       "    <tr>\n",
       "      <th>std</th>\n",
       "      <td>0.492222</td>\n",
       "      <td>0.0</td>\n",
       "      <td>0.663167</td>\n",
       "      <td>23.809320</td>\n",
       "      <td>13.800506</td>\n",
       "      <td>1.027195</td>\n",
       "      <td>1.275807</td>\n",
       "      <td>0.749908</td>\n",
       "    </tr>\n",
       "    <tr>\n",
       "      <th>min</th>\n",
       "      <td>1.000000</td>\n",
       "      <td>1.0</td>\n",
       "      <td>35.400000</td>\n",
       "      <td>30.000000</td>\n",
       "      <td>8.000000</td>\n",
       "      <td>1.000000</td>\n",
       "      <td>1.000000</td>\n",
       "      <td>1.000000</td>\n",
       "    </tr>\n",
       "    <tr>\n",
       "      <th>25%</th>\n",
       "      <td>1.000000</td>\n",
       "      <td>1.0</td>\n",
       "      <td>37.800000</td>\n",
       "      <td>48.000000</td>\n",
       "      <td>20.000000</td>\n",
       "      <td>1.000000</td>\n",
       "      <td>2.000000</td>\n",
       "      <td>1.000000</td>\n",
       "    </tr>\n",
       "    <tr>\n",
       "      <th>50%</th>\n",
       "      <td>1.000000</td>\n",
       "      <td>1.0</td>\n",
       "      <td>38.100000</td>\n",
       "      <td>60.000000</td>\n",
       "      <td>24.000000</td>\n",
       "      <td>2.000000</td>\n",
       "      <td>3.000000</td>\n",
       "      <td>1.000000</td>\n",
       "    </tr>\n",
       "    <tr>\n",
       "      <th>75%</th>\n",
       "      <td>2.000000</td>\n",
       "      <td>1.0</td>\n",
       "      <td>38.411111</td>\n",
       "      <td>85.000000</td>\n",
       "      <td>32.000000</td>\n",
       "      <td>3.000000</td>\n",
       "      <td>4.000000</td>\n",
       "      <td>2.000000</td>\n",
       "    </tr>\n",
       "    <tr>\n",
       "      <th>max</th>\n",
       "      <td>2.000000</td>\n",
       "      <td>1.0</td>\n",
       "      <td>40.800000</td>\n",
       "      <td>140.000000</td>\n",
       "      <td>96.000000</td>\n",
       "      <td>4.000000</td>\n",
       "      <td>5.000000</td>\n",
       "      <td>3.000000</td>\n",
       "    </tr>\n",
       "  </tbody>\n",
       "</table>\n",
       "</div>"
      ],
      "text/plain": [
       "          surgery    age  rectal temperature       pulse  respiratory rate  \\\n",
       "count  275.000000  275.0          275.000000  275.000000        275.000000   \n",
       "mean     1.407273    1.0           38.110033   67.294545         27.407273   \n",
       "std      0.492222    0.0            0.663167   23.809320         13.800506   \n",
       "min      1.000000    1.0           35.400000   30.000000          8.000000   \n",
       "25%      1.000000    1.0           37.800000   48.000000         20.000000   \n",
       "50%      1.000000    1.0           38.100000   60.000000         24.000000   \n",
       "75%      2.000000    1.0           38.411111   85.000000         32.000000   \n",
       "max      2.000000    1.0           40.800000  140.000000         96.000000   \n",
       "\n",
       "       temperature of extremities        pain     outcome  \n",
       "count                  275.000000  275.000000  275.000000  \n",
       "mean                     2.232727    2.992727    1.549091  \n",
       "std                      1.027195    1.275807    0.749908  \n",
       "min                      1.000000    1.000000    1.000000  \n",
       "25%                      1.000000    2.000000    1.000000  \n",
       "50%                      2.000000    3.000000    1.000000  \n",
       "75%                      3.000000    4.000000    2.000000  \n",
       "max                      4.000000    5.000000    3.000000  "
      ]
     },
     "execution_count": 32,
     "metadata": {},
     "output_type": "execute_result"
    }
   ],
   "source": [
    "df_temp.describe()"
   ]
  }
 ],
 "metadata": {
  "kernelspec": {
   "display_name": "Python 3",
   "language": "python",
   "name": "python3"
  },
  "language_info": {
   "codemirror_mode": {
    "name": "ipython",
    "version": 3
   },
   "file_extension": ".py",
   "mimetype": "text/x-python",
   "name": "python",
   "nbconvert_exporter": "python",
   "pygments_lexer": "ipython3",
   "version": "3.10.9"
  },
  "vscode": {
   "interpreter": {
    "hash": "46d9769e4a03f9c8a0d013aecc28fbd7cd74358c3b1961e5530525279813198c"
   }
  }
 },
 "nbformat": 4,
 "nbformat_minor": 2
}
