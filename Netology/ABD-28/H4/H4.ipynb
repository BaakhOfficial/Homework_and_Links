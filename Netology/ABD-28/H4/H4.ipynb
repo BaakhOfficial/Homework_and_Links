{
 "cells": [
  {
   "attachments": {},
   "cell_type": "markdown",
   "metadata": {},
   "source": [
    "## Какие команды отвечают за:\n",
    "- сохранение результата в текстовый файл (это Action или Transformation?);\n",
    "- получение первых n-элементов массива (Action или Transformation?);\n",
    "- объединение двух RDD в один (Action или Transformation?);\n",
    "- в чем разница между Reduce и CoGroup-операторами (Action или Transformation?)."
   ]
  },
  {
   "attachments": {},
   "cell_type": "markdown",
   "metadata": {},
   "source": [
    "1. Сохранение в текстовый файл - saveAsTextFile(path) `Actions`"
   ]
  },
  {
   "attachments": {},
   "cell_type": "markdown",
   "metadata": {},
   "source": [
    "2. Получение первых n-элементов массива - take(n) `Actions`"
   ]
  },
  {
   "attachments": {},
   "cell_type": "markdown",
   "metadata": {},
   "source": [
    "3. Объединение двух RDD в один - union(otherDataset) `Transformation`"
   ]
  },
  {
   "attachments": {},
   "cell_type": "markdown",
   "metadata": {},
   "source": [
    "4. В чем разница между Reduce и CoGroup-операторами (Action или Transformation?). \n",
    "\n",
    "    Оба `Transformation`, но:<br>\n",
    "    cogroup - группирует данные из 2 датасетов<br>\n",
    "    reduse работает с 1 парой RDD "
   ]
  },
  {
   "attachments": {},
   "cell_type": "markdown",
   "metadata": {},
   "source": [
    "cogroup(otherDataset, [numPartitions])"
   ]
  },
  {
   "attachments": {},
   "cell_type": "markdown",
   "metadata": {},
   "source": [
    "## Нарисуйте DAG для Spark для подсчёта количества уникальных слов в файл"
   ]
  },
  {
   "attachments": {},
   "cell_type": "markdown",
   "metadata": {},
   "source": [
    "Мне было проще написать программу, чтобы это работало. Поставил себе Spark на Windows 11, изображение прикреплю ниже"
   ]
  },
  {
   "cell_type": "code",
   "execution_count": 1,
   "metadata": {},
   "outputs": [],
   "source": [
    "import findspark\n",
    "findspark.init()\n",
    "from pyspark.sql import SparkSession\n",
    "\n",
    "spark = SparkSession.builder.master(\"local[*]\").getOrCreate()\n",
    "sc = spark.sparkContext"
   ]
  },
  {
   "cell_type": "code",
   "execution_count": 2,
   "metadata": {},
   "outputs": [],
   "source": [
    "import numpy as np\n",
    "np.random.seed(42)\n",
    "words_initial = 'Благочестивый Вычитание Задарма Зачахнуть Землепашец Известить Невзыскательный Самовластие Ситуация Спорщик'.split(' ')\n",
    "words = words_initial.copy()\n",
    "for i in range(10):\n",
    "    words.append(words[np.random.randint(0,len(words))])"
   ]
  },
  {
   "cell_type": "code",
   "execution_count": 3,
   "metadata": {},
   "outputs": [],
   "source": [
    "words = sc.parallelize(words) # У нас будет файл потому это этап TextFile to RDD"
   ]
  },
  {
   "cell_type": "code",
   "execution_count": 4,
   "metadata": {},
   "outputs": [],
   "source": [
    "def reducer(x,y):\n",
    "    return x+y"
   ]
  },
  {
   "cell_type": "code",
   "execution_count": 5,
   "metadata": {},
   "outputs": [
    {
     "data": {
      "text/plain": [
       "10"
      ]
     },
     "execution_count": 5,
     "metadata": {},
     "output_type": "execute_result"
    }
   ],
   "source": [
    "words = words.map(lambda x: (x,1)) #Transf\n",
    "words = words.reduceByKey(reducer) #Transf\n",
    "words.count() # Action"
   ]
  },
  {
   "cell_type": "code",
   "execution_count": 6,
   "metadata": {},
   "outputs": [
    {
     "data": {
      "text/plain": [
       "True"
      ]
     },
     "execution_count": 6,
     "metadata": {},
     "output_type": "execute_result"
    }
   ],
   "source": [
    "words_initial.sort() == words.map(lambda x: x[0]).collect().sort()"
   ]
  },
  {
   "attachments": {},
   "cell_type": "markdown",
   "metadata": {},
   "source": [
    "Ответ верен, так что рисуем диаграмму"
   ]
  },
  {
   "attachments": {},
   "cell_type": "markdown",
   "metadata": {},
   "source": [
    "\n",
    "<img src=\"Untitled Diagram.png\" />"
   ]
  }
 ],
 "metadata": {
  "kernelspec": {
   "display_name": "Python 3",
   "language": "python",
   "name": "python3"
  },
  "language_info": {
   "codemirror_mode": {
    "name": "ipython",
    "version": 3
   },
   "file_extension": ".py",
   "mimetype": "text/x-python",
   "name": "python",
   "nbconvert_exporter": "python",
   "pygments_lexer": "ipython3",
   "version": "3.10.9"
  },
  "orig_nbformat": 4,
  "vscode": {
   "interpreter": {
    "hash": "46d9769e4a03f9c8a0d013aecc28fbd7cd74358c3b1961e5530525279813198c"
   }
  }
 },
 "nbformat": 4,
 "nbformat_minor": 2
}
