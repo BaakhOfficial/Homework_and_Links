{
 "cells": [
  {
   "attachments": {},
   "cell_type": "markdown",
   "metadata": {},
   "source": [
    "# Задание:\n",
    "\n",
    "## Выберите одну из трех фичей для анализа\n",
    "- Понижение коэффициента surge, чтобы увеличить price-to-order конверсию (во время surge)<br>\n",
    "Ожидаем: выше price-to-order конверсия во время surge\n",
    "- Если юзер Android нажимает “отменить”, предлагать промокод в случае НЕ отмены<br>\n",
    "Ожидаем: ниже отмены на Android устройствах\n",
    "- При уточнении, уверен ли юзер в отмене заказа не из центра, добавить эмодзи котика, просящего не отменять<br>\n",
    "Ожидаем: ниже отмены по заказам НЕ из центра\n",
    "\n",
    "Отфильтруйте датасет по своей гипотезе. Используйте метрику, которая описана в блоке “Ожидаем”"
   ]
  },
  {
   "cell_type": "code",
   "execution_count": 1,
   "metadata": {},
   "outputs": [],
   "source": [
    "import pandas as pd\n",
    "df = pd.read_csv('post_abtest_data.csv')"
   ]
  },
  {
   "cell_type": "code",
   "execution_count": 2,
   "metadata": {},
   "outputs": [
    {
     "data": {
      "text/html": [
       "<div>\n",
       "<style scoped>\n",
       "    .dataframe tbody tr th:only-of-type {\n",
       "        vertical-align: middle;\n",
       "    }\n",
       "\n",
       "    .dataframe tbody tr th {\n",
       "        vertical-align: top;\n",
       "    }\n",
       "\n",
       "    .dataframe thead th {\n",
       "        text-align: right;\n",
       "    }\n",
       "</style>\n",
       "<table border=\"1\" class=\"dataframe\">\n",
       "  <thead>\n",
       "    <tr style=\"text-align: right;\">\n",
       "      <th></th>\n",
       "      <th>user_id</th>\n",
       "      <th>date</th>\n",
       "      <th>app_opened</th>\n",
       "      <th>group</th>\n",
       "      <th>price_seen</th>\n",
       "      <th>order_made</th>\n",
       "      <th>surge</th>\n",
       "      <th>os</th>\n",
       "      <th>user_cancelled</th>\n",
       "      <th>city_center_order</th>\n",
       "      <th>groups</th>\n",
       "    </tr>\n",
       "  </thead>\n",
       "  <tbody>\n",
       "    <tr>\n",
       "      <th>0</th>\n",
       "      <td>867689</td>\n",
       "      <td>2020-05-28</td>\n",
       "      <td>1</td>\n",
       "      <td>Control</td>\n",
       "      <td>1</td>\n",
       "      <td>1</td>\n",
       "      <td>no surge</td>\n",
       "      <td>Android</td>\n",
       "      <td>0.0</td>\n",
       "      <td>1.0</td>\n",
       "      <td>Control</td>\n",
       "    </tr>\n",
       "    <tr>\n",
       "      <th>1</th>\n",
       "      <td>867689</td>\n",
       "      <td>2020-05-29</td>\n",
       "      <td>1</td>\n",
       "      <td>Control</td>\n",
       "      <td>1</td>\n",
       "      <td>0</td>\n",
       "      <td>surge</td>\n",
       "      <td>iOS</td>\n",
       "      <td>NaN</td>\n",
       "      <td>NaN</td>\n",
       "      <td>Control</td>\n",
       "    </tr>\n",
       "    <tr>\n",
       "      <th>2</th>\n",
       "      <td>867689</td>\n",
       "      <td>2020-05-25</td>\n",
       "      <td>1</td>\n",
       "      <td>Control</td>\n",
       "      <td>1</td>\n",
       "      <td>1</td>\n",
       "      <td>surge</td>\n",
       "      <td>Android</td>\n",
       "      <td>0.0</td>\n",
       "      <td>0.0</td>\n",
       "      <td>Control</td>\n",
       "    </tr>\n",
       "    <tr>\n",
       "      <th>3</th>\n",
       "      <td>752172</td>\n",
       "      <td>2020-05-29</td>\n",
       "      <td>1</td>\n",
       "      <td>Control</td>\n",
       "      <td>1</td>\n",
       "      <td>1</td>\n",
       "      <td>surge</td>\n",
       "      <td>Android</td>\n",
       "      <td>0.0</td>\n",
       "      <td>1.0</td>\n",
       "      <td>Control</td>\n",
       "    </tr>\n",
       "    <tr>\n",
       "      <th>4</th>\n",
       "      <td>752172</td>\n",
       "      <td>2020-05-28</td>\n",
       "      <td>1</td>\n",
       "      <td>Control</td>\n",
       "      <td>1</td>\n",
       "      <td>1</td>\n",
       "      <td>no surge</td>\n",
       "      <td>iOS</td>\n",
       "      <td>0.0</td>\n",
       "      <td>0.0</td>\n",
       "      <td>Control</td>\n",
       "    </tr>\n",
       "  </tbody>\n",
       "</table>\n",
       "</div>"
      ],
      "text/plain": [
       "   user_id        date  app_opened    group  price_seen  order_made     surge  \\\n",
       "0   867689  2020-05-28           1  Control           1           1  no surge   \n",
       "1   867689  2020-05-29           1  Control           1           0     surge   \n",
       "2   867689  2020-05-25           1  Control           1           1     surge   \n",
       "3   752172  2020-05-29           1  Control           1           1     surge   \n",
       "4   752172  2020-05-28           1  Control           1           1  no surge   \n",
       "\n",
       "        os  user_cancelled  city_center_order   groups  \n",
       "0  Android             0.0                1.0  Control  \n",
       "1      iOS             NaN                NaN  Control  \n",
       "2  Android             0.0                0.0  Control  \n",
       "3  Android             0.0                1.0  Control  \n",
       "4      iOS             0.0                0.0  Control  "
      ]
     },
     "execution_count": 2,
     "metadata": {},
     "output_type": "execute_result"
    }
   ],
   "source": [
    "df.head()"
   ]
  },
  {
   "cell_type": "code",
   "execution_count": 3,
   "metadata": {},
   "outputs": [
    {
     "name": "stdout",
     "output_type": "stream",
     "text": [
      "<class 'pandas.core.frame.DataFrame'>\n",
      "RangeIndex: 101500 entries, 0 to 101499\n",
      "Data columns (total 11 columns):\n",
      " #   Column             Non-Null Count   Dtype  \n",
      "---  ------             --------------   -----  \n",
      " 0   user_id            101500 non-null  int64  \n",
      " 1   date               101500 non-null  object \n",
      " 2   app_opened         101500 non-null  int64  \n",
      " 3   group              101500 non-null  object \n",
      " 4   price_seen         101500 non-null  int64  \n",
      " 5   order_made         101500 non-null  int64  \n",
      " 6   surge              92358 non-null   object \n",
      " 7   os                 101500 non-null  object \n",
      " 8   user_cancelled     70157 non-null   float64\n",
      " 9   city_center_order  70157 non-null   float64\n",
      " 10  groups             101500 non-null  object \n",
      "dtypes: float64(2), int64(4), object(5)\n",
      "memory usage: 8.5+ MB\n"
     ]
    }
   ],
   "source": [
    "df.info()"
   ]
  },
  {
   "attachments": {},
   "cell_type": "markdown",
   "metadata": {},
   "source": [
    "Я честно не совсем понимаю зачем тут 2 абсолютно одинаковых столбца, но окей"
   ]
  },
  {
   "cell_type": "code",
   "execution_count": 4,
   "metadata": {},
   "outputs": [
    {
     "name": "stdout",
     "output_type": "stream",
     "text": [
      "Test       50849\n",
      "Control    50651\n",
      "Name: groups, dtype: int64\n",
      "Test       50849\n",
      "Control    50651\n",
      "Name: group, dtype: int64\n",
      "True    101500\n",
      "dtype: int64\n"
     ]
    }
   ],
   "source": [
    "print(df['groups'].value_counts())\n",
    "print(df['group'].value_counts())\n",
    "print((df['group'] == df['groups']).value_counts())"
   ]
  },
  {
   "cell_type": "code",
   "execution_count": 5,
   "metadata": {},
   "outputs": [
    {
     "data": {
      "text/plain": [
       "2020-05-30    14669\n",
       "2020-05-31    14616\n",
       "2020-05-29    14496\n",
       "2020-05-25    14494\n",
       "2020-05-28    14472\n",
       "2020-05-27    14416\n",
       "2020-05-26    14337\n",
       "Name: date, dtype: int64"
      ]
     },
     "execution_count": 5,
     "metadata": {},
     "output_type": "execute_result"
    }
   ],
   "source": [
    "df.date.value_counts()"
   ]
  },
  {
   "attachments": {},
   "cell_type": "markdown",
   "metadata": {},
   "source": [
    "Возьмем гипотезу:\n",
    "- Понижение коэффициента surge, чтобы увеличить price-to-order конверсию (во время surge)<br>\n",
    "Ожидаем: выше price-to-order конверсия во время surge\n",
    "\n",
    "`По результатам теста количество заказов после увиденной цены должно вырасти. Притом повлияет это только на surge, само собой`"
   ]
  },
  {
   "cell_type": "code",
   "execution_count": 6,
   "metadata": {},
   "outputs": [
    {
     "data": {
      "text/html": [
       "<div>\n",
       "<style scoped>\n",
       "    .dataframe tbody tr th:only-of-type {\n",
       "        vertical-align: middle;\n",
       "    }\n",
       "\n",
       "    .dataframe tbody tr th {\n",
       "        vertical-align: top;\n",
       "    }\n",
       "\n",
       "    .dataframe thead th {\n",
       "        text-align: right;\n",
       "    }\n",
       "</style>\n",
       "<table border=\"1\" class=\"dataframe\">\n",
       "  <thead>\n",
       "    <tr style=\"text-align: right;\">\n",
       "      <th></th>\n",
       "      <th>user_id</th>\n",
       "      <th>date</th>\n",
       "      <th>app_opened</th>\n",
       "      <th>group</th>\n",
       "      <th>price_seen</th>\n",
       "      <th>order_made</th>\n",
       "      <th>surge</th>\n",
       "      <th>os</th>\n",
       "      <th>user_cancelled</th>\n",
       "      <th>city_center_order</th>\n",
       "      <th>groups</th>\n",
       "    </tr>\n",
       "  </thead>\n",
       "  <tbody>\n",
       "    <tr>\n",
       "      <th>1</th>\n",
       "      <td>867689</td>\n",
       "      <td>2020-05-29</td>\n",
       "      <td>1</td>\n",
       "      <td>Control</td>\n",
       "      <td>1</td>\n",
       "      <td>0</td>\n",
       "      <td>surge</td>\n",
       "      <td>iOS</td>\n",
       "      <td>NaN</td>\n",
       "      <td>NaN</td>\n",
       "      <td>Control</td>\n",
       "    </tr>\n",
       "    <tr>\n",
       "      <th>2</th>\n",
       "      <td>867689</td>\n",
       "      <td>2020-05-25</td>\n",
       "      <td>1</td>\n",
       "      <td>Control</td>\n",
       "      <td>1</td>\n",
       "      <td>1</td>\n",
       "      <td>surge</td>\n",
       "      <td>Android</td>\n",
       "      <td>0.0</td>\n",
       "      <td>0.0</td>\n",
       "      <td>Control</td>\n",
       "    </tr>\n",
       "    <tr>\n",
       "      <th>3</th>\n",
       "      <td>752172</td>\n",
       "      <td>2020-05-29</td>\n",
       "      <td>1</td>\n",
       "      <td>Control</td>\n",
       "      <td>1</td>\n",
       "      <td>1</td>\n",
       "      <td>surge</td>\n",
       "      <td>Android</td>\n",
       "      <td>0.0</td>\n",
       "      <td>1.0</td>\n",
       "      <td>Control</td>\n",
       "    </tr>\n",
       "    <tr>\n",
       "      <th>5</th>\n",
       "      <td>486559</td>\n",
       "      <td>2020-05-25</td>\n",
       "      <td>1</td>\n",
       "      <td>Control</td>\n",
       "      <td>1</td>\n",
       "      <td>0</td>\n",
       "      <td>surge</td>\n",
       "      <td>Android</td>\n",
       "      <td>NaN</td>\n",
       "      <td>NaN</td>\n",
       "      <td>Control</td>\n",
       "    </tr>\n",
       "    <tr>\n",
       "      <th>8</th>\n",
       "      <td>486559</td>\n",
       "      <td>2020-05-28</td>\n",
       "      <td>1</td>\n",
       "      <td>Control</td>\n",
       "      <td>1</td>\n",
       "      <td>0</td>\n",
       "      <td>surge</td>\n",
       "      <td>iOS</td>\n",
       "      <td>NaN</td>\n",
       "      <td>NaN</td>\n",
       "      <td>Control</td>\n",
       "    </tr>\n",
       "  </tbody>\n",
       "</table>\n",
       "</div>"
      ],
      "text/plain": [
       "   user_id        date  app_opened    group  price_seen  order_made  surge  \\\n",
       "1   867689  2020-05-29           1  Control           1           0  surge   \n",
       "2   867689  2020-05-25           1  Control           1           1  surge   \n",
       "3   752172  2020-05-29           1  Control           1           1  surge   \n",
       "5   486559  2020-05-25           1  Control           1           0  surge   \n",
       "8   486559  2020-05-28           1  Control           1           0  surge   \n",
       "\n",
       "        os  user_cancelled  city_center_order   groups  \n",
       "1      iOS             NaN                NaN  Control  \n",
       "2  Android             0.0                0.0  Control  \n",
       "3  Android             0.0                1.0  Control  \n",
       "5  Android             NaN                NaN  Control  \n",
       "8      iOS             NaN                NaN  Control  "
      ]
     },
     "execution_count": 6,
     "metadata": {},
     "output_type": "execute_result"
    }
   ],
   "source": [
    "df_surge = df.loc[(df['surge'] == 'surge') & (df['price_seen'] == 1)].copy()\n",
    "df_surge.head()"
   ]
  },
  {
   "cell_type": "code",
   "execution_count": 7,
   "metadata": {},
   "outputs": [
    {
     "name": "stdout",
     "output_type": "stream",
     "text": [
      "Итоговая конверсия перед стартом 0.6091\n"
     ]
    }
   ],
   "source": [
    "print(f\"Итоговая конверсия перед стартом {df_surge['order_made'].sum() / df_surge['price_seen'].sum():.4f}\")"
   ]
  },
  {
   "cell_type": "code",
   "execution_count": 8,
   "metadata": {},
   "outputs": [
    {
     "data": {
      "text/plain": [
       "2020-05-31    4184\n",
       "2020-05-30    4170\n",
       "2020-05-27    4147\n",
       "2020-05-29    4108\n",
       "2020-05-25    4079\n",
       "2020-05-28    4036\n",
       "2020-05-26    4028\n",
       "Name: date, dtype: int64"
      ]
     },
     "execution_count": 8,
     "metadata": {},
     "output_type": "execute_result"
    }
   ],
   "source": [
    "df_surge.date.value_counts()"
   ]
  },
  {
   "attachments": {},
   "cell_type": "markdown",
   "metadata": {},
   "source": [
    "## Постройте периодический p-value по выбранной метрике (сплит уже произведен)\n",
    "- Разбейте общее количество наблюдений на 7 участков (используйте столбец даты)\n",
    "- Для каждого участка используйте встроенную функцию ТТЕСТ() в excel, чтобы сравнить тестовую и котрольную группы\n",
    "- 7 полученных значений p-value визуализируйте на графике\n",
    "\n",
    "На основе графика сделайте вывод о значимости результатов."
   ]
  },
  {
   "attachments": {},
   "cell_type": "markdown",
   "metadata": {},
   "source": [
    "Сперва разобьем на 7 участков"
   ]
  },
  {
   "cell_type": "code",
   "execution_count": 9,
   "metadata": {},
   "outputs": [],
   "source": [
    "df_surge.date = df_surge.date.apply(lambda x: x[-2:])\n",
    "df_surge.rename(columns={'date':'day'}, inplace=True)"
   ]
  },
  {
   "cell_type": "code",
   "execution_count": 10,
   "metadata": {},
   "outputs": [
    {
     "data": {
      "text/html": [
       "<div>\n",
       "<style scoped>\n",
       "    .dataframe tbody tr th:only-of-type {\n",
       "        vertical-align: middle;\n",
       "    }\n",
       "\n",
       "    .dataframe tbody tr th {\n",
       "        vertical-align: top;\n",
       "    }\n",
       "\n",
       "    .dataframe thead th {\n",
       "        text-align: right;\n",
       "    }\n",
       "</style>\n",
       "<table border=\"1\" class=\"dataframe\">\n",
       "  <thead>\n",
       "    <tr style=\"text-align: right;\">\n",
       "      <th></th>\n",
       "      <th>user_id</th>\n",
       "      <th>day</th>\n",
       "      <th>app_opened</th>\n",
       "      <th>group</th>\n",
       "      <th>price_seen</th>\n",
       "      <th>order_made</th>\n",
       "      <th>surge</th>\n",
       "      <th>os</th>\n",
       "      <th>user_cancelled</th>\n",
       "      <th>city_center_order</th>\n",
       "      <th>groups</th>\n",
       "    </tr>\n",
       "  </thead>\n",
       "  <tbody>\n",
       "    <tr>\n",
       "      <th>1</th>\n",
       "      <td>867689</td>\n",
       "      <td>29</td>\n",
       "      <td>1</td>\n",
       "      <td>Control</td>\n",
       "      <td>1</td>\n",
       "      <td>0</td>\n",
       "      <td>surge</td>\n",
       "      <td>iOS</td>\n",
       "      <td>NaN</td>\n",
       "      <td>NaN</td>\n",
       "      <td>Control</td>\n",
       "    </tr>\n",
       "    <tr>\n",
       "      <th>3</th>\n",
       "      <td>752172</td>\n",
       "      <td>29</td>\n",
       "      <td>1</td>\n",
       "      <td>Control</td>\n",
       "      <td>1</td>\n",
       "      <td>1</td>\n",
       "      <td>surge</td>\n",
       "      <td>Android</td>\n",
       "      <td>0.0</td>\n",
       "      <td>1.0</td>\n",
       "      <td>Control</td>\n",
       "    </tr>\n",
       "    <tr>\n",
       "      <th>29</th>\n",
       "      <td>416988</td>\n",
       "      <td>29</td>\n",
       "      <td>1</td>\n",
       "      <td>Control</td>\n",
       "      <td>1</td>\n",
       "      <td>0</td>\n",
       "      <td>surge</td>\n",
       "      <td>Android</td>\n",
       "      <td>NaN</td>\n",
       "      <td>NaN</td>\n",
       "      <td>Control</td>\n",
       "    </tr>\n",
       "    <tr>\n",
       "      <th>50</th>\n",
       "      <td>370093</td>\n",
       "      <td>29</td>\n",
       "      <td>1</td>\n",
       "      <td>Test</td>\n",
       "      <td>1</td>\n",
       "      <td>0</td>\n",
       "      <td>surge</td>\n",
       "      <td>iOS</td>\n",
       "      <td>NaN</td>\n",
       "      <td>NaN</td>\n",
       "      <td>Test</td>\n",
       "    </tr>\n",
       "    <tr>\n",
       "      <th>75</th>\n",
       "      <td>893154</td>\n",
       "      <td>29</td>\n",
       "      <td>1</td>\n",
       "      <td>Test</td>\n",
       "      <td>1</td>\n",
       "      <td>0</td>\n",
       "      <td>surge</td>\n",
       "      <td>iOS</td>\n",
       "      <td>NaN</td>\n",
       "      <td>NaN</td>\n",
       "      <td>Test</td>\n",
       "    </tr>\n",
       "    <tr>\n",
       "      <th>...</th>\n",
       "      <td>...</td>\n",
       "      <td>...</td>\n",
       "      <td>...</td>\n",
       "      <td>...</td>\n",
       "      <td>...</td>\n",
       "      <td>...</td>\n",
       "      <td>...</td>\n",
       "      <td>...</td>\n",
       "      <td>...</td>\n",
       "      <td>...</td>\n",
       "      <td>...</td>\n",
       "    </tr>\n",
       "    <tr>\n",
       "      <th>101352</th>\n",
       "      <td>417506</td>\n",
       "      <td>29</td>\n",
       "      <td>1</td>\n",
       "      <td>Control</td>\n",
       "      <td>1</td>\n",
       "      <td>1</td>\n",
       "      <td>surge</td>\n",
       "      <td>Android</td>\n",
       "      <td>0.0</td>\n",
       "      <td>1.0</td>\n",
       "      <td>Control</td>\n",
       "    </tr>\n",
       "    <tr>\n",
       "      <th>101404</th>\n",
       "      <td>107905</td>\n",
       "      <td>29</td>\n",
       "      <td>1</td>\n",
       "      <td>Control</td>\n",
       "      <td>1</td>\n",
       "      <td>1</td>\n",
       "      <td>surge</td>\n",
       "      <td>Android</td>\n",
       "      <td>0.0</td>\n",
       "      <td>0.0</td>\n",
       "      <td>Control</td>\n",
       "    </tr>\n",
       "    <tr>\n",
       "      <th>101408</th>\n",
       "      <td>900481</td>\n",
       "      <td>29</td>\n",
       "      <td>1</td>\n",
       "      <td>Control</td>\n",
       "      <td>1</td>\n",
       "      <td>0</td>\n",
       "      <td>surge</td>\n",
       "      <td>iOS</td>\n",
       "      <td>NaN</td>\n",
       "      <td>NaN</td>\n",
       "      <td>Control</td>\n",
       "    </tr>\n",
       "    <tr>\n",
       "      <th>101410</th>\n",
       "      <td>438902</td>\n",
       "      <td>29</td>\n",
       "      <td>1</td>\n",
       "      <td>Test</td>\n",
       "      <td>1</td>\n",
       "      <td>1</td>\n",
       "      <td>surge</td>\n",
       "      <td>Android</td>\n",
       "      <td>1.0</td>\n",
       "      <td>0.0</td>\n",
       "      <td>Test</td>\n",
       "    </tr>\n",
       "    <tr>\n",
       "      <th>101481</th>\n",
       "      <td>654371</td>\n",
       "      <td>29</td>\n",
       "      <td>1</td>\n",
       "      <td>Control</td>\n",
       "      <td>1</td>\n",
       "      <td>0</td>\n",
       "      <td>surge</td>\n",
       "      <td>Android</td>\n",
       "      <td>NaN</td>\n",
       "      <td>NaN</td>\n",
       "      <td>Control</td>\n",
       "    </tr>\n",
       "  </tbody>\n",
       "</table>\n",
       "<p>4108 rows × 11 columns</p>\n",
       "</div>"
      ],
      "text/plain": [
       "        user_id day  app_opened    group  price_seen  order_made  surge  \\\n",
       "1        867689  29           1  Control           1           0  surge   \n",
       "3        752172  29           1  Control           1           1  surge   \n",
       "29       416988  29           1  Control           1           0  surge   \n",
       "50       370093  29           1     Test           1           0  surge   \n",
       "75       893154  29           1     Test           1           0  surge   \n",
       "...         ...  ..         ...      ...         ...         ...    ...   \n",
       "101352   417506  29           1  Control           1           1  surge   \n",
       "101404   107905  29           1  Control           1           1  surge   \n",
       "101408   900481  29           1  Control           1           0  surge   \n",
       "101410   438902  29           1     Test           1           1  surge   \n",
       "101481   654371  29           1  Control           1           0  surge   \n",
       "\n",
       "             os  user_cancelled  city_center_order   groups  \n",
       "1           iOS             NaN                NaN  Control  \n",
       "3       Android             0.0                1.0  Control  \n",
       "29      Android             NaN                NaN  Control  \n",
       "50          iOS             NaN                NaN     Test  \n",
       "75          iOS             NaN                NaN     Test  \n",
       "...         ...             ...                ...      ...  \n",
       "101352  Android             0.0                1.0  Control  \n",
       "101404  Android             0.0                0.0  Control  \n",
       "101408      iOS             NaN                NaN  Control  \n",
       "101410  Android             1.0                0.0     Test  \n",
       "101481  Android             NaN                NaN  Control  \n",
       "\n",
       "[4108 rows x 11 columns]"
      ]
     },
     "execution_count": 10,
     "metadata": {},
     "output_type": "execute_result"
    }
   ],
   "source": [
    "samples = []\n",
    "for i in df_surge.day.unique():\n",
    "    samples.append(df_surge.loc[df_surge['day'] == i])\n",
    "samples[0]"
   ]
  },
  {
   "attachments": {},
   "cell_type": "markdown",
   "metadata": {},
   "source": [
    "Для каждого участка сравниваем тестовую и контрольную группы"
   ]
  },
  {
   "cell_type": "code",
   "execution_count": 11,
   "metadata": {},
   "outputs": [],
   "source": [
    "import scipy.stats as stats"
   ]
  },
  {
   "cell_type": "code",
   "execution_count": 12,
   "metadata": {},
   "outputs": [
    {
     "name": "stdout",
     "output_type": "stream",
     "text": [
      "alpha = 0.05\n",
      "Нулевая гипотеза - изменение price-to-order конверсии после понижения коэффициента surge является статистически значимым\n",
      "Альтернативная гипотеза - изменение price-to-order конверсии после понижения коэффициента surge является статистически значимым\n",
      "\n",
      "Day = 29\n",
      "p-value = Ttest_indResult(statistic=0.5976224461916863, pvalue=0.5501248402960568)\n",
      "\n",
      "Day = 25\n",
      "p-value = Ttest_indResult(statistic=3.106374307665363, pvalue=0.0019069871098142612)\n",
      "\n",
      "Day = 28\n",
      "p-value = Ttest_indResult(statistic=1.314416861735027, pvalue=0.18878068676535126)\n",
      "\n",
      "Day = 31\n",
      "p-value = Ttest_indResult(statistic=0.544369570907364, pvalue=0.5862162039800893)\n",
      "\n",
      "Day = 30\n",
      "p-value = Ttest_indResult(statistic=1.9060403993272412, pvalue=0.056713683945567306)\n",
      "\n",
      "Day = 27\n",
      "p-value = Ttest_indResult(statistic=1.5798532059769694, pvalue=0.11421678937745454)\n",
      "\n",
      "Day = 26\n",
      "p-value = Ttest_indResult(statistic=-0.72271465848295, pvalue=0.4698971874466067)\n",
      "\n",
      "{29: 0.5501248402960568, 25: 0.0019069871098142612, 28: 0.18878068676535126, 31: 0.5862162039800893, 30: 0.056713683945567306, 27: 0.11421678937745454, 26: 0.4698971874466067}\n"
     ]
    }
   ],
   "source": [
    "alpha = 0.05\n",
    "p_values = {}\n",
    "print(f\"alpha = {alpha}\\nНулевая гипотеза - изменение price-to-order конверсии после понижения коэффициента surge является статистически значимым\")\n",
    "print('Альтернативная гипотеза - изменение price-to-order конверсии после понижения коэффициента surge является статистически значимым\\n')\n",
    "for sample in samples:\n",
    "    p_value = stats.ttest_ind(\n",
    "        a=sample.loc[sample['group']=='Test']['order_made'],\n",
    "        b=sample.loc[sample['group']=='Control']['order_made'],\n",
    "        equal_var=True)\n",
    "    \n",
    "    print(f\"Day = {int(sample.day.sample())}\\np-value = {p_value}\\n\")\n",
    "    p_values[int(sample.day.sample())] = float(p_value[1])\n",
    "print(p_values)\n",
    "    "
   ]
  },
  {
   "attachments": {},
   "cell_type": "markdown",
   "metadata": {},
   "source": [
    "7 полученных значений p-value визуализируем на графике"
   ]
  },
  {
   "cell_type": "code",
   "execution_count": 13,
   "metadata": {},
   "outputs": [],
   "source": [
    "import matplotlib.pyplot as plt\n",
    "import seaborn as sns\n",
    "sns.set_theme()"
   ]
  },
  {
   "cell_type": "code",
   "execution_count": 14,
   "metadata": {},
   "outputs": [
    {
     "data": {
      "image/png": "[encoded data removed]",
      "image/svg+xml": "<?xml version=\"1.0\" encoding=\"utf-8\" standalone=\"no\"?>\n<!DOCTYPE svg PUBLIC \"-//W3C//DTD SVG 1.1//EN\"\n  \"http://www.w3.org/Graphics/SVG/1.1/DTD/svg11.dtd\">\n<svg xmlns:xlink=\"http://www.w3.org/1999/xlink\" width=\"396.31pt\" height=\"300.071844pt\" viewBox=\"0 0 396.31 300.071844\" xmlns=\"http://www.w3.org/2000/svg\" version=\"1.1\">\n <metadata>\n  <rdf:RDF xmlns:dc=\"http://purl.org/dc/elements/1.1/\" xmlns:cc=\"http://creativecommons.org/ns#\" xmlns:rdf=\"http://www.w3.org/1999/02/22-rdf-syntax-ns#\">\n   <cc:Work>\n    <dc:type rdf:resource=\"http://purl.org/dc/dcmitype/StillImage\"/>\n    <dc:date>2023-01-29T20:11:46.740583</dc:date>\n    <dc:format>image/svg+xml</dc:format>\n    <dc:creator>\n     <cc:Agent>\n      <dc:title>Matplotlib v3.6.2, https://matplotlib.org/</dc:title>\n     </cc:Agent>\n    </dc:creator>\n   </cc:Work>\n  </rdf:RDF>\n </metadata>\n <defs>\n  <style type=\"text/css\">*{stroke-linejoin: round; stroke-linecap: butt}</style>\n </defs>\n <g id=\"figure_1\">\n  <g id=\"patch_1\">\n   <path d=\"M 0 300.071844 \nL 396.31 300.071844 \nL 396.31 0 \nL 0 0 \nz\n\" style=\"fill: #ffffff\"/>\n  </g>\n  <g id=\"axes_1\">\n   <g id=\"patch_2\">\n    <path d=\"M 31.99 273.312 \nL 389.11 273.312 \nL 389.11 7.2 \nL 31.99 7.2 \nz\n\" style=\"fill: #eaeaf2\"/>\n   </g>\n   <g id=\"matplotlib.axis_1\">\n    <g id=\"xtick_1\">\n     <g id=\"text_1\">\n      <!-- 25 -->\n      <g style=\"fill: #262626\" transform=\"translate(51.38154 290.685594) scale(0.11 -0.11)\">\n       <defs>\n        <path id=\"ArialMT-32\" d=\"M 3222 541 \nL 3222 0 \nL 194 0 \nQ 188 203 259 391 \nQ 375 700 629 1000 \nQ 884 1300 1366 1694 \nQ 2113 2306 2375 2664 \nQ 2638 3022 2638 3341 \nQ 2638 3675 2398 3904 \nQ 2159 4134 1775 4134 \nQ 1369 4134 1125 3890 \nQ 881 3647 878 3216 \nL 300 3275 \nQ 359 3922 746 4261 \nQ 1134 4600 1788 4600 \nQ 2447 4600 2831 4234 \nQ 3216 3869 3216 3328 \nQ 3216 3053 3103 2787 \nQ 2991 2522 2730 2228 \nQ 2469 1934 1863 1422 \nQ 1356 997 1212 845 \nQ 1069 694 975 541 \nL 3222 541 \nz\n\" transform=\"scale(0.015625)\"/>\n        <path id=\"ArialMT-35\" d=\"M 266 1200 \nL 856 1250 \nQ 922 819 1161 601 \nQ 1400 384 1738 384 \nQ 2144 384 2425 690 \nQ 2706 997 2706 1503 \nQ 2706 1984 2436 2262 \nQ 2166 2541 1728 2541 \nQ 1456 2541 1237 2417 \nQ 1019 2294 894 2097 \nL 366 2166 \nL 809 4519 \nL 3088 4519 \nL 3088 3981 \nL 1259 3981 \nL 1013 2750 \nQ 1425 3038 1878 3038 \nQ 2478 3038 2890 2622 \nQ 3303 2206 3303 1553 \nQ 3303 931 2941 478 \nQ 2500 -78 1738 -78 \nQ 1113 -78 717 272 \nQ 322 622 266 1200 \nz\n\" transform=\"scale(0.015625)\"/>\n       </defs>\n       <use xlink:href=\"#ArialMT-32\"/>\n       <use xlink:href=\"#ArialMT-35\" x=\"55.615234\"/>\n      </g>\n     </g>\n    </g>\n    <g id=\"xtick_2\">\n     <g id=\"text_2\">\n      <!-- 26 -->\n      <g style=\"fill: #262626\" transform=\"translate(102.398683 290.685594) scale(0.11 -0.11)\">\n       <defs>\n        <path id=\"ArialMT-36\" d=\"M 3184 3459 \nL 2625 3416 \nQ 2550 3747 2413 3897 \nQ 2184 4138 1850 4138 \nQ 1581 4138 1378 3988 \nQ 1113 3794 959 3422 \nQ 806 3050 800 2363 \nQ 1003 2672 1297 2822 \nQ 1591 2972 1913 2972 \nQ 2475 2972 2870 2558 \nQ 3266 2144 3266 1488 \nQ 3266 1056 3080 686 \nQ 2894 316 2569 119 \nQ 2244 -78 1831 -78 \nQ 1128 -78 684 439 \nQ 241 956 241 2144 \nQ 241 3472 731 4075 \nQ 1159 4600 1884 4600 \nQ 2425 4600 2770 4297 \nQ 3116 3994 3184 3459 \nz\nM 888 1484 \nQ 888 1194 1011 928 \nQ 1134 663 1356 523 \nQ 1578 384 1822 384 \nQ 2178 384 2434 671 \nQ 2691 959 2691 1453 \nQ 2691 1928 2437 2201 \nQ 2184 2475 1800 2475 \nQ 1419 2475 1153 2201 \nQ 888 1928 888 1484 \nz\n\" transform=\"scale(0.015625)\"/>\n       </defs>\n       <use xlink:href=\"#ArialMT-32\"/>\n       <use xlink:href=\"#ArialMT-36\" x=\"55.615234\"/>\n      </g>\n     </g>\n    </g>\n    <g id=\"xtick_3\">\n     <g id=\"text_3\">\n      <!-- 27 -->\n      <g style=\"fill: #262626\" transform=\"translate(153.415826 290.685594) scale(0.11 -0.11)\">\n       <defs>\n        <path id=\"ArialMT-37\" d=\"M 303 3981 \nL 303 4522 \nL 3269 4522 \nL 3269 4084 \nQ 2831 3619 2401 2847 \nQ 1972 2075 1738 1259 \nQ 1569 684 1522 0 \nL 944 0 \nQ 953 541 1156 1306 \nQ 1359 2072 1739 2783 \nQ 2119 3494 2547 3981 \nL 303 3981 \nz\n\" transform=\"scale(0.015625)\"/>\n       </defs>\n       <use xlink:href=\"#ArialMT-32\"/>\n       <use xlink:href=\"#ArialMT-37\" x=\"55.615234\"/>\n      </g>\n     </g>\n    </g>\n    <g id=\"xtick_4\">\n     <g id=\"text_4\">\n      <!-- 28 -->\n      <g style=\"fill: #262626\" transform=\"translate(204.432969 290.685594) scale(0.11 -0.11)\">\n       <defs>\n        <path id=\"ArialMT-38\" d=\"M 1131 2484 \nQ 781 2613 612 2850 \nQ 444 3088 444 3419 \nQ 444 3919 803 4259 \nQ 1163 4600 1759 4600 \nQ 2359 4600 2725 4251 \nQ 3091 3903 3091 3403 \nQ 3091 3084 2923 2848 \nQ 2756 2613 2416 2484 \nQ 2838 2347 3058 2040 \nQ 3278 1734 3278 1309 \nQ 3278 722 2862 322 \nQ 2447 -78 1769 -78 \nQ 1091 -78 675 323 \nQ 259 725 259 1325 \nQ 259 1772 486 2073 \nQ 713 2375 1131 2484 \nz\nM 1019 3438 \nQ 1019 3113 1228 2906 \nQ 1438 2700 1772 2700 \nQ 2097 2700 2305 2904 \nQ 2513 3109 2513 3406 \nQ 2513 3716 2298 3927 \nQ 2084 4138 1766 4138 \nQ 1444 4138 1231 3931 \nQ 1019 3725 1019 3438 \nz\nM 838 1322 \nQ 838 1081 952 856 \nQ 1066 631 1291 507 \nQ 1516 384 1775 384 \nQ 2178 384 2440 643 \nQ 2703 903 2703 1303 \nQ 2703 1709 2433 1975 \nQ 2163 2241 1756 2241 \nQ 1359 2241 1098 1978 \nQ 838 1716 838 1322 \nz\n\" transform=\"scale(0.015625)\"/>\n       </defs>\n       <use xlink:href=\"#ArialMT-32\"/>\n       <use xlink:href=\"#ArialMT-38\" x=\"55.615234\"/>\n      </g>\n     </g>\n    </g>\n    <g id=\"xtick_5\">\n     <g id=\"text_5\">\n      <!-- 29 -->\n      <g style=\"fill: #262626\" transform=\"translate(255.450112 290.685594) scale(0.11 -0.11)\">\n       <defs>\n        <path id=\"ArialMT-39\" d=\"M 350 1059 \nL 891 1109 \nQ 959 728 1153 556 \nQ 1347 384 1650 384 \nQ 1909 384 2104 503 \nQ 2300 622 2425 820 \nQ 2550 1019 2634 1356 \nQ 2719 1694 2719 2044 \nQ 2719 2081 2716 2156 \nQ 2547 1888 2255 1720 \nQ 1963 1553 1622 1553 \nQ 1053 1553 659 1965 \nQ 266 2378 266 3053 \nQ 266 3750 677 4175 \nQ 1088 4600 1706 4600 \nQ 2153 4600 2523 4359 \nQ 2894 4119 3086 3673 \nQ 3278 3228 3278 2384 \nQ 3278 1506 3087 986 \nQ 2897 466 2520 194 \nQ 2144 -78 1638 -78 \nQ 1100 -78 759 220 \nQ 419 519 350 1059 \nz\nM 2653 3081 \nQ 2653 3566 2395 3850 \nQ 2138 4134 1775 4134 \nQ 1400 4134 1122 3828 \nQ 844 3522 844 3034 \nQ 844 2597 1108 2323 \nQ 1372 2050 1759 2050 \nQ 2150 2050 2401 2323 \nQ 2653 2597 2653 3081 \nz\n\" transform=\"scale(0.015625)\"/>\n       </defs>\n       <use xlink:href=\"#ArialMT-32\"/>\n       <use xlink:href=\"#ArialMT-39\" x=\"55.615234\"/>\n      </g>\n     </g>\n    </g>\n    <g id=\"xtick_6\">\n     <g id=\"text_6\">\n      <!-- 30 -->\n      <g style=\"fill: #262626\" transform=\"translate(306.467254 290.685594) scale(0.11 -0.11)\">\n       <defs>\n        <path id=\"ArialMT-33\" d=\"M 269 1209 \nL 831 1284 \nQ 928 806 1161 595 \nQ 1394 384 1728 384 \nQ 2125 384 2398 659 \nQ 2672 934 2672 1341 \nQ 2672 1728 2419 1979 \nQ 2166 2231 1775 2231 \nQ 1616 2231 1378 2169 \nL 1441 2663 \nQ 1497 2656 1531 2656 \nQ 1891 2656 2178 2843 \nQ 2466 3031 2466 3422 \nQ 2466 3731 2256 3934 \nQ 2047 4138 1716 4138 \nQ 1388 4138 1169 3931 \nQ 950 3725 888 3313 \nL 325 3413 \nQ 428 3978 793 4289 \nQ 1159 4600 1703 4600 \nQ 2078 4600 2393 4439 \nQ 2709 4278 2876 4000 \nQ 3044 3722 3044 3409 \nQ 3044 3113 2884 2869 \nQ 2725 2625 2413 2481 \nQ 2819 2388 3044 2092 \nQ 3269 1797 3269 1353 \nQ 3269 753 2831 336 \nQ 2394 -81 1725 -81 \nQ 1122 -81 723 278 \nQ 325 638 269 1209 \nz\n\" transform=\"scale(0.015625)\"/>\n        <path id=\"ArialMT-30\" d=\"M 266 2259 \nQ 266 3072 433 3567 \nQ 600 4063 929 4331 \nQ 1259 4600 1759 4600 \nQ 2128 4600 2406 4451 \nQ 2684 4303 2865 4023 \nQ 3047 3744 3150 3342 \nQ 3253 2941 3253 2259 \nQ 3253 1453 3087 958 \nQ 2922 463 2592 192 \nQ 2263 -78 1759 -78 \nQ 1097 -78 719 397 \nQ 266 969 266 2259 \nz\nM 844 2259 \nQ 844 1131 1108 757 \nQ 1372 384 1759 384 \nQ 2147 384 2411 759 \nQ 2675 1134 2675 2259 \nQ 2675 3391 2411 3762 \nQ 2147 4134 1753 4134 \nQ 1366 4134 1134 3806 \nQ 844 3388 844 2259 \nz\n\" transform=\"scale(0.015625)\"/>\n       </defs>\n       <use xlink:href=\"#ArialMT-33\"/>\n       <use xlink:href=\"#ArialMT-30\" x=\"55.615234\"/>\n      </g>\n     </g>\n    </g>\n    <g id=\"xtick_7\">\n     <g id=\"text_7\">\n      <!-- 31 -->\n      <g style=\"fill: #262626\" transform=\"translate(357.484397 290.685594) scale(0.11 -0.11)\">\n       <defs>\n        <path id=\"ArialMT-31\" d=\"M 2384 0 \nL 1822 0 \nL 1822 3584 \nQ 1619 3391 1289 3197 \nQ 959 3003 697 2906 \nL 697 3450 \nQ 1169 3672 1522 3987 \nQ 1875 4303 2022 4600 \nL 2384 4600 \nL 2384 0 \nz\n\" transform=\"scale(0.015625)\"/>\n       </defs>\n       <use xlink:href=\"#ArialMT-33\"/>\n       <use xlink:href=\"#ArialMT-31\" x=\"55.615234\"/>\n      </g>\n     </g>\n    </g>\n   </g>\n   <g id=\"matplotlib.axis_2\">\n    <g id=\"ytick_1\">\n     <g id=\"line2d_1\">\n      <path d=\"M 31.99 273.312 \nL 389.11 273.312 \n\" clip-path=\"url(#p6599e88216)\" style=\"fill: none; stroke: #ffffff; stroke-linecap: round\"/>\n     </g>\n     <g id=\"text_8\">\n      <!-- 0.0 -->\n      <g style=\"fill: #262626\" transform=\"translate(7.2 277.248797) scale(0.11 -0.11)\">\n       <defs>\n        <path id=\"ArialMT-2e\" d=\"M 581 0 \nL 581 641 \nL 1222 641 \nL 1222 0 \nL 581 0 \nz\n\" transform=\"scale(0.015625)\"/>\n       </defs>\n       <use xlink:href=\"#ArialMT-30\"/>\n       <use xlink:href=\"#ArialMT-2e\" x=\"55.615234\"/>\n       <use xlink:href=\"#ArialMT-30\" x=\"83.398438\"/>\n      </g>\n     </g>\n    </g>\n    <g id=\"ytick_2\">\n     <g id=\"line2d_2\">\n      <path d=\"M 31.99 230.078804 \nL 389.11 230.078804 \n\" clip-path=\"url(#p6599e88216)\" style=\"fill: none; stroke: #ffffff; stroke-linecap: round\"/>\n     </g>\n     <g id=\"text_9\">\n      <!-- 0.1 -->\n      <g style=\"fill: #262626\" transform=\"translate(7.2 234.015601) scale(0.11 -0.11)\">\n       <use xlink:href=\"#ArialMT-30\"/>\n       <use xlink:href=\"#ArialMT-2e\" x=\"55.615234\"/>\n       <use xlink:href=\"#ArialMT-31\" x=\"83.398438\"/>\n      </g>\n     </g>\n    </g>\n    <g id=\"ytick_3\">\n     <g id=\"line2d_3\">\n      <path d=\"M 31.99 186.845608 \nL 389.11 186.845608 \n\" clip-path=\"url(#p6599e88216)\" style=\"fill: none; stroke: #ffffff; stroke-linecap: round\"/>\n     </g>\n     <g id=\"text_10\">\n      <!-- 0.2 -->\n      <g style=\"fill: #262626\" transform=\"translate(7.2 190.782405) scale(0.11 -0.11)\">\n       <use xlink:href=\"#ArialMT-30\"/>\n       <use xlink:href=\"#ArialMT-2e\" x=\"55.615234\"/>\n       <use xlink:href=\"#ArialMT-32\" x=\"83.398438\"/>\n      </g>\n     </g>\n    </g>\n    <g id=\"ytick_4\">\n     <g id=\"line2d_4\">\n      <path d=\"M 31.99 143.612412 \nL 389.11 143.612412 \n\" clip-path=\"url(#p6599e88216)\" style=\"fill: none; stroke: #ffffff; stroke-linecap: round\"/>\n     </g>\n     <g id=\"text_11\">\n      <!-- 0.3 -->\n      <g style=\"fill: #262626\" transform=\"translate(7.2 147.549209) scale(0.11 -0.11)\">\n       <use xlink:href=\"#ArialMT-30\"/>\n       <use xlink:href=\"#ArialMT-2e\" x=\"55.615234\"/>\n       <use xlink:href=\"#ArialMT-33\" x=\"83.398438\"/>\n      </g>\n     </g>\n    </g>\n    <g id=\"ytick_5\">\n     <g id=\"line2d_5\">\n      <path d=\"M 31.99 100.379216 \nL 389.11 100.379216 \n\" clip-path=\"url(#p6599e88216)\" style=\"fill: none; stroke: #ffffff; stroke-linecap: round\"/>\n     </g>\n     <g id=\"text_12\">\n      <!-- 0.4 -->\n      <g style=\"fill: #262626\" transform=\"translate(7.2 104.316013) scale(0.11 -0.11)\">\n       <defs>\n        <path id=\"ArialMT-34\" d=\"M 2069 0 \nL 2069 1097 \nL 81 1097 \nL 81 1613 \nL 2172 4581 \nL 2631 4581 \nL 2631 1613 \nL 3250 1613 \nL 3250 1097 \nL 2631 1097 \nL 2631 0 \nL 2069 0 \nz\nM 2069 1613 \nL 2069 3678 \nL 634 1613 \nL 2069 1613 \nz\n\" transform=\"scale(0.015625)\"/>\n       </defs>\n       <use xlink:href=\"#ArialMT-30\"/>\n       <use xlink:href=\"#ArialMT-2e\" x=\"55.615234\"/>\n       <use xlink:href=\"#ArialMT-34\" x=\"83.398438\"/>\n      </g>\n     </g>\n    </g>\n    <g id=\"ytick_6\">\n     <g id=\"line2d_6\">\n      <path d=\"M 31.99 57.14602 \nL 389.11 57.14602 \n\" clip-path=\"url(#p6599e88216)\" style=\"fill: none; stroke: #ffffff; stroke-linecap: round\"/>\n     </g>\n     <g id=\"text_13\">\n      <!-- 0.5 -->\n      <g style=\"fill: #262626\" transform=\"translate(7.2 61.082817) scale(0.11 -0.11)\">\n       <use xlink:href=\"#ArialMT-30\"/>\n       <use xlink:href=\"#ArialMT-2e\" x=\"55.615234\"/>\n       <use xlink:href=\"#ArialMT-35\" x=\"83.398438\"/>\n      </g>\n     </g>\n    </g>\n    <g id=\"ytick_7\">\n     <g id=\"line2d_7\">\n      <path d=\"M 31.99 13.912824 \nL 389.11 13.912824 \n\" clip-path=\"url(#p6599e88216)\" style=\"fill: none; stroke: #ffffff; stroke-linecap: round\"/>\n     </g>\n     <g id=\"text_14\">\n      <!-- 0.6 -->\n      <g style=\"fill: #262626\" transform=\"translate(7.2 17.849621) scale(0.11 -0.11)\">\n       <use xlink:href=\"#ArialMT-30\"/>\n       <use xlink:href=\"#ArialMT-2e\" x=\"55.615234\"/>\n       <use xlink:href=\"#ArialMT-36\" x=\"83.398438\"/>\n      </g>\n     </g>\n    </g>\n   </g>\n   <g id=\"patch_3\">\n    <path d=\"M 37.091714 273.312 \nL 77.905429 273.312 \nL 77.905429 272.487549 \nL 37.091714 272.487549 \nz\n\" clip-path=\"url(#p6599e88216)\" style=\"fill: #5875a4; stroke: #ffffff; stroke-linejoin: miter\"/>\n   </g>\n   <g id=\"patch_4\">\n    <path d=\"M 88.108857 273.312 \nL 128.922571 273.312 \nL 128.922571 70.160428 \nL 88.108857 70.160428 \nz\n\" clip-path=\"url(#p6599e88216)\" style=\"fill: #cc8963; stroke: #ffffff; stroke-linejoin: miter\"/>\n   </g>\n   <g id=\"patch_5\">\n    <path d=\"M 139.126 273.312 \nL 179.939714 273.312 \nL 179.939714 223.932432 \nL 139.126 223.932432 \nz\n\" clip-path=\"url(#p6599e88216)\" style=\"fill: #5f9e6e; stroke: #ffffff; stroke-linejoin: miter\"/>\n   </g>\n   <g id=\"patch_6\">\n    <path d=\"M 190.143143 273.312 \nL 230.956857 273.312 \nL 230.956857 191.696076 \nL 190.143143 191.696076 \nz\n\" clip-path=\"url(#p6599e88216)\" style=\"fill: #b55d60; stroke: #ffffff; stroke-linejoin: miter\"/>\n   </g>\n   <g id=\"patch_7\">\n    <path d=\"M 241.160286 273.312 \nL 281.974 273.312 \nL 281.974 35.47545 \nL 241.160286 35.47545 \nz\n\" clip-path=\"url(#p6599e88216)\" style=\"fill: #857aab; stroke: #ffffff; stroke-linejoin: miter\"/>\n   </g>\n   <g id=\"patch_8\">\n    <path d=\"M 292.177429 273.312 \nL 332.991143 273.312 \nL 332.991143 248.792862 \nL 292.177429 248.792862 \nz\n\" clip-path=\"url(#p6599e88216)\" style=\"fill: #8d7866; stroke: #ffffff; stroke-linejoin: miter\"/>\n   </g>\n   <g id=\"patch_9\">\n    <path d=\"M 343.194571 273.312 \nL 384.008286 273.312 \nL 384.008286 19.872 \nL 343.194571 19.872 \nz\n\" clip-path=\"url(#p6599e88216)\" style=\"fill: #d095bf; stroke: #ffffff; stroke-linejoin: miter\"/>\n   </g>\n   <g id=\"line2d_8\">\n    <path clip-path=\"url(#p6599e88216)\" style=\"fill: none; stroke: #424242; stroke-width: 2.7; stroke-linecap: round\"/>\n   </g>\n   <g id=\"line2d_9\">\n    <path clip-path=\"url(#p6599e88216)\" style=\"fill: none; stroke: #424242; stroke-width: 2.7; stroke-linecap: round\"/>\n   </g>\n   <g id=\"line2d_10\">\n    <path clip-path=\"url(#p6599e88216)\" style=\"fill: none; stroke: #424242; stroke-width: 2.7; stroke-linecap: round\"/>\n   </g>\n   <g id=\"line2d_11\">\n    <path clip-path=\"url(#p6599e88216)\" style=\"fill: none; stroke: #424242; stroke-width: 2.7; stroke-linecap: round\"/>\n   </g>\n   <g id=\"line2d_12\">\n    <path clip-path=\"url(#p6599e88216)\" style=\"fill: none; stroke: #424242; stroke-width: 2.7; stroke-linecap: round\"/>\n   </g>\n   <g id=\"line2d_13\">\n    <path clip-path=\"url(#p6599e88216)\" style=\"fill: none; stroke: #424242; stroke-width: 2.7; stroke-linecap: round\"/>\n   </g>\n   <g id=\"line2d_14\">\n    <path clip-path=\"url(#p6599e88216)\" style=\"fill: none; stroke: #424242; stroke-width: 2.7; stroke-linecap: round\"/>\n   </g>\n   <g id=\"line2d_15\">\n    <path d=\"M 31.99 251.695402 \nL 389.11 251.695402 \n\" clip-path=\"url(#p6599e88216)\" style=\"fill: none; stroke: #c44e52; stroke-linecap: round\"/>\n   </g>\n   <g id=\"patch_10\">\n    <path d=\"M 31.99 273.312 \nL 31.99 7.2 \n\" style=\"fill: none; stroke: #ffffff; stroke-width: 1.25; stroke-linejoin: miter; stroke-linecap: square\"/>\n   </g>\n   <g id=\"patch_11\">\n    <path d=\"M 389.11 273.312 \nL 389.11 7.2 \n\" style=\"fill: none; stroke: #ffffff; stroke-width: 1.25; stroke-linejoin: miter; stroke-linecap: square\"/>\n   </g>\n   <g id=\"patch_12\">\n    <path d=\"M 31.99 273.312 \nL 389.11 273.312 \n\" style=\"fill: none; stroke: #ffffff; stroke-width: 1.25; stroke-linejoin: miter; stroke-linecap: square\"/>\n   </g>\n   <g id=\"patch_13\">\n    <path d=\"M 31.99 7.2 \nL 389.11 7.2 \n\" style=\"fill: none; stroke: #ffffff; stroke-width: 1.25; stroke-linejoin: miter; stroke-linecap: square\"/>\n   </g>\n   <g id=\"text_15\">\n    <!-- α=0.05 -->\n    <g style=\"fill: #c44e52\" transform=\"translate(42.193429 247.372082) scale(0.12 -0.12)\">\n     <defs>\n      <path id=\"ArialMT-3b1\" d=\"M 2884 3319 \nL 3459 3319 \nQ 3241 2631 3056 1659 \nQ 3275 453 3459 0 \nL 2900 0 \nQ 2766 313 2697 606 \nQ 2438 -75 1613 -75 \nQ 988 -75 606 394 \nQ 225 863 225 1666 \nQ 225 2491 608 2942 \nQ 991 3394 1622 3394 \nQ 2013 3394 2259 3236 \nQ 2506 3078 2719 2756 \nQ 2741 2866 2884 3319 \nz\nM 1716 2928 \nQ 1313 2928 1078 2603 \nQ 844 2278 844 1666 \nQ 844 1069 1066 728 \nQ 1288 388 1684 388 \nQ 2072 388 2331 723 \nQ 2591 1059 2591 1691 \nQ 2591 2303 2348 2615 \nQ 2106 2928 1716 2928 \nz\n\" transform=\"scale(0.015625)\"/>\n      <path id=\"ArialMT-3d\" d=\"M 3381 2694 \nL 356 2694 \nL 356 3219 \nL 3381 3219 \nL 3381 2694 \nz\nM 3381 1303 \nL 356 1303 \nL 356 1828 \nL 3381 1828 \nL 3381 1303 \nz\n\" transform=\"scale(0.015625)\"/>\n     </defs>\n     <use xlink:href=\"#ArialMT-3b1\"/>\n     <use xlink:href=\"#ArialMT-3d\" x=\"57.8125\"/>\n     <use xlink:href=\"#ArialMT-30\" x=\"116.210938\"/>\n     <use xlink:href=\"#ArialMT-2e\" x=\"171.826172\"/>\n     <use xlink:href=\"#ArialMT-30\" x=\"199.609375\"/>\n     <use xlink:href=\"#ArialMT-35\" x=\"255.224609\"/>\n    </g>\n   </g>\n  </g>\n </g>\n <defs>\n  <clipPath id=\"p6599e88216\">\n   <rect x=\"31.99\" y=\"7.2\" width=\"357.12\" height=\"266.112\"/>\n  </clipPath>\n </defs>\n</svg>\n",
      "text/plain": [
       "<Figure size 640x480 with 1 Axes>"
      ]
     },
     "metadata": {},
     "output_type": "display_data"
    }
   ],
   "source": [
    "sns.barplot(x=list(p_values.keys()), y=list(p_values.values()))\n",
    "\n",
    "plt.axhline(y=0.05 ,linewidth=1, color='r')\n",
    "plt.text(-0.3,0.06,\"α=0.05\", color='r')\n",
    "plt.show()"
   ]
  },
  {
   "attachments": {},
   "cell_type": "markdown",
   "metadata": {},
   "source": [
    "В целом результаты статистически значимо отличаются, но возникает вопрос почему такой сильный разброс происходит. Можно продолжить исследование данных, посмотрев кумулятивный p-value, проверить на выбросы и.т.д.\n",
    "\n",
    "Но на данный момент я был бы готов сделать вывод, что, исходя из 25го числа и общей тенденции - наша фича (Понижение коэффициента surge) не была сразу понята и не вызвала пика, но постепенно значения становятся все более и более статистически значимыми\n",
    "\n",
    "То есть мы можем отвергнуть нулевую гипотезу (изменение price-to-order конверсии после понижения коэффициента surge является статистически значимым) и принять альтернативную (то, что изменение, все таки, является статистически значимым)\n",
    "\n",
    "Тем не менее данные я бы перепроверил конечно если на это есть время и возможность"
   ]
  }
 ],
 "metadata": {
  "kernelspec": {
   "display_name": "Python 3",
   "language": "python",
   "name": "python3"
  },
  "language_info": {
   "codemirror_mode": {
    "name": "ipython",
    "version": 3
   },
   "file_extension": ".py",
   "mimetype": "text/x-python",
   "name": "python",
   "nbconvert_exporter": "python",
   "pygments_lexer": "ipython3",
   "version": "3.10.9"
  },
  "orig_nbformat": 4,
  "vscode": {
   "interpreter": {
    "hash": "46d9769e4a03f9c8a0d013aecc28fbd7cd74358c3b1961e5530525279813198c"
   }
  }
 },
 "nbformat": 4,
 "nbformat_minor": 2
}
