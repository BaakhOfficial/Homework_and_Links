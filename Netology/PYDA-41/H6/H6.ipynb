{
 "cells": [
  {
   "attachments": {},
   "cell_type": "markdown",
   "metadata": {},
   "source": [
    "Задание 1\n",
    "Печатные газеты использовали свой формат дат для каждого выпуска. Для каждой газеты из списка напишите формат указанной даты для перевода в объект datetime:\n",
    "\n",
    "The Moscow Times — Wednesday, October 2, 2002\n",
    "\n",
    "The Guardian — Friday, 11.10.13\n",
    "\n",
    "Daily News — Thursday, 18 August 1977"
   ]
  },
  {
   "cell_type": "code",
   "execution_count": 1,
   "metadata": {},
   "outputs": [
    {
     "name": "stdout",
     "output_type": "stream",
     "text": [
      "2002-10-02 00:00:00\n"
     ]
    }
   ],
   "source": [
    "import datetime as dt\n",
    "\n",
    "mt = 'Wednesday, October 2, 2002'\n",
    "tg = 'Friday, 11.10.13'\n",
    "dn = 'Thursday, 18 August 1977'\n",
    "\n",
    "mt_dt = dt.datetime.strptime(mt, '%A, %B %d, %Y')\n",
    "print(mt_dt)"
   ]
  },
  {
   "cell_type": "code",
   "execution_count": 2,
   "metadata": {},
   "outputs": [
    {
     "name": "stdout",
     "output_type": "stream",
     "text": [
      "Thursday\n"
     ]
    }
   ],
   "source": [
    "#We are don't know where the year is in The Guardian\n",
    "\n",
    "check = dt.datetime(2011, 10, 13)\n",
    "check = dt.datetime.strftime(check, '%A')\n",
    "print(check)"
   ]
  },
  {
   "cell_type": "code",
   "execution_count": 3,
   "metadata": {},
   "outputs": [
    {
     "name": "stdout",
     "output_type": "stream",
     "text": [
      "Friday\n"
     ]
    }
   ],
   "source": [
    "check = dt.datetime(2013, 10, 11)\n",
    "check = dt.datetime.strftime(check, '%A')\n",
    "print(check)"
   ]
  },
  {
   "cell_type": "code",
   "execution_count": 4,
   "metadata": {},
   "outputs": [
    {
     "name": "stdout",
     "output_type": "stream",
     "text": [
      "2013-10-11 00:00:00\n"
     ]
    }
   ],
   "source": [
    "#So year at the end\n",
    "tg_dt = dt.datetime.strptime(tg, '%A, %d.%m.%y')\n",
    "print(tg_dt)"
   ]
  },
  {
   "cell_type": "code",
   "execution_count": 5,
   "metadata": {},
   "outputs": [
    {
     "name": "stdout",
     "output_type": "stream",
     "text": [
      "1977-08-18 00:00:00\n"
     ]
    }
   ],
   "source": [
    "dn_dt = dt.datetime.strptime(dn, '%A, %d %B %Y')\n",
    "print(dn_dt)"
   ]
  },
  {
   "attachments": {},
   "cell_type": "markdown",
   "metadata": {},
   "source": [
    "Задание 2\n",
    "\n",
    "Дан поток дат в формате YYYY-MM-DD, в которых встречаются некорректные значения:\n",
    "\n",
    "stream = [‘2018-04-02’, ‘2018-02-29’, ‘2018-19-02’]\n",
    "\n",
    "Напишите функцию, которая проверяет эти даты на корректность. То есть для каждой даты возвращает True — дата корректна или False — некорректная."
   ]
  },
  {
   "cell_type": "code",
   "execution_count": 6,
   "metadata": {},
   "outputs": [
    {
     "name": "stdout",
     "output_type": "stream",
     "text": [
      "{'2018-04-02': True, '2018-02-29': False, '2018-19-02': False}\n"
     ]
    }
   ],
   "source": [
    "stream = ['2018-04-02', '2018-02-29', '2018-19-02']\n",
    "stream_check = {}\n",
    "\n",
    "for stream_date in stream:\n",
    "    try:\n",
    "        dt.datetime.strptime(stream_date, '%Y-%m-%d')\n",
    "        stream_check.setdefault(stream_date, True)\n",
    "    except:\n",
    "        stream_check.setdefault(stream_date, False)\n",
    "print(stream_check)"
   ]
  },
  {
   "attachments": {},
   "cell_type": "markdown",
   "metadata": {},
   "source": [
    "Задание 3\n",
    "Напишите функцию date_range, которая возвращает список дат за период от start_date до end_date. Даты должны вводиться в формате YYYY-MM-DD. В случае неверного формата или при start_date > end_date должен возвращаться пустой список."
   ]
  },
  {
   "cell_type": "code",
   "execution_count": 8,
   "metadata": {},
   "outputs": [
    {
     "name": "stdout",
     "output_type": "stream",
     "text": [
      "Стартовая дата = 2021-12-21\n",
      "Финальная дата = 2022-01-05\n",
      "\n",
      "Даты между ними:\n",
      "2021-12-21\n",
      "2021-12-22\n",
      "2021-12-23\n",
      "2021-12-24\n",
      "2021-12-25\n",
      "2021-12-26\n",
      "2021-12-27\n",
      "2021-12-28\n",
      "2021-12-29\n",
      "2021-12-30\n",
      "2021-12-31\n",
      "2022-01-01\n",
      "2022-01-02\n",
      "2022-01-03\n",
      "2022-01-04\n",
      "2022-01-05\n"
     ]
    }
   ],
   "source": [
    "def date_range(start_date, end_date):\n",
    "    try:\n",
    "        start_date_dt = dt.datetime.strptime(start_date, '%Y-%m-%d')\n",
    "        end_date_dt = dt.datetime.strptime(end_date, '%Y-%m-%d')\n",
    "    except:\n",
    "        print('Вы ввели даты в неверном формате')\n",
    "        return []\n",
    "    \n",
    "    day_difference = end_date_dt - start_date_dt\n",
    "    if day_difference.days < 0:\n",
    "        print('Ваша конечная дата больше стартовой')\n",
    "        return []\n",
    "    \n",
    "    print('\\nДаты между ними:')\n",
    "    while start_date_dt <= end_date_dt:\n",
    "        print(dt.datetime.strftime(start_date_dt, '%Y-%m-%d'))\n",
    "        start_date_dt += dt.timedelta(days=1)\n",
    "    \n",
    "    \n",
    "\n",
    "def main():\n",
    "    start_date = input('Введите стартовую дату в формате YYYY-MM-DD')\n",
    "    print('Стартовая дата =', start_date)\n",
    "    end_date = input('Введите финальную дату')\n",
    "    print('Финальная дата =', end_date)\n",
    "    date_r = date_range(start_date, end_date)\n",
    "\n",
    "main()"
   ]
  }
 ],
 "metadata": {
  "kernelspec": {
   "display_name": "Python 3",
   "language": "python",
   "name": "python3"
  },
  "language_info": {
   "codemirror_mode": {
    "name": "ipython",
    "version": 3
   },
   "file_extension": ".py",
   "mimetype": "text/x-python",
   "name": "python",
   "nbconvert_exporter": "python",
   "pygments_lexer": "ipython3",
   "version": "3.10.9"
  },
  "orig_nbformat": 4,
  "vscode": {
   "interpreter": {
    "hash": "46d9769e4a03f9c8a0d013aecc28fbd7cd74358c3b1961e5530525279813198c"
   }
  }
 },
 "nbformat": 4,
 "nbformat_minor": 2
}
