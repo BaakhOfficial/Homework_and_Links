{
 "cells": [
  {
   "attachments": {},
   "cell_type": "markdown",
   "metadata": {},
   "source": [
    "Смоделировать игру против лотерейного автомата типа “777”. Игрок платит 1 руб., после чего выпадает случайное целое число, равномерно распределенное от 0 до 999. При некоторых значениях числа игрок получает выигрыш.\n",
    "\n",
    "- 777: 200 руб. \n",
    "- 999: 100 руб.\n",
    "- 555: 50 руб.\n",
    "- 333: 15 руб.\n",
    "- 111: 10 руб.\n",
    "- *77: 5 руб.\n",
    "- **7: 3 руб.\n",
    "- *00: 2 руб.\n",
    "- **0: 1 руб."
   ]
  },
  {
   "attachments": {},
   "cell_type": "markdown",
   "metadata": {},
   "source": [
    "`Я решил написать полноценную функцию для неплохого такого однорукого бандита. Думал целый класс написать с разными функциями, чтобы можно было установить seed отдельно, или комбинации отдельно прописать, но это было бы слишком`\n",
    "\n",
    "Функция неидеальна, есть много проблем, проверки на ошибки нет и.т.д., но писать её было весело, все равно она не должна быть настолько сложной"
   ]
  },
  {
   "cell_type": "code",
   "execution_count": 1,
   "metadata": {},
   "outputs": [],
   "source": [
    "import numpy as np\n",
    "\n",
    "# Реализуем аппарат через функцию\n",
    "def roll(\n",
    "    amount,                 # Сколько денег у пользователя\n",
    "    price=1,                # Какова цена 1 ролла\n",
    "    seed=None,              # Seed для генератора случайных чисел\n",
    "    win_comb={'0':'0'},     # Словарь комбинаций Победная строка : выигранная сумма. * значат любое число\n",
    "    numb_amount=3           # Количество чисел в однор. бандите\n",
    "    ):\n",
    "\n",
    "    user_won = 0               # Изначально мы ничего не выиграли\n",
    "\n",
    "    # Если не было задано изначально никаких комбинаций, то установим дефолтные\n",
    "    if win_comb == {'0':'0'}:\n",
    "        win_comb = {\n",
    "            '777':200,\n",
    "            '999':100,\n",
    "            \"555\":50,\n",
    "            '333':15,\n",
    "            '111':10,\n",
    "            '*77':5,\n",
    "            '**7':3,\n",
    "            '*00':2,\n",
    "            '**0':1,\n",
    "        }\n",
    "\n",
    "    # Отсортируем наши комбинации от самой выигрышной к самой нет. Честно - не до конца понял как это происходит, но оно работает\n",
    "    win_comb = {key: val for key, val in sorted(win_comb.items(), key = lambda ele: ele[1], reverse = True)}\n",
    "    \n",
    "    # Вешаем seed из функции\n",
    "    np.random.seed(seed)\n",
    "\n",
    "    # Запуск цикла то количество раз сколько игрок сможет её запустить имея количество его средств\n",
    "    for i in range(amount//price):\n",
    "        user_won -= price                                                     # Вычитаем цену которую он заплатил из выигрыша\n",
    "        rolled_number = str(np.random.randint(0,9))                           # Первое число будет роллится вне зависимости от цикла\n",
    "        for n in range(numb_amount-1):                                        # Цикл, чтобы получить верное количество цифр\n",
    "            rolled_number += str(np.random.randint(0,9))                      # Сдвигаем на 1 позицию каждый раз\n",
    "        for win_num, prize in win_comb.items():                               # Проверяем по списку комбинаций победных\n",
    "\n",
    "            # Есть два варианта - если все число написано в win_num и если нет. Сперва проверяем второй вариант, потом первый\n",
    "            if '*' in win_num:\n",
    "                \"\"\" print(win_num) \"\"\"                                                     # Для дебага\n",
    "                interceptions = 0                                             # Количество пересечений ролла и комбинации\n",
    "                for pos, letter in enumerate(win_num):                        # Мы не знаем сколько у нас номеров, так что по одному\n",
    "                    if letter == rolled_number[pos] or letter == '*':\n",
    "                        interceptions += 1\n",
    "                        \"\"\" print(letter)\n",
    "                        print(rolled_number[pos])\n",
    "                        print(interceptions) \"\"\"\n",
    "                if interceptions == len(rolled_number):                       # Проверяем все ли совпали\n",
    "                    user_won += prize\n",
    "                    \"\"\" print(rolled_number)\n",
    "                    print(win_num)\n",
    "                    print(prize) \"\"\"                                                       # Для дебага\n",
    "                    break\n",
    "            \n",
    "            elif rolled_number == win_num:\n",
    "                user_won += prize\n",
    "                break\n",
    "                \n",
    "        \"\"\" return user_won, amount%price  \"\"\"                                             # Для дебага\n",
    "    \n",
    "    return user_won, amount%price"
   ]
  },
  {
   "cell_type": "code",
   "execution_count": 2,
   "metadata": {},
   "outputs": [
    {
     "name": "stdout",
     "output_type": "stream",
     "text": [
      "После запуска однорукого бандита 1000000 раз пользователь потерял 150241 рублей, а также у него осталось 0 рублей сдачи\n",
      "В среднем за одну игру игрок зарабатывал 0.85 с 1 рубля\n",
      "что означает, что в среднем он терял 0.150241 рубля каждую игру\n"
     ]
    }
   ],
   "source": [
    "number = 1000000\n",
    "prize, change = roll(number, seed=42)\n",
    "print('После запуска однорукого бандита', number, 'раз пользователь потерял', abs(prize), 'рублей, а также у него осталось', change, 'рублей сдачи')\n",
    "print('В среднем за одну игру игрок зарабатывал', round(prize/number + 1,3), 'с 1 рубля')\n",
    "print('что означает, что в среднем он терял', abs(prize/number), 'рубля каждую игру')"
   ]
  },
  {
   "attachments": {},
   "cell_type": "markdown",
   "metadata": {},
   "source": [
    "Простите, теперь хочу выпендриться возможностями своей функции"
   ]
  },
  {
   "cell_type": "code",
   "execution_count": 3,
   "metadata": {},
   "outputs": [
    {
     "name": "stdout",
     "output_type": "stream",
     "text": [
      "У вас было 1000000 рублей, вы заработали -995844 рублей, а также у вас осталось 8 рублей сдачи\n"
     ]
    }
   ],
   "source": [
    "number = 1000000\n",
    "prize, change = roll(number, price=14, numb_amount=5, seed=None, win_comb={\n",
    "    '77777':1000,\n",
    "    '99999':100,\n",
    "    '*7*7*':1,\n",
    "    '7*7*7':10\n",
    "})\n",
    "print('У вас было', number, 'рублей, вы заработали', prize, 'рублей, а также у вас осталось', change, 'рублей сдачи')"
   ]
  }
 ],
 "metadata": {
  "kernelspec": {
   "display_name": "Python 3",
   "language": "python",
   "name": "python3"
  },
  "language_info": {
   "codemirror_mode": {
    "name": "ipython",
    "version": 3
   },
   "file_extension": ".py",
   "mimetype": "text/x-python",
   "name": "python",
   "nbconvert_exporter": "python",
   "pygments_lexer": "ipython3",
   "version": "3.10.9"
  },
  "orig_nbformat": 4,
  "vscode": {
   "interpreter": {
    "hash": "46d9769e4a03f9c8a0d013aecc28fbd7cd74358c3b1961e5530525279813198c"
   }
  }
 },
 "nbformat": 4,
 "nbformat_minor": 2
}
